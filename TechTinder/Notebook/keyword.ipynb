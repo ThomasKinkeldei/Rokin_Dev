{
  "nbformat": 4,
  "nbformat_minor": 0,
  "metadata": {
    "colab": {
      "name": "freqORUniq.ipynb",
      "provenance": []
    },
    "kernelspec": {
      "name": "python3",
      "display_name": "Python 3"
    }
  },
  "cells": [
    {
      "cell_type": "code",
      "metadata": {
        "id": "gLaMZS4peAte",
        "colab_type": "code",
        "colab": {}
      },
      "source": [
        "import pandas as pd \n",
        "from gensim.summarization import keywords\n"
      ],
      "execution_count": 0,
      "outputs": []
    },
    {
      "cell_type": "code",
      "metadata": {
        "id": "W-qUJWoff6UI",
        "colab_type": "code",
        "colab": {}
      },
      "source": [
        "# Read data from json file\n",
        "df = pd.read_json('/content/drive/My Drive/Colab Notebooks/Data/ArticleDataset.json')\n",
        "df = df.head(20)\n",
        "\n",
        "# join heading and text column to single column\n",
        "df.columns = ['date','heading','text','link','empty']\n",
        "df['all']= df['heading'] + df['text']\n",
        "\n",
        "df = df.drop(['date','heading','text','link','empty'], axis=1 )\n"
      ],
      "execution_count": 0,
      "outputs": []
    },
    {
      "cell_type": "code",
      "metadata": {
        "id": "dfa4_aHigIT4",
        "colab_type": "code",
        "colab": {
          "base_uri": "https://localhost:8080/",
          "height": 323
        },
        "outputId": "eac94d59-6664-4de9-cf8a-76c6a8329feb"
      },
      "source": [
        "df['keywords'] = df['all'].apply(keywords)\n",
        "df.head()\n",
        "\n",
        "\n",
        "example_content = df.iloc[0]\n",
        "print(example_content['keywords'])"
      ],
      "execution_count": 26,
      "outputs": [
        {
          "output_type": "stream",
          "text": [
            "cables\n",
            "ethernet cable\n",
            "solutions\n",
            "solution\n",
            "flex\n",
            "flexes\n",
            "category\n",
            "crimp\n",
            "assemblies\n",
            "shielding\n",
            "shield\n",
            "sleeve\n",
            "transmission\n",
            "network\n",
            "drag\n",
            "management\n",
            "provides\n",
            "oils\n"
          ],
          "name": "stdout"
        }
      ]
    }
  ]
}