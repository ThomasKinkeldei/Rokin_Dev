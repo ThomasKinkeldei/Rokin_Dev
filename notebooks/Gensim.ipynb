{
 "cells": [
  {
   "cell_type": "code",
   "execution_count": 5,
   "metadata": {},
   "outputs": [
    {
     "output_type": "error",
     "ename": "TypeError",
     "evalue": "data_slicer() takes 2 positional arguments but 3 were given",
     "traceback": [
      "\u001b[0;31m---------------------------------------------------------------------------\u001b[0m",
      "\u001b[0;31mTypeError\u001b[0m                                 Traceback (most recent call last)",
      "\u001b[0;32m<ipython-input-5-ef8cfe6b45d3>\u001b[0m in \u001b[0;36m<module>\u001b[0;34m\u001b[0m\n\u001b[1;32m     19\u001b[0m \u001b[0;34m\u001b[0m\u001b[0m\n\u001b[1;32m     20\u001b[0m \u001b[0;31m# call the data slicer function\u001b[0m\u001b[0;34m\u001b[0m\u001b[0;34m\u001b[0m\u001b[0;34m\u001b[0m\u001b[0m\n\u001b[0;32m---> 21\u001b[0;31m \u001b[0mdata_slicer\u001b[0m\u001b[0;34m(\u001b[0m\u001b[0mdata_in\u001b[0m\u001b[0;34m,\u001b[0m\u001b[0mdata_out\u001b[0m\u001b[0;34m,\u001b[0m\u001b[0;36m20\u001b[0m\u001b[0;34m)\u001b[0m\u001b[0;34m\u001b[0m\u001b[0;34m\u001b[0m\u001b[0m\n\u001b[0m",
      "\u001b[0;31mTypeError\u001b[0m: data_slicer() takes 2 positional arguments but 3 were given"
     ]
    }
   ],
   "source": [
    "import pandas as pd \n",
    "from gensim.summarization import keywords\n",
    "\n",
    "import os, sys\n",
    "\n",
    "\n",
    "# relative to this notebook\n",
    "src_path = os.path.abspath(os.path.join('..'))\n",
    "src = os.path.join(src_path,\"src\")\n",
    "if src not in sys.path:\n",
    "    sys.path.append(src)\n",
    "\n",
    "from d01_data.dataSlicer import data_slicer\n",
    "\n",
    "# define the path and type of input file and out put file\n",
    "data_in = os.path.join(src_path, 'data','02_intermediate','ArticleDataset.json')\n",
    "data_out = os.path.join(src_path, 'data','02_intermediate','Article20.csv')\n",
    "\n",
    "\n",
    "# call the data slicer function\n",
    "data_slicer(data_in,data_out,20)\n"
   ]
  },
  {
   "cell_type": "code",
   "execution_count": null,
   "metadata": {},
   "outputs": [],
   "source": [
    "\n",
    "df = pd.read_csv(data_out)\n",
    "\n",
    "# join heading and text column to single column\n",
    "df.columns = ['date','heading','text','link','empty']\n",
    "df['all']= df['heading'] + df['text']\n",
    "\n",
    "# adds a new column with keywords extracted\n",
    "df['keywords'] = df['all'].apply(keywords)\n",
    "df.head()\n",
    "\n",
    "\n",
    "example_content = df.iloc[2]\n",
    "print(example_content['keywords'])"
   ]
  },
  {
   "cell_type": "code",
   "execution_count": null,
   "metadata": {},
   "outputs": [],
   "source": []
  }
 ],
 "metadata": {
  "language_info": {
   "codemirror_mode": {
    "name": "ipython",
    "version": 3
   },
   "file_extension": ".py",
   "mimetype": "text/x-python",
   "name": "python",
   "nbconvert_exporter": "python",
   "pygments_lexer": "ipython3",
   "version": "3.6.9-final"
  },
  "orig_nbformat": 2,
  "kernelspec": {
   "name": "thesis",
   "display_name": "Thesis"
  }
 },
 "nbformat": 4,
 "nbformat_minor": 2
}