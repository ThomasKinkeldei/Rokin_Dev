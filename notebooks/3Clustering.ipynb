{
 "cells": [
  {
   "cell_type": "code",
   "execution_count": 1,
   "metadata": {},
   "outputs": [],
   "source": [
    "# relative to this notebook,  adding src folder to sys.path\n",
    "src_path = os.path.abspath(os.path.join('..'))\n",
    "src = os.path.join(src_path,\"src\")\n",
    "if src not in sys.path:\n",
    "    sys.path.append(src)"
   ]
  },
  {
   "cell_type": "code",
   "execution_count": 2,
   "metadata": {},
   "outputs": [],
   "source": [
    "import pandas as pd\n",
    "import numpy as np\n",
    "\n",
    "from sklearn.cluster import DBSCAN\n",
    "from sklearn.feature_extraction.text import TfidfVectorizer\n",
    "from sklearn.decomposition import PCA\n",
    "import matplotlib.pyplot as plt\n",
    "\n",
    "# https://towardsdatascience.com/a-friendly-introduction-to-text-clustering-fa996bcefd04"
   ]
  },
  {
   "cell_type": "code",
   "execution_count": 3,
   "metadata": {},
   "outputs": [],
   "source": [
    "data_in = os.path.join(src_path, 'data','02_intermediate','ArticleDataset.json')\n",
    "article_complete = pd.read_json(data_in)\n",
    "article_small = article_complete.head(1000)\n"
   ]
  },
  {
   "cell_type": "code",
   "execution_count": 4,
   "metadata": {},
   "outputs": [],
   "source": [
    "# name the columns\n",
    "article_small.columns = ['date','heading','content','link','empty']\n",
    "\n",
    "# cut down columns\n",
    "articles = article_small[['heading','content']]\n"
   ]
  },
  {
   "cell_type": "code",
   "execution_count": 6,
   "metadata": {},
   "outputs": [],
   "source": [
    "# Data cleaning\n",
    "# https://towardsdatascience.com/nlp-for-beginners-cleaning-preprocessing-text-data-ae8e306bef0f\n",
    "\n",
    "import spacy\n",
    "\n",
    "# , disable=['parser', 'tagger', 'ner']\n",
    "nlp = spacy.load(\"en_core_web_sm\")\n",
    "stops = spacy.lang.en.stop_words.STOP_WORDS\n",
    "\n",
    "\n",
    "def normalize(comment, lowercase, remove_stopwords):\n",
    "    if lowercase:\n",
    "        comment = comment.lower()\n",
    "    comment = nlp(comment)\n",
    "    lemmatized = list()\n",
    "    for word in comment:\n",
    "        lemma = word.lemma_.strip()\n",
    "        if lemma:\n",
    "            if not remove_stopwords or (remove_stopwords and lemma not in stops):\n",
    "                lemmatized.append(lemma)\n",
    "    return \" \".join(lemmatized)\n",
    "\n",
    "\n",
    "articles['Text_After_Clean'] = articles['content'].apply(normalize, lowercase=True, remove_stopwords=True)"
   ]
  },
  {
   "cell_type": "code",
   "execution_count": 9,
   "metadata": {},
   "outputs": [
    {
     "output_type": "stream",
     "name": "stdout",
     "text": "number of clusters: 9\n"
    }
   ],
   "source": [
    "vec = TfidfVectorizer()\n",
    "vec.fit(articles.content.values)\n",
    "features = vec.transform(articles.Text_After_Clean.values)        # <--- feature matrix\n",
    "\n",
    "# try dim reduction using LSI\n",
    "# TODO\n",
    "\n",
    "# DBSCAN model, tune the parameter\n",
    "dbscan = DBSCAN(eps=0.8, min_samples=2)\n",
    "db1 = dbscan.fit(features)\n",
    "\n",
    "labels = db1.labels_\n",
    "\n",
    "n_clusters = len(set(labels)) - (1 if -1 in labels else 0)\n",
    "print(\"number of clusters:\",n_clusters)\n",
    "\n",
    "# identify core points\n",
    "#core_samples = np.zeros_like(labels,dtype =bool)\n",
    "#core_samples[dbscan.core_sample_indices_] = True\n",
    "#print(core_samples)\n",
    "\n",
    "# metric, Sillhouette score or BIC"
   ]
  }
 ],
 "metadata": {
  "language_info": {
   "codemirror_mode": {
    "name": "ipython",
    "version": 3
   },
   "file_extension": ".py",
   "mimetype": "text/x-python",
   "name": "python",
   "nbconvert_exporter": "python",
   "pygments_lexer": "ipython3",
   "version": "3.6.9-final"
  },
  "orig_nbformat": 2,
  "kernelspec": {
   "name": "thesis",
   "display_name": "Thesis"
  }
 },
 "nbformat": 4,
 "nbformat_minor": 2
}