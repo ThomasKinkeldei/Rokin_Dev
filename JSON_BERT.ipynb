{
  "nbformat": 4,
  "nbformat_minor": 0,
  "metadata": {
    "colab": {
      "name": "JSON_BERT.ipynb",
      "provenance": [],
      "collapsed_sections": [],
      "machine_shape": "hm"
    },
    "kernelspec": {
      "name": "python3",
      "display_name": "Python 3"
    },
    "accelerator": "GPU"
  },
  "cells": [
    {
      "cell_type": "code",
      "metadata": {
        "id": "4L5Yk63jTsIj",
        "colab_type": "code",
        "outputId": "f8b19201-11b6-4c7e-e843-ea1a7afb5b99",
        "colab": {
          "base_uri": "https://localhost:8080/",
          "height": 768
        }
      },
      "source": [
        "!pip install -U sentence-transformers"
      ],
      "execution_count": 1,
      "outputs": [
        {
          "output_type": "stream",
          "text": [
            "Collecting sentence-transformers\n",
            "\u001b[?25l  Downloading https://files.pythonhosted.org/packages/b9/46/b7d6c37d92d1bd65319220beabe4df845434930e3f30e42d3cfaecb74dc4/sentence-transformers-0.2.6.1.tar.gz (55kB)\n",
            "\u001b[K     |████████████████████████████████| 61kB 1.9MB/s \n",
            "\u001b[?25hCollecting transformers>=2.8.0\n",
            "\u001b[?25l  Downloading https://files.pythonhosted.org/packages/cd/38/c9527aa055241c66c4d785381eaf6f80a28c224cae97daa1f8b183b5fabb/transformers-2.9.0-py3-none-any.whl (635kB)\n",
            "\u001b[K     |████████████████████████████████| 645kB 7.2MB/s \n",
            "\u001b[?25hRequirement already satisfied, skipping upgrade: tqdm in /usr/local/lib/python3.6/dist-packages (from sentence-transformers) (4.41.1)\n",
            "Requirement already satisfied, skipping upgrade: torch>=1.0.1 in /usr/local/lib/python3.6/dist-packages (from sentence-transformers) (1.5.0+cu101)\n",
            "Requirement already satisfied, skipping upgrade: numpy in /usr/local/lib/python3.6/dist-packages (from sentence-transformers) (1.18.4)\n",
            "Requirement already satisfied, skipping upgrade: scikit-learn in /usr/local/lib/python3.6/dist-packages (from sentence-transformers) (0.22.2.post1)\n",
            "Requirement already satisfied, skipping upgrade: scipy in /usr/local/lib/python3.6/dist-packages (from sentence-transformers) (1.4.1)\n",
            "Requirement already satisfied, skipping upgrade: nltk in /usr/local/lib/python3.6/dist-packages (from sentence-transformers) (3.2.5)\n",
            "Requirement already satisfied, skipping upgrade: regex!=2019.12.17 in /usr/local/lib/python3.6/dist-packages (from transformers>=2.8.0->sentence-transformers) (2019.12.20)\n",
            "Collecting tokenizers==0.7.0\n",
            "\u001b[?25l  Downloading https://files.pythonhosted.org/packages/14/e5/a26eb4716523808bb0a799fcfdceb6ebf77a18169d9591b2f46a9adb87d9/tokenizers-0.7.0-cp36-cp36m-manylinux1_x86_64.whl (3.8MB)\n",
            "\u001b[K     |████████████████████████████████| 3.8MB 29.2MB/s \n",
            "\u001b[?25hCollecting sentencepiece\n",
            "\u001b[?25l  Downloading https://files.pythonhosted.org/packages/98/2c/8df20f3ac6c22ac224fff307ebc102818206c53fc454ecd37d8ac2060df5/sentencepiece-0.1.86-cp36-cp36m-manylinux1_x86_64.whl (1.0MB)\n",
            "\u001b[K     |████████████████████████████████| 1.0MB 41.1MB/s \n",
            "\u001b[?25hCollecting sacremoses\n",
            "\u001b[?25l  Downloading https://files.pythonhosted.org/packages/7d/34/09d19aff26edcc8eb2a01bed8e98f13a1537005d31e95233fd48216eed10/sacremoses-0.0.43.tar.gz (883kB)\n",
            "\u001b[K     |████████████████████████████████| 890kB 25.7MB/s \n",
            "\u001b[?25hRequirement already satisfied, skipping upgrade: requests in /usr/local/lib/python3.6/dist-packages (from transformers>=2.8.0->sentence-transformers) (2.23.0)\n",
            "Requirement already satisfied, skipping upgrade: filelock in /usr/local/lib/python3.6/dist-packages (from transformers>=2.8.0->sentence-transformers) (3.0.12)\n",
            "Requirement already satisfied, skipping upgrade: dataclasses; python_version < \"3.7\" in /usr/local/lib/python3.6/dist-packages (from transformers>=2.8.0->sentence-transformers) (0.7)\n",
            "Requirement already satisfied, skipping upgrade: future in /usr/local/lib/python3.6/dist-packages (from torch>=1.0.1->sentence-transformers) (0.16.0)\n",
            "Requirement already satisfied, skipping upgrade: joblib>=0.11 in /usr/local/lib/python3.6/dist-packages (from scikit-learn->sentence-transformers) (0.14.1)\n",
            "Requirement already satisfied, skipping upgrade: six in /usr/local/lib/python3.6/dist-packages (from nltk->sentence-transformers) (1.12.0)\n",
            "Requirement already satisfied, skipping upgrade: click in /usr/local/lib/python3.6/dist-packages (from sacremoses->transformers>=2.8.0->sentence-transformers) (7.1.2)\n",
            "Requirement already satisfied, skipping upgrade: chardet<4,>=3.0.2 in /usr/local/lib/python3.6/dist-packages (from requests->transformers>=2.8.0->sentence-transformers) (3.0.4)\n",
            "Requirement already satisfied, skipping upgrade: idna<3,>=2.5 in /usr/local/lib/python3.6/dist-packages (from requests->transformers>=2.8.0->sentence-transformers) (2.9)\n",
            "Requirement already satisfied, skipping upgrade: certifi>=2017.4.17 in /usr/local/lib/python3.6/dist-packages (from requests->transformers>=2.8.0->sentence-transformers) (2020.4.5.1)\n",
            "Requirement already satisfied, skipping upgrade: urllib3!=1.25.0,!=1.25.1,<1.26,>=1.21.1 in /usr/local/lib/python3.6/dist-packages (from requests->transformers>=2.8.0->sentence-transformers) (1.24.3)\n",
            "Building wheels for collected packages: sentence-transformers, sacremoses\n",
            "  Building wheel for sentence-transformers (setup.py) ... \u001b[?25l\u001b[?25hdone\n",
            "  Created wheel for sentence-transformers: filename=sentence_transformers-0.2.6.1-cp36-none-any.whl size=74031 sha256=93df3d28e662d1009c8f3c67678571fb2597e72682254d57d997bb780656a959\n",
            "  Stored in directory: /root/.cache/pip/wheels/d7/fa/17/2b081a8cd8b0a86753fb0e9826b3cc19f0207062c0b2da7008\n",
            "  Building wheel for sacremoses (setup.py) ... \u001b[?25l\u001b[?25hdone\n",
            "  Created wheel for sacremoses: filename=sacremoses-0.0.43-cp36-none-any.whl size=893260 sha256=82dde032f3e9073325d9f505135ca9a6082c8e6f9b2daaffb0d3a968c27999a8\n",
            "  Stored in directory: /root/.cache/pip/wheels/29/3c/fd/7ce5c3f0666dab31a50123635e6fb5e19ceb42ce38d4e58f45\n",
            "Successfully built sentence-transformers sacremoses\n",
            "Installing collected packages: tokenizers, sentencepiece, sacremoses, transformers, sentence-transformers\n",
            "Successfully installed sacremoses-0.0.43 sentence-transformers-0.2.6.1 sentencepiece-0.1.86 tokenizers-0.7.0 transformers-2.9.0\n"
          ],
          "name": "stdout"
        }
      ]
    },
    {
      "cell_type": "code",
      "metadata": {
        "id": "NZE4_h-gwlNJ",
        "colab_type": "code",
        "outputId": "51549343-8e11-48de-eac0-659a041cc1ff",
        "colab": {
          "base_uri": "https://localhost:8080/",
          "height": 122
        }
      },
      "source": [
        "from google.colab import drive\n",
        "drive.mount('/content/drive')"
      ],
      "execution_count": 2,
      "outputs": [
        {
          "output_type": "stream",
          "text": [
            "Go to this URL in a browser: https://accounts.google.com/o/oauth2/auth?client_id=947318989803-6bn6qk8qdgf4n4g3pfee6491hc0brc4i.apps.googleusercontent.com&redirect_uri=urn%3aietf%3awg%3aoauth%3a2.0%3aoob&response_type=code&scope=email%20https%3a%2f%2fwww.googleapis.com%2fauth%2fdocs.test%20https%3a%2f%2fwww.googleapis.com%2fauth%2fdrive%20https%3a%2f%2fwww.googleapis.com%2fauth%2fdrive.photos.readonly%20https%3a%2f%2fwww.googleapis.com%2fauth%2fpeopleapi.readonly\n",
            "\n",
            "Enter your authorization code:\n",
            "··········\n",
            "Mounted at /content/drive\n"
          ],
          "name": "stdout"
        }
      ]
    },
    {
      "cell_type": "code",
      "metadata": {
        "id": "z_zM2DFWTLZk",
        "colab_type": "code",
        "colab": {}
      },
      "source": [
        "import pandas as pd\n",
        "import glob\n",
        "from tqdm import tqdm\n",
        "import re"
      ],
      "execution_count": 0,
      "outputs": []
    },
    {
      "cell_type": "code",
      "metadata": {
        "id": "mFlZnDXWVxHh",
        "colab_type": "code",
        "colab": {}
      },
      "source": [
        "#path = r'JSON_Files/' # use your path\n",
        "all_files = glob.glob(\"/content/drive/My Drive/data/*.json\")\n",
        "\n",
        "# df = pd.read_csv('data_searchAPI/output.csv')\n",
        "li = []\n",
        "\n",
        "for filename in all_files:\n",
        "    df = pd.read_json(filename)\n",
        "    li.append(df)\n",
        "\n",
        "frame = pd.concat(li, axis=0, ignore_index=True)"
      ],
      "execution_count": 0,
      "outputs": []
    },
    {
      "cell_type": "code",
      "metadata": {
        "id": "z0SuJxEGZA0A",
        "colab_type": "code",
        "outputId": "fe0fee86-3972-4475-d13a-1c92c21e4a19",
        "colab": {
          "base_uri": "https://localhost:8080/",
          "height": 615
        }
      },
      "source": [
        "frame.head()"
      ],
      "execution_count": 25,
      "outputs": [
        {
          "output_type": "execute_result",
          "data": {
            "text/html": [
              "<div>\n",
              "<style scoped>\n",
              "    .dataframe tbody tr th:only-of-type {\n",
              "        vertical-align: middle;\n",
              "    }\n",
              "\n",
              "    .dataframe tbody tr th {\n",
              "        vertical-align: top;\n",
              "    }\n",
              "\n",
              "    .dataframe thead th {\n",
              "        text-align: right;\n",
              "    }\n",
              "</style>\n",
              "<table border=\"1\" class=\"dataframe\">\n",
              "  <thead>\n",
              "    <tr style=\"text-align: right;\">\n",
              "      <th></th>\n",
              "      <th>date</th>\n",
              "      <th>sentiment</th>\n",
              "      <th>images</th>\n",
              "      <th>author</th>\n",
              "      <th>estimatedDate</th>\n",
              "      <th>icon</th>\n",
              "      <th>diffbotUri</th>\n",
              "      <th>siteName</th>\n",
              "      <th>videos</th>\n",
              "      <th>type</th>\n",
              "      <th>title</th>\n",
              "      <th>tags</th>\n",
              "      <th>breadcrumb</th>\n",
              "      <th>humanLanguage</th>\n",
              "      <th>authorUrl</th>\n",
              "      <th>pageUrl</th>\n",
              "      <th>html</th>\n",
              "      <th>text</th>\n",
              "      <th>docId</th>\n",
              "      <th>fromSeedUrl</th>\n",
              "      <th>seedUrlHash32</th>\n",
              "      <th>parentUrlDocId</th>\n",
              "      <th>gburl</th>\n",
              "      <th>lastCrawlTimeUTC</th>\n",
              "      <th>timestamp</th>\n",
              "      <th>authors</th>\n",
              "      <th>resolvedPageUrl</th>\n",
              "      <th>publisherRegion</th>\n",
              "      <th>discussion</th>\n",
              "      <th>publisherCountry</th>\n",
              "      <th>nextPages</th>\n",
              "      <th>numPages</th>\n",
              "      <th>nextPage</th>\n",
              "    </tr>\n",
              "  </thead>\n",
              "  <tbody>\n",
              "    <tr>\n",
              "      <th>0</th>\n",
              "      <td>2016-11-22 00:00:00+00:00</td>\n",
              "      <td>0.525037</td>\n",
              "      <td>[{'naturalHeight': 360, 'width': 480, 'diffbot...</td>\n",
              "      <td>Andrew Wheeler</td>\n",
              "      <td>Tue, 22 Nov 2016 00:00:00 GMT</td>\n",
              "      <td>https://www.engineering.com/apple-touch-icon.p...</td>\n",
              "      <td>article|3|-1827328079</td>\n",
              "      <td>engineering.com</td>\n",
              "      <td>[{'diffbotUri': 'video|3|721260265', 'url': 'h...</td>\n",
              "      <td>article</td>\n",
              "      <td>Trimble Launches SketchUp Viewer Mixed Reality...</td>\n",
              "      <td>[{'score': 0.972208976745605, 'sentiment': 0, ...</td>\n",
              "      <td>[{'link': 'https://www.engineering.com/ARVR.as...</td>\n",
              "      <td>en</td>\n",
              "      <td>http://www.engineering.com/Author/ID/247579/An...</td>\n",
              "      <td>https://www.engineering.com/ARVR/ArticleID/137...</td>\n",
              "      <td>&lt;p&gt;&lt;a href=\"http://buildings.trimble.com/\"&gt;Tri...</td>\n",
              "      <td>Trimble has launched a SketchUp Viewer app for...</td>\n",
              "      <td>45899108064</td>\n",
              "      <td>https://www.engineering.com/ARVR.aspx</td>\n",
              "      <td>3876683830</td>\n",
              "      <td>267188555472</td>\n",
              "      <td>https://www.engineering.com/ARVR/ArticleID/137...</td>\n",
              "      <td>1586264670</td>\n",
              "      <td>2020-04-07 13:04:30+00:00</td>\n",
              "      <td>NaN</td>\n",
              "      <td>NaN</td>\n",
              "      <td>NaN</td>\n",
              "      <td>NaN</td>\n",
              "      <td>NaN</td>\n",
              "      <td>NaN</td>\n",
              "      <td>NaN</td>\n",
              "      <td>NaN</td>\n",
              "    </tr>\n",
              "    <tr>\n",
              "      <th>1</th>\n",
              "      <td>2016-12-07 00:00:00+00:00</td>\n",
              "      <td>0.186634</td>\n",
              "      <td>[{'naturalHeight': 430, 'width': 636, 'diffbot...</td>\n",
              "      <td>Andrew Wheeler</td>\n",
              "      <td>Wed, 07 Dec 2016 00:00:00 GMT</td>\n",
              "      <td>https://www.engineering.com/apple-touch-icon.p...</td>\n",
              "      <td>article|3|-297854813</td>\n",
              "      <td>engineering.com</td>\n",
              "      <td>NaN</td>\n",
              "      <td>article</td>\n",
              "      <td>Digital Impressions: Virtual Reality at Autode...</td>\n",
              "      <td>[{'score': 0.8609009385108941, 'sentiment': -0...</td>\n",
              "      <td>[{'link': 'https://www.engineering.com/ARVR.as...</td>\n",
              "      <td>en</td>\n",
              "      <td>http://www.engineering.com/Author/ID/247579/An...</td>\n",
              "      <td>https://www.engineering.com/ARVR/ArticleID/138...</td>\n",
              "      <td>&lt;p&gt;CTO Jeff Kowalski opened with a keynote at ...</td>\n",
              "      <td>CTO Jeff Kowalski opened with a keynote at Aut...</td>\n",
              "      <td>92693892850</td>\n",
              "      <td>https://www.engineering.com/ARVR.aspx</td>\n",
              "      <td>3876683830</td>\n",
              "      <td>162197704392</td>\n",
              "      <td>https://www.engineering.com/ARVR/ArticleID/138...</td>\n",
              "      <td>1586264672</td>\n",
              "      <td>2020-04-07 13:04:32+00:00</td>\n",
              "      <td>NaN</td>\n",
              "      <td>NaN</td>\n",
              "      <td>NaN</td>\n",
              "      <td>NaN</td>\n",
              "      <td>NaN</td>\n",
              "      <td>NaN</td>\n",
              "      <td>NaN</td>\n",
              "      <td>NaN</td>\n",
              "    </tr>\n",
              "    <tr>\n",
              "      <th>2</th>\n",
              "      <td>2017-06-08 00:00:00+00:00</td>\n",
              "      <td>0.054568</td>\n",
              "      <td>[{'naturalHeight': 295, 'width': 636, 'diffbot...</td>\n",
              "      <td>Roopinder Tara</td>\n",
              "      <td>Thu, 08 Jun 2017 00:00:00 GMT</td>\n",
              "      <td>https://www.engineering.com/apple-touch-icon.p...</td>\n",
              "      <td>article|3|-1819617404</td>\n",
              "      <td>engineering.com</td>\n",
              "      <td>[{'diffbotUri': 'video|3|1109594788', 'url': '...</td>\n",
              "      <td>article</td>\n",
              "      <td>Formula 1000 Race Car Gets All Teched Out</td>\n",
              "      <td>[{'score': 0.8445521593093871, 'sentiment': 0....</td>\n",
              "      <td>[{'link': 'https://www.engineering.com/ARVR.as...</td>\n",
              "      <td>en</td>\n",
              "      <td>http://www.engineering.com/Author/ID/296982/Ro...</td>\n",
              "      <td>https://www.engineering.com/ARVR/ArticleID/150...</td>\n",
              "      <td>&lt;figure&gt;&lt;img alt=\"The Griiip G1 – Israel’s fir...</td>\n",
              "      <td>Tamir Plachinsky wanted to build a modern Form...</td>\n",
              "      <td>27904528114</td>\n",
              "      <td>https://www.engineering.com/ARVR.aspx</td>\n",
              "      <td>3876683830</td>\n",
              "      <td>89573347058</td>\n",
              "      <td>https://www.engineering.com/ARVR/ArticleID/150...</td>\n",
              "      <td>1586264599</td>\n",
              "      <td>2020-04-07 13:03:19+00:00</td>\n",
              "      <td>NaN</td>\n",
              "      <td>NaN</td>\n",
              "      <td>NaN</td>\n",
              "      <td>NaN</td>\n",
              "      <td>NaN</td>\n",
              "      <td>NaN</td>\n",
              "      <td>NaN</td>\n",
              "      <td>NaN</td>\n",
              "    </tr>\n",
              "    <tr>\n",
              "      <th>3</th>\n",
              "      <td>2018-02-12 00:00:00+00:00</td>\n",
              "      <td>0.636367</td>\n",
              "      <td>[{'naturalHeight': 640, 'width': 360, 'diffbot...</td>\n",
              "      <td>Michael Alba</td>\n",
              "      <td>Mon, 12 Feb 2018 00:00:00 GMT</td>\n",
              "      <td>https://www.engineering.com/apple-touch-icon.p...</td>\n",
              "      <td>article|3|491827982</td>\n",
              "      <td>engineering.com</td>\n",
              "      <td>NaN</td>\n",
              "      <td>article</td>\n",
              "      <td>First Look: The Meta 2 AR Headset</td>\n",
              "      <td>[{'score': 0.9041919112205501, 'sentiment': 0,...</td>\n",
              "      <td>[{'link': 'https://www.engineering.com/ARVR.as...</td>\n",
              "      <td>en</td>\n",
              "      <td>http://www.engineering.com/Author/ID/364475/Mi...</td>\n",
              "      <td>https://www.engineering.com/ARVR/ArticleID/164...</td>\n",
              "      <td>&lt;figure&gt;&lt;img alt=\"The Meta 2 Developer Kit on ...</td>\n",
              "      <td>The Meta 2 Developer Kit on display at SOLIDWO...</td>\n",
              "      <td>128354209484</td>\n",
              "      <td>https://www.engineering.com/ARVR.aspx</td>\n",
              "      <td>3876683830</td>\n",
              "      <td>126005972719</td>\n",
              "      <td>https://www.engineering.com/ARVR/ArticleID/164...</td>\n",
              "      <td>1586264540</td>\n",
              "      <td>2020-04-07 13:02:20+00:00</td>\n",
              "      <td>NaN</td>\n",
              "      <td>NaN</td>\n",
              "      <td>NaN</td>\n",
              "      <td>NaN</td>\n",
              "      <td>NaN</td>\n",
              "      <td>NaN</td>\n",
              "      <td>NaN</td>\n",
              "      <td>NaN</td>\n",
              "    </tr>\n",
              "    <tr>\n",
              "      <th>4</th>\n",
              "      <td>2018-09-06 00:00:00+00:00</td>\n",
              "      <td>0.966122</td>\n",
              "      <td>[{'naturalHeight': 322, 'width': 636, 'diffbot...</td>\n",
              "      <td>Andrew Wheeler</td>\n",
              "      <td>Thu, 06 Sep 2018 00:00:00 GMT</td>\n",
              "      <td>https://www.engineering.com/apple-touch-icon.p...</td>\n",
              "      <td>article|3|409673416</td>\n",
              "      <td>engineering.com</td>\n",
              "      <td>[{'diffbotUri': 'video|3|-1278581345', 'url': ...</td>\n",
              "      <td>article</td>\n",
              "      <td>In Through the Looking Glass: Holographic Star...</td>\n",
              "      <td>[{'score': 0.897268712520599, 'sentiment': 0.7...</td>\n",
              "      <td>[{'link': 'https://www.engineering.com/ARVR.as...</td>\n",
              "      <td>en</td>\n",
              "      <td>http://www.engineering.com/Author/ID/247579/An...</td>\n",
              "      <td>https://www.engineering.com/ARVR/ArticleID/176...</td>\n",
              "      <td>&lt;p&gt;A startup called &lt;a href=\"https://www.kicks...</td>\n",
              "      <td>A startup called Looking Glass Factory recentl...</td>\n",
              "      <td>94659628743</td>\n",
              "      <td>https://www.engineering.com/ARVR.aspx</td>\n",
              "      <td>3876683830</td>\n",
              "      <td>52002180804</td>\n",
              "      <td>https://www.engineering.com/ARVR/ArticleID/176...</td>\n",
              "      <td>1586264452</td>\n",
              "      <td>2020-04-07 13:00:52+00:00</td>\n",
              "      <td>NaN</td>\n",
              "      <td>NaN</td>\n",
              "      <td>NaN</td>\n",
              "      <td>NaN</td>\n",
              "      <td>NaN</td>\n",
              "      <td>NaN</td>\n",
              "      <td>NaN</td>\n",
              "      <td>NaN</td>\n",
              "    </tr>\n",
              "  </tbody>\n",
              "</table>\n",
              "</div>"
            ],
            "text/plain": [
              "                       date  sentiment  ... numPages nextPage\n",
              "0 2016-11-22 00:00:00+00:00   0.525037  ...      NaN      NaN\n",
              "1 2016-12-07 00:00:00+00:00   0.186634  ...      NaN      NaN\n",
              "2 2017-06-08 00:00:00+00:00   0.054568  ...      NaN      NaN\n",
              "3 2018-02-12 00:00:00+00:00   0.636367  ...      NaN      NaN\n",
              "4 2018-09-06 00:00:00+00:00   0.966122  ...      NaN      NaN\n",
              "\n",
              "[5 rows x 33 columns]"
            ]
          },
          "metadata": {
            "tags": []
          },
          "execution_count": 25
        }
      ]
    },
    {
      "cell_type": "code",
      "metadata": {
        "id": "RJpjQVrzWfI_",
        "colab_type": "code",
        "outputId": "8a1e2ff6-1696-4042-de63-90f23210e58a",
        "colab": {
          "base_uri": "https://localhost:8080/",
          "height": 289
        }
      },
      "source": [
        "selectColumns = ['title','siteName','pageUrl','text', 'date']\n",
        "frame = frame[selectColumns]\n",
        "\n",
        "frame.head()"
      ],
      "execution_count": 26,
      "outputs": [
        {
          "output_type": "execute_result",
          "data": {
            "text/html": [
              "<div>\n",
              "<style scoped>\n",
              "    .dataframe tbody tr th:only-of-type {\n",
              "        vertical-align: middle;\n",
              "    }\n",
              "\n",
              "    .dataframe tbody tr th {\n",
              "        vertical-align: top;\n",
              "    }\n",
              "\n",
              "    .dataframe thead th {\n",
              "        text-align: right;\n",
              "    }\n",
              "</style>\n",
              "<table border=\"1\" class=\"dataframe\">\n",
              "  <thead>\n",
              "    <tr style=\"text-align: right;\">\n",
              "      <th></th>\n",
              "      <th>title</th>\n",
              "      <th>siteName</th>\n",
              "      <th>pageUrl</th>\n",
              "      <th>text</th>\n",
              "      <th>date</th>\n",
              "    </tr>\n",
              "  </thead>\n",
              "  <tbody>\n",
              "    <tr>\n",
              "      <th>0</th>\n",
              "      <td>Trimble Launches SketchUp Viewer Mixed Reality...</td>\n",
              "      <td>engineering.com</td>\n",
              "      <td>https://www.engineering.com/ARVR/ArticleID/137...</td>\n",
              "      <td>Trimble has launched a SketchUp Viewer app for...</td>\n",
              "      <td>2016-11-22 00:00:00+00:00</td>\n",
              "    </tr>\n",
              "    <tr>\n",
              "      <th>1</th>\n",
              "      <td>Digital Impressions: Virtual Reality at Autode...</td>\n",
              "      <td>engineering.com</td>\n",
              "      <td>https://www.engineering.com/ARVR/ArticleID/138...</td>\n",
              "      <td>CTO Jeff Kowalski opened with a keynote at Aut...</td>\n",
              "      <td>2016-12-07 00:00:00+00:00</td>\n",
              "    </tr>\n",
              "    <tr>\n",
              "      <th>2</th>\n",
              "      <td>Formula 1000 Race Car Gets All Teched Out</td>\n",
              "      <td>engineering.com</td>\n",
              "      <td>https://www.engineering.com/ARVR/ArticleID/150...</td>\n",
              "      <td>Tamir Plachinsky wanted to build a modern Form...</td>\n",
              "      <td>2017-06-08 00:00:00+00:00</td>\n",
              "    </tr>\n",
              "    <tr>\n",
              "      <th>3</th>\n",
              "      <td>First Look: The Meta 2 AR Headset</td>\n",
              "      <td>engineering.com</td>\n",
              "      <td>https://www.engineering.com/ARVR/ArticleID/164...</td>\n",
              "      <td>The Meta 2 Developer Kit on display at SOLIDWO...</td>\n",
              "      <td>2018-02-12 00:00:00+00:00</td>\n",
              "    </tr>\n",
              "    <tr>\n",
              "      <th>4</th>\n",
              "      <td>In Through the Looking Glass: Holographic Star...</td>\n",
              "      <td>engineering.com</td>\n",
              "      <td>https://www.engineering.com/ARVR/ArticleID/176...</td>\n",
              "      <td>A startup called Looking Glass Factory recentl...</td>\n",
              "      <td>2018-09-06 00:00:00+00:00</td>\n",
              "    </tr>\n",
              "  </tbody>\n",
              "</table>\n",
              "</div>"
            ],
            "text/plain": [
              "                                               title  ...                      date\n",
              "0  Trimble Launches SketchUp Viewer Mixed Reality...  ... 2016-11-22 00:00:00+00:00\n",
              "1  Digital Impressions: Virtual Reality at Autode...  ... 2016-12-07 00:00:00+00:00\n",
              "2          Formula 1000 Race Car Gets All Teched Out  ... 2017-06-08 00:00:00+00:00\n",
              "3                  First Look: The Meta 2 AR Headset  ... 2018-02-12 00:00:00+00:00\n",
              "4  In Through the Looking Glass: Holographic Star...  ... 2018-09-06 00:00:00+00:00\n",
              "\n",
              "[5 rows x 5 columns]"
            ]
          },
          "metadata": {
            "tags": []
          },
          "execution_count": 26
        }
      ]
    },
    {
      "cell_type": "code",
      "metadata": {
        "id": "Zr-PQln3aEKb",
        "colab_type": "code",
        "outputId": "b5a78b9b-6795-4494-92c4-f3b959c96c37",
        "colab": {
          "base_uri": "https://localhost:8080/",
          "height": 589
        }
      },
      "source": [
        "frame = frame.rename(columns={\"pageUrl\": \"url\", \"text\": \"snippet\", \"siteName\": \"domain\"})\n",
        "frame = frame.drop([\"date\"], axis=1)\n",
        "frame"
      ],
      "execution_count": 27,
      "outputs": [
        {
          "output_type": "execute_result",
          "data": {
            "text/html": [
              "<div>\n",
              "<style scoped>\n",
              "    .dataframe tbody tr th:only-of-type {\n",
              "        vertical-align: middle;\n",
              "    }\n",
              "\n",
              "    .dataframe tbody tr th {\n",
              "        vertical-align: top;\n",
              "    }\n",
              "\n",
              "    .dataframe thead th {\n",
              "        text-align: right;\n",
              "    }\n",
              "</style>\n",
              "<table border=\"1\" class=\"dataframe\">\n",
              "  <thead>\n",
              "    <tr style=\"text-align: right;\">\n",
              "      <th></th>\n",
              "      <th>title</th>\n",
              "      <th>domain</th>\n",
              "      <th>url</th>\n",
              "      <th>snippet</th>\n",
              "    </tr>\n",
              "  </thead>\n",
              "  <tbody>\n",
              "    <tr>\n",
              "      <th>0</th>\n",
              "      <td>Trimble Launches SketchUp Viewer Mixed Reality...</td>\n",
              "      <td>engineering.com</td>\n",
              "      <td>https://www.engineering.com/ARVR/ArticleID/137...</td>\n",
              "      <td>Trimble has launched a SketchUp Viewer app for...</td>\n",
              "    </tr>\n",
              "    <tr>\n",
              "      <th>1</th>\n",
              "      <td>Digital Impressions: Virtual Reality at Autode...</td>\n",
              "      <td>engineering.com</td>\n",
              "      <td>https://www.engineering.com/ARVR/ArticleID/138...</td>\n",
              "      <td>CTO Jeff Kowalski opened with a keynote at Aut...</td>\n",
              "    </tr>\n",
              "    <tr>\n",
              "      <th>2</th>\n",
              "      <td>Formula 1000 Race Car Gets All Teched Out</td>\n",
              "      <td>engineering.com</td>\n",
              "      <td>https://www.engineering.com/ARVR/ArticleID/150...</td>\n",
              "      <td>Tamir Plachinsky wanted to build a modern Form...</td>\n",
              "    </tr>\n",
              "    <tr>\n",
              "      <th>3</th>\n",
              "      <td>First Look: The Meta 2 AR Headset</td>\n",
              "      <td>engineering.com</td>\n",
              "      <td>https://www.engineering.com/ARVR/ArticleID/164...</td>\n",
              "      <td>The Meta 2 Developer Kit on display at SOLIDWO...</td>\n",
              "    </tr>\n",
              "    <tr>\n",
              "      <th>4</th>\n",
              "      <td>In Through the Looking Glass: Holographic Star...</td>\n",
              "      <td>engineering.com</td>\n",
              "      <td>https://www.engineering.com/ARVR/ArticleID/176...</td>\n",
              "      <td>A startup called Looking Glass Factory recentl...</td>\n",
              "    </tr>\n",
              "    <tr>\n",
              "      <th>...</th>\n",
              "      <td>...</td>\n",
              "      <td>...</td>\n",
              "      <td>...</td>\n",
              "      <td>...</td>\n",
              "    </tr>\n",
              "    <tr>\n",
              "      <th>20629</th>\n",
              "      <td>Colleges and Universities Work to Protect COVI...</td>\n",
              "      <td>engineering.com</td>\n",
              "      <td>https://www.engineering.com/DesignerEdge/Desig...</td>\n",
              "      <td>Projects around the world from college campuse...</td>\n",
              "    </tr>\n",
              "    <tr>\n",
              "      <th>20630</th>\n",
              "      <td>Ventilator Developed Costs Less than $300 in P...</td>\n",
              "      <td>engineering.com</td>\n",
              "      <td>https://www.engineering.com/DesignerEdge/Desig...</td>\n",
              "      <td>Hospitals all over the country are struggling ...</td>\n",
              "    </tr>\n",
              "    <tr>\n",
              "      <th>20631</th>\n",
              "      <td>COVID-19 Triggers Dip in Carbon Emissions and ...</td>\n",
              "      <td>engineering.com</td>\n",
              "      <td>https://www.engineering.com/DesignerEdge/Desig...</td>\n",
              "      <td>Similar to the way that scientists have been w...</td>\n",
              "    </tr>\n",
              "    <tr>\n",
              "      <th>20632</th>\n",
              "      <td>AI Powers Lung Imaging Analysis for Pulmonary ...</td>\n",
              "      <td>engineering.com</td>\n",
              "      <td>https://www.engineering.com/DesignerEdge/Desig...</td>\n",
              "      <td>Lung disease impacts over 500 million people g...</td>\n",
              "    </tr>\n",
              "    <tr>\n",
              "      <th>20633</th>\n",
              "      <td>University of Toronto Team Launches Flatten to...</td>\n",
              "      <td>engineering.com</td>\n",
              "      <td>https://www.engineering.com/DesignerEdge/Desig...</td>\n",
              "      <td>On March 16, 2020, a team of 25 engineering st...</td>\n",
              "    </tr>\n",
              "  </tbody>\n",
              "</table>\n",
              "<p>20634 rows × 4 columns</p>\n",
              "</div>"
            ],
            "text/plain": [
              "                                                   title  ...                                            snippet\n",
              "0      Trimble Launches SketchUp Viewer Mixed Reality...  ...  Trimble has launched a SketchUp Viewer app for...\n",
              "1      Digital Impressions: Virtual Reality at Autode...  ...  CTO Jeff Kowalski opened with a keynote at Aut...\n",
              "2              Formula 1000 Race Car Gets All Teched Out  ...  Tamir Plachinsky wanted to build a modern Form...\n",
              "3                      First Look: The Meta 2 AR Headset  ...  The Meta 2 Developer Kit on display at SOLIDWO...\n",
              "4      In Through the Looking Glass: Holographic Star...  ...  A startup called Looking Glass Factory recentl...\n",
              "...                                                  ...  ...                                                ...\n",
              "20629  Colleges and Universities Work to Protect COVI...  ...  Projects around the world from college campuse...\n",
              "20630  Ventilator Developed Costs Less than $300 in P...  ...  Hospitals all over the country are struggling ...\n",
              "20631  COVID-19 Triggers Dip in Carbon Emissions and ...  ...  Similar to the way that scientists have been w...\n",
              "20632  AI Powers Lung Imaging Analysis for Pulmonary ...  ...  Lung disease impacts over 500 million people g...\n",
              "20633  University of Toronto Team Launches Flatten to...  ...  On March 16, 2020, a team of 25 engineering st...\n",
              "\n",
              "[20634 rows x 4 columns]"
            ]
          },
          "metadata": {
            "tags": []
          },
          "execution_count": 27
        }
      ]
    },
    {
      "cell_type": "code",
      "metadata": {
        "id": "6q6l2BsecVLg",
        "colab_type": "code",
        "colab": {}
      },
      "source": [
        "path = r'GSR.json' # use your path\n",
        "# all_files = glob.glob(path + \"/*.csv\")\n",
        "\n",
        "# df = pd.read_csv('data_searchAPI/output.csv')\n",
        "# li = []\n",
        "\n",
        "# for filename in all_files:\n",
        "#    df = pd.read_csv(filename, index_col=None, header=0)\n",
        "#    li.append(df)\n",
        "\n",
        "# frame = pd.concat(li, axis=0, ignore_index=True)\n",
        "\n",
        "# frame.head()\n",
        "\n",
        "df_sv = pd.read_json(path, dtype={\n",
        "    'date': str, \n",
        "    'keyword': str\n",
        "})"
      ],
      "execution_count": 0,
      "outputs": []
    },
    {
      "cell_type": "code",
      "metadata": {
        "id": "FBsSbqohe9Ml",
        "colab_type": "code",
        "outputId": "3869d5ff-b5eb-4164-f398-3956abc9fb7a",
        "colab": {
          "base_uri": "https://localhost:8080/",
          "height": 589
        }
      },
      "source": [
        "df_sv.head()\n",
        "df = df_sv[~df_sv['Label'].isin(['Blacklisted'])]\n",
        "df = df.drop([\"timestamp\",\"keywords\", \"Label\"], axis=1)\n",
        "df"
      ],
      "execution_count": 29,
      "outputs": [
        {
          "output_type": "execute_result",
          "data": {
            "text/html": [
              "<div>\n",
              "<style scoped>\n",
              "    .dataframe tbody tr th:only-of-type {\n",
              "        vertical-align: middle;\n",
              "    }\n",
              "\n",
              "    .dataframe tbody tr th {\n",
              "        vertical-align: top;\n",
              "    }\n",
              "\n",
              "    .dataframe thead th {\n",
              "        text-align: right;\n",
              "    }\n",
              "</style>\n",
              "<table border=\"1\" class=\"dataframe\">\n",
              "  <thead>\n",
              "    <tr style=\"text-align: right;\">\n",
              "      <th></th>\n",
              "      <th>title</th>\n",
              "      <th>domain</th>\n",
              "      <th>url</th>\n",
              "      <th>snippet</th>\n",
              "    </tr>\n",
              "  </thead>\n",
              "  <tbody>\n",
              "    <tr>\n",
              "      <th>1</th>\n",
              "      <td>3D-MID Technology with Laser Direct Structurin...</td>\n",
              "      <td>www.lpkf.com</td>\n",
              "      <td>https://www.lpkf.com/en/industries-technologie...</td>\n",
              "      <td>Highly integrated electronic 3D devices. With ...</td>\n",
              "    </tr>\n",
              "    <tr>\n",
              "      <th>2</th>\n",
              "      <td>What are molded interconnect devices? - EDN</td>\n",
              "      <td>www.edn.com</td>\n",
              "      <td>https://www.edn.com/design/pc-board/4427506/Wh...</td>\n",
              "      <td>Jan 24, 2014 - Molded interconnect devices (MI...</td>\n",
              "    </tr>\n",
              "    <tr>\n",
              "      <th>3</th>\n",
              "      <td>Molded Interconnect Devices - LPKF Laser &amp; Ele...</td>\n",
              "      <td>www.lpkfusa.com</td>\n",
              "      <td>https://www.lpkfusa.com/products/mid/</td>\n",
              "      <td>LPKF Laser Direct Structuring (LDS) Molded Int...</td>\n",
              "    </tr>\n",
              "    <tr>\n",
              "      <th>4</th>\n",
              "      <td>MID / LDS Technology – Molex</td>\n",
              "      <td>www.molex.com</td>\n",
              "      <td>https://www.molex.com/molex/capabilities/mid__...</td>\n",
              "      <td>Molded interconnect devices (MIDs) and laser d...</td>\n",
              "    </tr>\n",
              "    <tr>\n",
              "      <th>5</th>\n",
              "      <td>MediSpec MID/LDS Capabilities - Molex</td>\n",
              "      <td>www.molex.com</td>\n",
              "      <td>https://www.molex.com/molex/products/family/me...</td>\n",
              "      <td>Molex combines advanced MID technology with LD...</td>\n",
              "    </tr>\n",
              "    <tr>\n",
              "      <th>...</th>\n",
              "      <td>...</td>\n",
              "      <td>...</td>\n",
              "      <td>...</td>\n",
              "      <td>...</td>\n",
              "    </tr>\n",
              "    <tr>\n",
              "      <th>1506</th>\n",
              "      <td>announced - SEC.gov</td>\n",
              "      <td>www.sec.gov</td>\n",
              "      <td>https://www.sec.gov/Archives/edgar/data/164330...</td>\n",
              "      <td>Dec 24, 2018 - The addition of these two leadi...</td>\n",
              "    </tr>\n",
              "    <tr>\n",
              "      <th>1507</th>\n",
              "      <td>Newsletter 1 - IMEC Projects</td>\n",
              "      <td>projects.imec.be</td>\n",
              "      <td>https://projects.imec.be/terasel/sites/project...</td>\n",
              "      <td>electronics and sensor circuits to be seamless...</td>\n",
              "    </tr>\n",
              "    <tr>\n",
              "      <th>1509</th>\n",
              "      <td>Manufacturers of Electronic Component Parts - ...</td>\n",
              "      <td>octopart.com</td>\n",
              "      <td>https://octopart.com/manufacturers</td>\n",
              "      <td>Octopart helps you discover manufacturers and ...</td>\n",
              "    </tr>\n",
              "    <tr>\n",
              "      <th>1510</th>\n",
              "      <td>A circular economy for plastics - HBM4EU</td>\n",
              "      <td>www.hbm4eu.eu</td>\n",
              "      <td>https://www.hbm4eu.eu/wp-content/uploads/2019/...</td>\n",
              "      <td>Koopmans (Plastics Innovation Competence Centr...</td>\n",
              "    </tr>\n",
              "    <tr>\n",
              "      <th>1512</th>\n",
              "      <td>electronics sourcing 1 0 th anniversary specia...</td>\n",
              "      <td>www.electronics-sourcing.com</td>\n",
              "      <td>http://www.electronics-sourcing.com/wp-content...</td>\n",
              "      <td>Carving out unchartered middle ... Welcome to ...</td>\n",
              "    </tr>\n",
              "  </tbody>\n",
              "</table>\n",
              "<p>906 rows × 4 columns</p>\n",
              "</div>"
            ],
            "text/plain": [
              "                                                  title  ...                                            snippet\n",
              "1     3D-MID Technology with Laser Direct Structurin...  ...  Highly integrated electronic 3D devices. With ...\n",
              "2           What are molded interconnect devices? - EDN  ...  Jan 24, 2014 - Molded interconnect devices (MI...\n",
              "3     Molded Interconnect Devices - LPKF Laser & Ele...  ...  LPKF Laser Direct Structuring (LDS) Molded Int...\n",
              "4                          MID / LDS Technology – Molex  ...  Molded interconnect devices (MIDs) and laser d...\n",
              "5                 MediSpec MID/LDS Capabilities - Molex  ...  Molex combines advanced MID technology with LD...\n",
              "...                                                 ...  ...                                                ...\n",
              "1506                                announced - SEC.gov  ...  Dec 24, 2018 - The addition of these two leadi...\n",
              "1507                       Newsletter 1 - IMEC Projects  ...  electronics and sensor circuits to be seamless...\n",
              "1509  Manufacturers of Electronic Component Parts - ...  ...  Octopart helps you discover manufacturers and ...\n",
              "1510           A circular economy for plastics - HBM4EU  ...  Koopmans (Plastics Innovation Competence Centr...\n",
              "1512  electronics sourcing 1 0 th anniversary specia...  ...  Carving out unchartered middle ... Welcome to ...\n",
              "\n",
              "[906 rows x 4 columns]"
            ]
          },
          "metadata": {
            "tags": []
          },
          "execution_count": 29
        }
      ]
    },
    {
      "cell_type": "code",
      "metadata": {
        "id": "svUbiKFNgp0m",
        "colab_type": "code",
        "colab": {}
      },
      "source": [
        "frame_data= pd.concat([frame,df])"
      ],
      "execution_count": 0,
      "outputs": []
    },
    {
      "cell_type": "code",
      "metadata": {
        "id": "Nmc095Rkgq2e",
        "colab_type": "code",
        "outputId": "ab47e9bd-4e9d-4b79-d508-dff045775223",
        "colab": {
          "base_uri": "https://localhost:8080/",
          "height": 589
        }
      },
      "source": [
        "frame_data"
      ],
      "execution_count": 31,
      "outputs": [
        {
          "output_type": "execute_result",
          "data": {
            "text/html": [
              "<div>\n",
              "<style scoped>\n",
              "    .dataframe tbody tr th:only-of-type {\n",
              "        vertical-align: middle;\n",
              "    }\n",
              "\n",
              "    .dataframe tbody tr th {\n",
              "        vertical-align: top;\n",
              "    }\n",
              "\n",
              "    .dataframe thead th {\n",
              "        text-align: right;\n",
              "    }\n",
              "</style>\n",
              "<table border=\"1\" class=\"dataframe\">\n",
              "  <thead>\n",
              "    <tr style=\"text-align: right;\">\n",
              "      <th></th>\n",
              "      <th>title</th>\n",
              "      <th>domain</th>\n",
              "      <th>url</th>\n",
              "      <th>snippet</th>\n",
              "    </tr>\n",
              "  </thead>\n",
              "  <tbody>\n",
              "    <tr>\n",
              "      <th>0</th>\n",
              "      <td>Trimble Launches SketchUp Viewer Mixed Reality...</td>\n",
              "      <td>engineering.com</td>\n",
              "      <td>https://www.engineering.com/ARVR/ArticleID/137...</td>\n",
              "      <td>Trimble has launched a SketchUp Viewer app for...</td>\n",
              "    </tr>\n",
              "    <tr>\n",
              "      <th>1</th>\n",
              "      <td>Digital Impressions: Virtual Reality at Autode...</td>\n",
              "      <td>engineering.com</td>\n",
              "      <td>https://www.engineering.com/ARVR/ArticleID/138...</td>\n",
              "      <td>CTO Jeff Kowalski opened with a keynote at Aut...</td>\n",
              "    </tr>\n",
              "    <tr>\n",
              "      <th>2</th>\n",
              "      <td>Formula 1000 Race Car Gets All Teched Out</td>\n",
              "      <td>engineering.com</td>\n",
              "      <td>https://www.engineering.com/ARVR/ArticleID/150...</td>\n",
              "      <td>Tamir Plachinsky wanted to build a modern Form...</td>\n",
              "    </tr>\n",
              "    <tr>\n",
              "      <th>3</th>\n",
              "      <td>First Look: The Meta 2 AR Headset</td>\n",
              "      <td>engineering.com</td>\n",
              "      <td>https://www.engineering.com/ARVR/ArticleID/164...</td>\n",
              "      <td>The Meta 2 Developer Kit on display at SOLIDWO...</td>\n",
              "    </tr>\n",
              "    <tr>\n",
              "      <th>4</th>\n",
              "      <td>In Through the Looking Glass: Holographic Star...</td>\n",
              "      <td>engineering.com</td>\n",
              "      <td>https://www.engineering.com/ARVR/ArticleID/176...</td>\n",
              "      <td>A startup called Looking Glass Factory recentl...</td>\n",
              "    </tr>\n",
              "    <tr>\n",
              "      <th>...</th>\n",
              "      <td>...</td>\n",
              "      <td>...</td>\n",
              "      <td>...</td>\n",
              "      <td>...</td>\n",
              "    </tr>\n",
              "    <tr>\n",
              "      <th>1506</th>\n",
              "      <td>announced - SEC.gov</td>\n",
              "      <td>www.sec.gov</td>\n",
              "      <td>https://www.sec.gov/Archives/edgar/data/164330...</td>\n",
              "      <td>Dec 24, 2018 - The addition of these two leadi...</td>\n",
              "    </tr>\n",
              "    <tr>\n",
              "      <th>1507</th>\n",
              "      <td>Newsletter 1 - IMEC Projects</td>\n",
              "      <td>projects.imec.be</td>\n",
              "      <td>https://projects.imec.be/terasel/sites/project...</td>\n",
              "      <td>electronics and sensor circuits to be seamless...</td>\n",
              "    </tr>\n",
              "    <tr>\n",
              "      <th>1509</th>\n",
              "      <td>Manufacturers of Electronic Component Parts - ...</td>\n",
              "      <td>octopart.com</td>\n",
              "      <td>https://octopart.com/manufacturers</td>\n",
              "      <td>Octopart helps you discover manufacturers and ...</td>\n",
              "    </tr>\n",
              "    <tr>\n",
              "      <th>1510</th>\n",
              "      <td>A circular economy for plastics - HBM4EU</td>\n",
              "      <td>www.hbm4eu.eu</td>\n",
              "      <td>https://www.hbm4eu.eu/wp-content/uploads/2019/...</td>\n",
              "      <td>Koopmans (Plastics Innovation Competence Centr...</td>\n",
              "    </tr>\n",
              "    <tr>\n",
              "      <th>1512</th>\n",
              "      <td>electronics sourcing 1 0 th anniversary specia...</td>\n",
              "      <td>www.electronics-sourcing.com</td>\n",
              "      <td>http://www.electronics-sourcing.com/wp-content...</td>\n",
              "      <td>Carving out unchartered middle ... Welcome to ...</td>\n",
              "    </tr>\n",
              "  </tbody>\n",
              "</table>\n",
              "<p>21540 rows × 4 columns</p>\n",
              "</div>"
            ],
            "text/plain": [
              "                                                  title  ...                                            snippet\n",
              "0     Trimble Launches SketchUp Viewer Mixed Reality...  ...  Trimble has launched a SketchUp Viewer app for...\n",
              "1     Digital Impressions: Virtual Reality at Autode...  ...  CTO Jeff Kowalski opened with a keynote at Aut...\n",
              "2             Formula 1000 Race Car Gets All Teched Out  ...  Tamir Plachinsky wanted to build a modern Form...\n",
              "3                     First Look: The Meta 2 AR Headset  ...  The Meta 2 Developer Kit on display at SOLIDWO...\n",
              "4     In Through the Looking Glass: Holographic Star...  ...  A startup called Looking Glass Factory recentl...\n",
              "...                                                 ...  ...                                                ...\n",
              "1506                                announced - SEC.gov  ...  Dec 24, 2018 - The addition of these two leadi...\n",
              "1507                       Newsletter 1 - IMEC Projects  ...  electronics and sensor circuits to be seamless...\n",
              "1509  Manufacturers of Electronic Component Parts - ...  ...  Octopart helps you discover manufacturers and ...\n",
              "1510           A circular economy for plastics - HBM4EU  ...  Koopmans (Plastics Innovation Competence Centr...\n",
              "1512  electronics sourcing 1 0 th anniversary specia...  ...  Carving out unchartered middle ... Welcome to ...\n",
              "\n",
              "[21540 rows x 4 columns]"
            ]
          },
          "metadata": {
            "tags": []
          },
          "execution_count": 31
        }
      ]
    },
    {
      "cell_type": "code",
      "metadata": {
        "id": "3ped-kQRhm9Z",
        "colab_type": "code",
        "outputId": "d475724b-03f5-4e3d-8820-135c4419c6d5",
        "colab": {
          "base_uri": "https://localhost:8080/",
          "height": 51
        }
      },
      "source": [
        "print(frame_data.duplicated().sum())\n",
        "print(frame_data.snippet.isnull().sum())"
      ],
      "execution_count": 32,
      "outputs": [
        {
          "output_type": "stream",
          "text": [
            "0\n",
            "0\n"
          ],
          "name": "stdout"
        }
      ]
    },
    {
      "cell_type": "code",
      "metadata": {
        "id": "LBmcWmLCizQn",
        "colab_type": "code",
        "outputId": "2afeaa0f-9a49-461e-a2b1-fbd48d1d6fa7",
        "colab": {
          "base_uri": "https://localhost:8080/",
          "height": 589
        }
      },
      "source": [
        "frame_data.drop_duplicates(keep='first')"
      ],
      "execution_count": 33,
      "outputs": [
        {
          "output_type": "execute_result",
          "data": {
            "text/html": [
              "<div>\n",
              "<style scoped>\n",
              "    .dataframe tbody tr th:only-of-type {\n",
              "        vertical-align: middle;\n",
              "    }\n",
              "\n",
              "    .dataframe tbody tr th {\n",
              "        vertical-align: top;\n",
              "    }\n",
              "\n",
              "    .dataframe thead th {\n",
              "        text-align: right;\n",
              "    }\n",
              "</style>\n",
              "<table border=\"1\" class=\"dataframe\">\n",
              "  <thead>\n",
              "    <tr style=\"text-align: right;\">\n",
              "      <th></th>\n",
              "      <th>title</th>\n",
              "      <th>domain</th>\n",
              "      <th>url</th>\n",
              "      <th>snippet</th>\n",
              "    </tr>\n",
              "  </thead>\n",
              "  <tbody>\n",
              "    <tr>\n",
              "      <th>0</th>\n",
              "      <td>Trimble Launches SketchUp Viewer Mixed Reality...</td>\n",
              "      <td>engineering.com</td>\n",
              "      <td>https://www.engineering.com/ARVR/ArticleID/137...</td>\n",
              "      <td>Trimble has launched a SketchUp Viewer app for...</td>\n",
              "    </tr>\n",
              "    <tr>\n",
              "      <th>1</th>\n",
              "      <td>Digital Impressions: Virtual Reality at Autode...</td>\n",
              "      <td>engineering.com</td>\n",
              "      <td>https://www.engineering.com/ARVR/ArticleID/138...</td>\n",
              "      <td>CTO Jeff Kowalski opened with a keynote at Aut...</td>\n",
              "    </tr>\n",
              "    <tr>\n",
              "      <th>2</th>\n",
              "      <td>Formula 1000 Race Car Gets All Teched Out</td>\n",
              "      <td>engineering.com</td>\n",
              "      <td>https://www.engineering.com/ARVR/ArticleID/150...</td>\n",
              "      <td>Tamir Plachinsky wanted to build a modern Form...</td>\n",
              "    </tr>\n",
              "    <tr>\n",
              "      <th>3</th>\n",
              "      <td>First Look: The Meta 2 AR Headset</td>\n",
              "      <td>engineering.com</td>\n",
              "      <td>https://www.engineering.com/ARVR/ArticleID/164...</td>\n",
              "      <td>The Meta 2 Developer Kit on display at SOLIDWO...</td>\n",
              "    </tr>\n",
              "    <tr>\n",
              "      <th>4</th>\n",
              "      <td>In Through the Looking Glass: Holographic Star...</td>\n",
              "      <td>engineering.com</td>\n",
              "      <td>https://www.engineering.com/ARVR/ArticleID/176...</td>\n",
              "      <td>A startup called Looking Glass Factory recentl...</td>\n",
              "    </tr>\n",
              "    <tr>\n",
              "      <th>...</th>\n",
              "      <td>...</td>\n",
              "      <td>...</td>\n",
              "      <td>...</td>\n",
              "      <td>...</td>\n",
              "    </tr>\n",
              "    <tr>\n",
              "      <th>1506</th>\n",
              "      <td>announced - SEC.gov</td>\n",
              "      <td>www.sec.gov</td>\n",
              "      <td>https://www.sec.gov/Archives/edgar/data/164330...</td>\n",
              "      <td>Dec 24, 2018 - The addition of these two leadi...</td>\n",
              "    </tr>\n",
              "    <tr>\n",
              "      <th>1507</th>\n",
              "      <td>Newsletter 1 - IMEC Projects</td>\n",
              "      <td>projects.imec.be</td>\n",
              "      <td>https://projects.imec.be/terasel/sites/project...</td>\n",
              "      <td>electronics and sensor circuits to be seamless...</td>\n",
              "    </tr>\n",
              "    <tr>\n",
              "      <th>1509</th>\n",
              "      <td>Manufacturers of Electronic Component Parts - ...</td>\n",
              "      <td>octopart.com</td>\n",
              "      <td>https://octopart.com/manufacturers</td>\n",
              "      <td>Octopart helps you discover manufacturers and ...</td>\n",
              "    </tr>\n",
              "    <tr>\n",
              "      <th>1510</th>\n",
              "      <td>A circular economy for plastics - HBM4EU</td>\n",
              "      <td>www.hbm4eu.eu</td>\n",
              "      <td>https://www.hbm4eu.eu/wp-content/uploads/2019/...</td>\n",
              "      <td>Koopmans (Plastics Innovation Competence Centr...</td>\n",
              "    </tr>\n",
              "    <tr>\n",
              "      <th>1512</th>\n",
              "      <td>electronics sourcing 1 0 th anniversary specia...</td>\n",
              "      <td>www.electronics-sourcing.com</td>\n",
              "      <td>http://www.electronics-sourcing.com/wp-content...</td>\n",
              "      <td>Carving out unchartered middle ... Welcome to ...</td>\n",
              "    </tr>\n",
              "  </tbody>\n",
              "</table>\n",
              "<p>21540 rows × 4 columns</p>\n",
              "</div>"
            ],
            "text/plain": [
              "                                                  title  ...                                            snippet\n",
              "0     Trimble Launches SketchUp Viewer Mixed Reality...  ...  Trimble has launched a SketchUp Viewer app for...\n",
              "1     Digital Impressions: Virtual Reality at Autode...  ...  CTO Jeff Kowalski opened with a keynote at Aut...\n",
              "2             Formula 1000 Race Car Gets All Teched Out  ...  Tamir Plachinsky wanted to build a modern Form...\n",
              "3                     First Look: The Meta 2 AR Headset  ...  The Meta 2 Developer Kit on display at SOLIDWO...\n",
              "4     In Through the Looking Glass: Holographic Star...  ...  A startup called Looking Glass Factory recentl...\n",
              "...                                                 ...  ...                                                ...\n",
              "1506                                announced - SEC.gov  ...  Dec 24, 2018 - The addition of these two leadi...\n",
              "1507                       Newsletter 1 - IMEC Projects  ...  electronics and sensor circuits to be seamless...\n",
              "1509  Manufacturers of Electronic Component Parts - ...  ...  Octopart helps you discover manufacturers and ...\n",
              "1510           A circular economy for plastics - HBM4EU  ...  Koopmans (Plastics Innovation Competence Centr...\n",
              "1512  electronics sourcing 1 0 th anniversary specia...  ...  Carving out unchartered middle ... Welcome to ...\n",
              "\n",
              "[21540 rows x 4 columns]"
            ]
          },
          "metadata": {
            "tags": []
          },
          "execution_count": 33
        }
      ]
    },
    {
      "cell_type": "code",
      "metadata": {
        "id": "5Jfy8NERi7e8",
        "colab_type": "code",
        "outputId": "0d85a03c-5eb4-40a7-9c47-75602da68b0a",
        "colab": {
          "base_uri": "https://localhost:8080/",
          "height": 204
        }
      },
      "source": [
        "frame_data['snippet'].fillna('no description', inplace=True)\n",
        "frame_data['title'].fillna('no title', inplace=True)\n",
        "frame_data.info()"
      ],
      "execution_count": 34,
      "outputs": [
        {
          "output_type": "stream",
          "text": [
            "<class 'pandas.core.frame.DataFrame'>\n",
            "Int64Index: 21540 entries, 0 to 1512\n",
            "Data columns (total 4 columns):\n",
            " #   Column   Non-Null Count  Dtype \n",
            "---  ------   --------------  ----- \n",
            " 0   title    21540 non-null  object\n",
            " 1   domain   21540 non-null  object\n",
            " 2   url      21540 non-null  object\n",
            " 3   snippet  21540 non-null  object\n",
            "dtypes: object(4)\n",
            "memory usage: 841.4+ KB\n"
          ],
          "name": "stdout"
        }
      ]
    },
    {
      "cell_type": "code",
      "metadata": {
        "id": "68Iy3cySoWHD",
        "colab_type": "code",
        "colab": {}
      },
      "source": [
        "frame_data['snippet'] = frame_data['snippet'].apply(lambda x: re.sub('[^a-zA-z0-9\\s]','',x))"
      ],
      "execution_count": 0,
      "outputs": []
    },
    {
      "cell_type": "code",
      "metadata": {
        "id": "jXsTFRaBoY0_",
        "colab_type": "code",
        "outputId": "f3b6ca1d-48e5-455c-8f43-971fcbfb2161",
        "colab": {
          "base_uri": "https://localhost:8080/",
          "height": 589
        }
      },
      "source": [
        "frame_data"
      ],
      "execution_count": 36,
      "outputs": [
        {
          "output_type": "execute_result",
          "data": {
            "text/html": [
              "<div>\n",
              "<style scoped>\n",
              "    .dataframe tbody tr th:only-of-type {\n",
              "        vertical-align: middle;\n",
              "    }\n",
              "\n",
              "    .dataframe tbody tr th {\n",
              "        vertical-align: top;\n",
              "    }\n",
              "\n",
              "    .dataframe thead th {\n",
              "        text-align: right;\n",
              "    }\n",
              "</style>\n",
              "<table border=\"1\" class=\"dataframe\">\n",
              "  <thead>\n",
              "    <tr style=\"text-align: right;\">\n",
              "      <th></th>\n",
              "      <th>title</th>\n",
              "      <th>domain</th>\n",
              "      <th>url</th>\n",
              "      <th>snippet</th>\n",
              "    </tr>\n",
              "  </thead>\n",
              "  <tbody>\n",
              "    <tr>\n",
              "      <th>0</th>\n",
              "      <td>Trimble Launches SketchUp Viewer Mixed Reality...</td>\n",
              "      <td>engineering.com</td>\n",
              "      <td>https://www.engineering.com/ARVR/ArticleID/137...</td>\n",
              "      <td>Trimble has launched a SketchUp Viewer app for...</td>\n",
              "    </tr>\n",
              "    <tr>\n",
              "      <th>1</th>\n",
              "      <td>Digital Impressions: Virtual Reality at Autode...</td>\n",
              "      <td>engineering.com</td>\n",
              "      <td>https://www.engineering.com/ARVR/ArticleID/138...</td>\n",
              "      <td>CTO Jeff Kowalski opened with a keynote at Aut...</td>\n",
              "    </tr>\n",
              "    <tr>\n",
              "      <th>2</th>\n",
              "      <td>Formula 1000 Race Car Gets All Teched Out</td>\n",
              "      <td>engineering.com</td>\n",
              "      <td>https://www.engineering.com/ARVR/ArticleID/150...</td>\n",
              "      <td>Tamir Plachinsky wanted to build a modern Form...</td>\n",
              "    </tr>\n",
              "    <tr>\n",
              "      <th>3</th>\n",
              "      <td>First Look: The Meta 2 AR Headset</td>\n",
              "      <td>engineering.com</td>\n",
              "      <td>https://www.engineering.com/ARVR/ArticleID/164...</td>\n",
              "      <td>The Meta 2 Developer Kit on display at SOLIDWO...</td>\n",
              "    </tr>\n",
              "    <tr>\n",
              "      <th>4</th>\n",
              "      <td>In Through the Looking Glass: Holographic Star...</td>\n",
              "      <td>engineering.com</td>\n",
              "      <td>https://www.engineering.com/ARVR/ArticleID/176...</td>\n",
              "      <td>A startup called Looking Glass Factory recentl...</td>\n",
              "    </tr>\n",
              "    <tr>\n",
              "      <th>...</th>\n",
              "      <td>...</td>\n",
              "      <td>...</td>\n",
              "      <td>...</td>\n",
              "      <td>...</td>\n",
              "    </tr>\n",
              "    <tr>\n",
              "      <th>1506</th>\n",
              "      <td>announced - SEC.gov</td>\n",
              "      <td>www.sec.gov</td>\n",
              "      <td>https://www.sec.gov/Archives/edgar/data/164330...</td>\n",
              "      <td>Dec 24 2018  The addition of these two leading...</td>\n",
              "    </tr>\n",
              "    <tr>\n",
              "      <th>1507</th>\n",
              "      <td>Newsletter 1 - IMEC Projects</td>\n",
              "      <td>projects.imec.be</td>\n",
              "      <td>https://projects.imec.be/terasel/sites/project...</td>\n",
              "      <td>electronics and sensor circuits to be seamless...</td>\n",
              "    </tr>\n",
              "    <tr>\n",
              "      <th>1509</th>\n",
              "      <td>Manufacturers of Electronic Component Parts - ...</td>\n",
              "      <td>octopart.com</td>\n",
              "      <td>https://octopart.com/manufacturers</td>\n",
              "      <td>Octopart helps you discover manufacturers and ...</td>\n",
              "    </tr>\n",
              "    <tr>\n",
              "      <th>1510</th>\n",
              "      <td>A circular economy for plastics - HBM4EU</td>\n",
              "      <td>www.hbm4eu.eu</td>\n",
              "      <td>https://www.hbm4eu.eu/wp-content/uploads/2019/...</td>\n",
              "      <td>Koopmans Plastics Innovation Competence Centre...</td>\n",
              "    </tr>\n",
              "    <tr>\n",
              "      <th>1512</th>\n",
              "      <td>electronics sourcing 1 0 th anniversary specia...</td>\n",
              "      <td>www.electronics-sourcing.com</td>\n",
              "      <td>http://www.electronics-sourcing.com/wp-content...</td>\n",
              "      <td>Carving out unchartered middle  Welcome to Ele...</td>\n",
              "    </tr>\n",
              "  </tbody>\n",
              "</table>\n",
              "<p>21540 rows × 4 columns</p>\n",
              "</div>"
            ],
            "text/plain": [
              "                                                  title  ...                                            snippet\n",
              "0     Trimble Launches SketchUp Viewer Mixed Reality...  ...  Trimble has launched a SketchUp Viewer app for...\n",
              "1     Digital Impressions: Virtual Reality at Autode...  ...  CTO Jeff Kowalski opened with a keynote at Aut...\n",
              "2             Formula 1000 Race Car Gets All Teched Out  ...  Tamir Plachinsky wanted to build a modern Form...\n",
              "3                     First Look: The Meta 2 AR Headset  ...  The Meta 2 Developer Kit on display at SOLIDWO...\n",
              "4     In Through the Looking Glass: Holographic Star...  ...  A startup called Looking Glass Factory recentl...\n",
              "...                                                 ...  ...                                                ...\n",
              "1506                                announced - SEC.gov  ...  Dec 24 2018  The addition of these two leading...\n",
              "1507                       Newsletter 1 - IMEC Projects  ...  electronics and sensor circuits to be seamless...\n",
              "1509  Manufacturers of Electronic Component Parts - ...  ...  Octopart helps you discover manufacturers and ...\n",
              "1510           A circular economy for plastics - HBM4EU  ...  Koopmans Plastics Innovation Competence Centre...\n",
              "1512  electronics sourcing 1 0 th anniversary specia...  ...  Carving out unchartered middle  Welcome to Ele...\n",
              "\n",
              "[21540 rows x 4 columns]"
            ]
          },
          "metadata": {
            "tags": []
          },
          "execution_count": 36
        }
      ]
    },
    {
      "cell_type": "code",
      "metadata": {
        "id": "SiE2h1LVpCCI",
        "colab_type": "code",
        "outputId": "e36f0b96-bad5-4e2c-a46f-8cbf016aac14",
        "colab": {
          "base_uri": "https://localhost:8080/",
          "height": 34
        }
      },
      "source": [
        "df_dict = frame_data.to_dict()\n",
        "len_text = len(df_dict[\"title\"])\n",
        "len_text"
      ],
      "execution_count": 37,
      "outputs": [
        {
          "output_type": "execute_result",
          "data": {
            "text/plain": [
              "20634"
            ]
          },
          "metadata": {
            "tags": []
          },
          "execution_count": 37
        }
      ]
    },
    {
      "cell_type": "code",
      "metadata": {
        "id": "89HqkZFrpU3q",
        "colab_type": "code",
        "outputId": "62dbc6ab-0daf-48ba-8e9d-b875101225c0",
        "colab": {
          "base_uri": "https://localhost:8080/",
          "height": 34
        }
      },
      "source": [
        "#keyword_list  = [] # keyword\n",
        "snippet_description_list = [] # snippet_description\n",
        "snippet_list = [] # snippet\n",
        "title_list = [] # title\n",
        "url_list = [] # url \n",
        "domain_list = [] # domain\n",
        "for i in tqdm(range(0,len_text)):\n",
        "  snippet = df_dict[\"snippet\"][i].split(\"\\n\")\n",
        "  snippet_description = df_dict[\"snippet\"][i]\n",
        "  title = df_dict[\"title\"][i]\n",
        "  url = df_dict[\"url\"][i]\n",
        "  domain = df_dict[\"domain\"][i]\n",
        "  for b in snippet:\n",
        "    #keyword_list.append(keyword)\n",
        "    snippet_list.append(b)\n",
        "    snippet_description_list.append(snippet)\n",
        "    title_list.append(title)\n",
        "    url_list.append(url)\n",
        "    domain_list.append(domain)"
      ],
      "execution_count": 38,
      "outputs": [
        {
          "output_type": "stream",
          "text": [
            "100%|██████████| 20634/20634 [00:00<00:00, 94583.86it/s] \n"
          ],
          "name": "stderr"
        }
      ]
    },
    {
      "cell_type": "code",
      "metadata": {
        "id": "xrOv4AIdpWEI",
        "colab_type": "code",
        "outputId": "c6113fb8-7cd4-4f61-f288-eb500005a522",
        "colab": {
          "base_uri": "https://localhost:8080/",
          "height": 629
        }
      },
      "source": [
        "df_sentences = pd.DataFrame({\"title\":title_list},index=snippet_list)\n",
        "df_sentences.to_csv(\"keyword.csv\")\n",
        "df_sentences.head()"
      ],
      "execution_count": 39,
      "outputs": [
        {
          "output_type": "execute_result",
          "data": {
            "text/html": [
              "<div>\n",
              "<style scoped>\n",
              "    .dataframe tbody tr th:only-of-type {\n",
              "        vertical-align: middle;\n",
              "    }\n",
              "\n",
              "    .dataframe tbody tr th {\n",
              "        vertical-align: top;\n",
              "    }\n",
              "\n",
              "    .dataframe thead th {\n",
              "        text-align: right;\n",
              "    }\n",
              "</style>\n",
              "<table border=\"1\" class=\"dataframe\">\n",
              "  <thead>\n",
              "    <tr style=\"text-align: right;\">\n",
              "      <th></th>\n",
              "      <th>title</th>\n",
              "    </tr>\n",
              "  </thead>\n",
              "  <tbody>\n",
              "    <tr>\n",
              "      <th>Trimble has launched a SketchUp Viewer app for Microsoft HoloLens It allows you to visualize and manipulate digital models over physical structures that serve the architecture engineering and construction sectors The promotional material is very cool and the app itself seems amazing There are many architecture engineering construction and operations AECO professionals who use SketchUp alongside many 3D design professionals in other sectors The main idea is that by digitally overlaying models onto physical environments you do not have to produce them physically by any digital fabrication method such as 3D printing and CNC machining</th>\n",
              "      <td>Trimble Launches SketchUp Viewer Mixed Reality...</td>\n",
              "    </tr>\n",
              "    <tr>\n",
              "      <th>SketchUps Viewer app was launched at Trimble Dimensions 2016 which ran from Nov 7 to 9 in Las Vegas The SketchUp Viewer for Microsoft HoloLens was introduced by renowned architect Greg Lynn with Trimble CEO Steve Berglund by his side</th>\n",
              "      <td>Trimble Launches SketchUp Viewer Mixed Reality...</td>\n",
              "    </tr>\n",
              "    <tr>\n",
              "      <th>Their partnership was mentioned in a press release from Trimble on May 27 which stated that architect Greg Lynn used its mixedreality technology and Microsoft HoloLens to reimagine and design the Packard Plantthe historic abandoned automobile factory in Detroit The architectural project was commissioned as part of the US Pavilion and will be featured at the 2016 Venice Biennale exhibition in Italy from May 28 through Nov 27</th>\n",
              "      <td>Trimble Launches SketchUp Viewer Mixed Reality...</td>\n",
              "    </tr>\n",
              "    <tr>\n",
              "      <th>Ive never worn or experienced a HoloLens though I did recently at Autodesk University last week but Im aware of its capabilities The Windows Holographic OS is meant to extend 2D apps into 3D and Ive seen the demos where you can drop 3D models and applications into a room leave the room and come back to see them right where you left them</th>\n",
              "      <td>Trimble Launches SketchUp Viewer Mixed Reality...</td>\n",
              "    </tr>\n",
              "    <tr>\n",
              "      <th>This is the first dedicated AECO app for Microsoft HoloLens that is available on the Windows app store The line of time from origin to creation can be traced through the combined efforts of Google where SketchUp was born and Trimble which purchased SketchUp from Google in 2012 to now where it is fully integrated with Microsoft HoloLens and available on the Windows store</th>\n",
              "      <td>Trimble Launches SketchUp Viewer Mixed Reality...</td>\n",
              "    </tr>\n",
              "  </tbody>\n",
              "</table>\n",
              "</div>"
            ],
            "text/plain": [
              "                                                                                                title\n",
              "Trimble has launched a SketchUp Viewer app for ...  Trimble Launches SketchUp Viewer Mixed Reality...\n",
              "SketchUps Viewer app was launched at Trimble Di...  Trimble Launches SketchUp Viewer Mixed Reality...\n",
              "Their partnership was mentioned in a press rele...  Trimble Launches SketchUp Viewer Mixed Reality...\n",
              "Ive never worn or experienced a HoloLens though...  Trimble Launches SketchUp Viewer Mixed Reality...\n",
              "This is the first dedicated AECO app for Micros...  Trimble Launches SketchUp Viewer Mixed Reality..."
            ]
          },
          "metadata": {
            "tags": []
          },
          "execution_count": 39
        }
      ]
    },
    {
      "cell_type": "code",
      "metadata": {
        "id": "v_cy4dflrERs",
        "colab_type": "code",
        "outputId": "49624fc0-0866-49d6-c81b-1b411bb39753",
        "colab": {
          "base_uri": "https://localhost:8080/",
          "height": 816
        }
      },
      "source": [
        "df_sentences = pd.DataFrame({\"title\":title_list,\"url\":url_list,\"domain\":domain_list, \"snippet_description\": snippet_description_list },index=snippet_list)\n",
        "df_sentences.to_csv(\"Processed_Full.csv\")\n",
        "df_sentences.head()\n",
        "# \"keyword\":keyword_list,"
      ],
      "execution_count": 40,
      "outputs": [
        {
          "output_type": "execute_result",
          "data": {
            "text/html": [
              "<div>\n",
              "<style scoped>\n",
              "    .dataframe tbody tr th:only-of-type {\n",
              "        vertical-align: middle;\n",
              "    }\n",
              "\n",
              "    .dataframe tbody tr th {\n",
              "        vertical-align: top;\n",
              "    }\n",
              "\n",
              "    .dataframe thead th {\n",
              "        text-align: right;\n",
              "    }\n",
              "</style>\n",
              "<table border=\"1\" class=\"dataframe\">\n",
              "  <thead>\n",
              "    <tr style=\"text-align: right;\">\n",
              "      <th></th>\n",
              "      <th>title</th>\n",
              "      <th>url</th>\n",
              "      <th>domain</th>\n",
              "      <th>snippet_description</th>\n",
              "    </tr>\n",
              "  </thead>\n",
              "  <tbody>\n",
              "    <tr>\n",
              "      <th>Trimble has launched a SketchUp Viewer app for Microsoft HoloLens It allows you to visualize and manipulate digital models over physical structures that serve the architecture engineering and construction sectors The promotional material is very cool and the app itself seems amazing There are many architecture engineering construction and operations AECO professionals who use SketchUp alongside many 3D design professionals in other sectors The main idea is that by digitally overlaying models onto physical environments you do not have to produce them physically by any digital fabrication method such as 3D printing and CNC machining</th>\n",
              "      <td>Trimble Launches SketchUp Viewer Mixed Reality...</td>\n",
              "      <td>https://www.engineering.com/ARVR/ArticleID/137...</td>\n",
              "      <td>engineering.com</td>\n",
              "      <td>[Trimble has launched a SketchUp Viewer app fo...</td>\n",
              "    </tr>\n",
              "    <tr>\n",
              "      <th>SketchUps Viewer app was launched at Trimble Dimensions 2016 which ran from Nov 7 to 9 in Las Vegas The SketchUp Viewer for Microsoft HoloLens was introduced by renowned architect Greg Lynn with Trimble CEO Steve Berglund by his side</th>\n",
              "      <td>Trimble Launches SketchUp Viewer Mixed Reality...</td>\n",
              "      <td>https://www.engineering.com/ARVR/ArticleID/137...</td>\n",
              "      <td>engineering.com</td>\n",
              "      <td>[Trimble has launched a SketchUp Viewer app fo...</td>\n",
              "    </tr>\n",
              "    <tr>\n",
              "      <th>Their partnership was mentioned in a press release from Trimble on May 27 which stated that architect Greg Lynn used its mixedreality technology and Microsoft HoloLens to reimagine and design the Packard Plantthe historic abandoned automobile factory in Detroit The architectural project was commissioned as part of the US Pavilion and will be featured at the 2016 Venice Biennale exhibition in Italy from May 28 through Nov 27</th>\n",
              "      <td>Trimble Launches SketchUp Viewer Mixed Reality...</td>\n",
              "      <td>https://www.engineering.com/ARVR/ArticleID/137...</td>\n",
              "      <td>engineering.com</td>\n",
              "      <td>[Trimble has launched a SketchUp Viewer app fo...</td>\n",
              "    </tr>\n",
              "    <tr>\n",
              "      <th>Ive never worn or experienced a HoloLens though I did recently at Autodesk University last week but Im aware of its capabilities The Windows Holographic OS is meant to extend 2D apps into 3D and Ive seen the demos where you can drop 3D models and applications into a room leave the room and come back to see them right where you left them</th>\n",
              "      <td>Trimble Launches SketchUp Viewer Mixed Reality...</td>\n",
              "      <td>https://www.engineering.com/ARVR/ArticleID/137...</td>\n",
              "      <td>engineering.com</td>\n",
              "      <td>[Trimble has launched a SketchUp Viewer app fo...</td>\n",
              "    </tr>\n",
              "    <tr>\n",
              "      <th>This is the first dedicated AECO app for Microsoft HoloLens that is available on the Windows app store The line of time from origin to creation can be traced through the combined efforts of Google where SketchUp was born and Trimble which purchased SketchUp from Google in 2012 to now where it is fully integrated with Microsoft HoloLens and available on the Windows store</th>\n",
              "      <td>Trimble Launches SketchUp Viewer Mixed Reality...</td>\n",
              "      <td>https://www.engineering.com/ARVR/ArticleID/137...</td>\n",
              "      <td>engineering.com</td>\n",
              "      <td>[Trimble has launched a SketchUp Viewer app fo...</td>\n",
              "    </tr>\n",
              "  </tbody>\n",
              "</table>\n",
              "</div>"
            ],
            "text/plain": [
              "                                                                                                title  ...                                snippet_description\n",
              "Trimble has launched a SketchUp Viewer app for ...  Trimble Launches SketchUp Viewer Mixed Reality...  ...  [Trimble has launched a SketchUp Viewer app fo...\n",
              "SketchUps Viewer app was launched at Trimble Di...  Trimble Launches SketchUp Viewer Mixed Reality...  ...  [Trimble has launched a SketchUp Viewer app fo...\n",
              "Their partnership was mentioned in a press rele...  Trimble Launches SketchUp Viewer Mixed Reality...  ...  [Trimble has launched a SketchUp Viewer app fo...\n",
              "Ive never worn or experienced a HoloLens though...  Trimble Launches SketchUp Viewer Mixed Reality...  ...  [Trimble has launched a SketchUp Viewer app fo...\n",
              "This is the first dedicated AECO app for Micros...  Trimble Launches SketchUp Viewer Mixed Reality...  ...  [Trimble has launched a SketchUp Viewer app fo...\n",
              "\n",
              "[5 rows x 4 columns]"
            ]
          },
          "metadata": {
            "tags": []
          },
          "execution_count": 40
        }
      ]
    },
    {
      "cell_type": "code",
      "metadata": {
        "id": "Fyplz5worH3g",
        "colab_type": "code",
        "outputId": "53651936-8531-45de-bce7-8545b6348640",
        "colab": {
          "base_uri": "https://localhost:8080/",
          "height": 660
        }
      },
      "source": [
        "df_sentences = pd.read_csv(\"keyword.csv\")\n",
        "df_sentences = df_sentences.set_index(\"Unnamed: 0\")\n",
        "df_sentences.head()"
      ],
      "execution_count": 41,
      "outputs": [
        {
          "output_type": "execute_result",
          "data": {
            "text/html": [
              "<div>\n",
              "<style scoped>\n",
              "    .dataframe tbody tr th:only-of-type {\n",
              "        vertical-align: middle;\n",
              "    }\n",
              "\n",
              "    .dataframe tbody tr th {\n",
              "        vertical-align: top;\n",
              "    }\n",
              "\n",
              "    .dataframe thead th {\n",
              "        text-align: right;\n",
              "    }\n",
              "</style>\n",
              "<table border=\"1\" class=\"dataframe\">\n",
              "  <thead>\n",
              "    <tr style=\"text-align: right;\">\n",
              "      <th></th>\n",
              "      <th>title</th>\n",
              "    </tr>\n",
              "    <tr>\n",
              "      <th>Unnamed: 0</th>\n",
              "      <th></th>\n",
              "    </tr>\n",
              "  </thead>\n",
              "  <tbody>\n",
              "    <tr>\n",
              "      <th>Trimble has launched a SketchUp Viewer app for Microsoft HoloLens It allows you to visualize and manipulate digital models over physical structures that serve the architecture engineering and construction sectors The promotional material is very cool and the app itself seems amazing There are many architecture engineering construction and operations AECO professionals who use SketchUp alongside many 3D design professionals in other sectors The main idea is that by digitally overlaying models onto physical environments you do not have to produce them physically by any digital fabrication method such as 3D printing and CNC machining</th>\n",
              "      <td>Trimble Launches SketchUp Viewer Mixed Reality...</td>\n",
              "    </tr>\n",
              "    <tr>\n",
              "      <th>SketchUps Viewer app was launched at Trimble Dimensions 2016 which ran from Nov 7 to 9 in Las Vegas The SketchUp Viewer for Microsoft HoloLens was introduced by renowned architect Greg Lynn with Trimble CEO Steve Berglund by his side</th>\n",
              "      <td>Trimble Launches SketchUp Viewer Mixed Reality...</td>\n",
              "    </tr>\n",
              "    <tr>\n",
              "      <th>Their partnership was mentioned in a press release from Trimble on May 27 which stated that architect Greg Lynn used its mixedreality technology and Microsoft HoloLens to reimagine and design the Packard Plantthe historic abandoned automobile factory in Detroit The architectural project was commissioned as part of the US Pavilion and will be featured at the 2016 Venice Biennale exhibition in Italy from May 28 through Nov 27</th>\n",
              "      <td>Trimble Launches SketchUp Viewer Mixed Reality...</td>\n",
              "    </tr>\n",
              "    <tr>\n",
              "      <th>Ive never worn or experienced a HoloLens though I did recently at Autodesk University last week but Im aware of its capabilities The Windows Holographic OS is meant to extend 2D apps into 3D and Ive seen the demos where you can drop 3D models and applications into a room leave the room and come back to see them right where you left them</th>\n",
              "      <td>Trimble Launches SketchUp Viewer Mixed Reality...</td>\n",
              "    </tr>\n",
              "    <tr>\n",
              "      <th>This is the first dedicated AECO app for Microsoft HoloLens that is available on the Windows app store The line of time from origin to creation can be traced through the combined efforts of Google where SketchUp was born and Trimble which purchased SketchUp from Google in 2012 to now where it is fully integrated with Microsoft HoloLens and available on the Windows store</th>\n",
              "      <td>Trimble Launches SketchUp Viewer Mixed Reality...</td>\n",
              "    </tr>\n",
              "  </tbody>\n",
              "</table>\n",
              "</div>"
            ],
            "text/plain": [
              "                                                                                                title\n",
              "Unnamed: 0                                                                                           \n",
              "Trimble has launched a SketchUp Viewer app for ...  Trimble Launches SketchUp Viewer Mixed Reality...\n",
              "SketchUps Viewer app was launched at Trimble Di...  Trimble Launches SketchUp Viewer Mixed Reality...\n",
              "Their partnership was mentioned in a press rele...  Trimble Launches SketchUp Viewer Mixed Reality...\n",
              "Ive never worn or experienced a HoloLens though...  Trimble Launches SketchUp Viewer Mixed Reality...\n",
              "This is the first dedicated AECO app for Micros...  Trimble Launches SketchUp Viewer Mixed Reality..."
            ]
          },
          "metadata": {
            "tags": []
          },
          "execution_count": 41
        }
      ]
    },
    {
      "cell_type": "code",
      "metadata": {
        "id": "Mlf7WTE3rM9w",
        "colab_type": "code",
        "outputId": "53a6329b-9188-4269-cc91-7d9ad19fdcee",
        "colab": {
          "base_uri": "https://localhost:8080/",
          "height": 34
        }
      },
      "source": [
        "df_sentences = df_sentences[\"title\"].to_dict()\n",
        "df_sentences_list = list(df_sentences.keys())\n",
        "len(df_sentences_list)"
      ],
      "execution_count": 42,
      "outputs": [
        {
          "output_type": "execute_result",
          "data": {
            "text/plain": [
              "187845"
            ]
          },
          "metadata": {
            "tags": []
          },
          "execution_count": 42
        }
      ]
    },
    {
      "cell_type": "code",
      "metadata": {
        "id": "ID9YuISvrRXc",
        "colab_type": "code",
        "outputId": "ee19874c-0da6-4a2a-d2c1-a1651c299dc6",
        "colab": {
          "base_uri": "https://localhost:8080/",
          "height": 34
        }
      },
      "source": [
        "df_sentences_list = [str(d) for d in tqdm(df_sentences_list)]"
      ],
      "execution_count": 43,
      "outputs": [
        {
          "output_type": "stream",
          "text": [
            "100%|██████████| 187845/187845 [00:00<00:00, 1625079.22it/s]\n"
          ],
          "name": "stderr"
        }
      ]
    },
    {
      "cell_type": "code",
      "metadata": {
        "id": "4CHOThiIrUsq",
        "colab_type": "code",
        "outputId": "78209747-e88c-4812-87a4-6aca90cc14f1",
        "colab": {
          "base_uri": "https://localhost:8080/",
          "height": 816
        }
      },
      "source": [
        "df = pd.read_csv(\"Processed_Full.csv\", index_col=0)\n",
        "df.head()"
      ],
      "execution_count": 44,
      "outputs": [
        {
          "output_type": "execute_result",
          "data": {
            "text/html": [
              "<div>\n",
              "<style scoped>\n",
              "    .dataframe tbody tr th:only-of-type {\n",
              "        vertical-align: middle;\n",
              "    }\n",
              "\n",
              "    .dataframe tbody tr th {\n",
              "        vertical-align: top;\n",
              "    }\n",
              "\n",
              "    .dataframe thead th {\n",
              "        text-align: right;\n",
              "    }\n",
              "</style>\n",
              "<table border=\"1\" class=\"dataframe\">\n",
              "  <thead>\n",
              "    <tr style=\"text-align: right;\">\n",
              "      <th></th>\n",
              "      <th>title</th>\n",
              "      <th>url</th>\n",
              "      <th>domain</th>\n",
              "      <th>snippet_description</th>\n",
              "    </tr>\n",
              "  </thead>\n",
              "  <tbody>\n",
              "    <tr>\n",
              "      <th>Trimble has launched a SketchUp Viewer app for Microsoft HoloLens It allows you to visualize and manipulate digital models over physical structures that serve the architecture engineering and construction sectors The promotional material is very cool and the app itself seems amazing There are many architecture engineering construction and operations AECO professionals who use SketchUp alongside many 3D design professionals in other sectors The main idea is that by digitally overlaying models onto physical environments you do not have to produce them physically by any digital fabrication method such as 3D printing and CNC machining</th>\n",
              "      <td>Trimble Launches SketchUp Viewer Mixed Reality...</td>\n",
              "      <td>https://www.engineering.com/ARVR/ArticleID/137...</td>\n",
              "      <td>engineering.com</td>\n",
              "      <td>['Trimble has launched a SketchUp Viewer app f...</td>\n",
              "    </tr>\n",
              "    <tr>\n",
              "      <th>SketchUps Viewer app was launched at Trimble Dimensions 2016 which ran from Nov 7 to 9 in Las Vegas The SketchUp Viewer for Microsoft HoloLens was introduced by renowned architect Greg Lynn with Trimble CEO Steve Berglund by his side</th>\n",
              "      <td>Trimble Launches SketchUp Viewer Mixed Reality...</td>\n",
              "      <td>https://www.engineering.com/ARVR/ArticleID/137...</td>\n",
              "      <td>engineering.com</td>\n",
              "      <td>['Trimble has launched a SketchUp Viewer app f...</td>\n",
              "    </tr>\n",
              "    <tr>\n",
              "      <th>Their partnership was mentioned in a press release from Trimble on May 27 which stated that architect Greg Lynn used its mixedreality technology and Microsoft HoloLens to reimagine and design the Packard Plantthe historic abandoned automobile factory in Detroit The architectural project was commissioned as part of the US Pavilion and will be featured at the 2016 Venice Biennale exhibition in Italy from May 28 through Nov 27</th>\n",
              "      <td>Trimble Launches SketchUp Viewer Mixed Reality...</td>\n",
              "      <td>https://www.engineering.com/ARVR/ArticleID/137...</td>\n",
              "      <td>engineering.com</td>\n",
              "      <td>['Trimble has launched a SketchUp Viewer app f...</td>\n",
              "    </tr>\n",
              "    <tr>\n",
              "      <th>Ive never worn or experienced a HoloLens though I did recently at Autodesk University last week but Im aware of its capabilities The Windows Holographic OS is meant to extend 2D apps into 3D and Ive seen the demos where you can drop 3D models and applications into a room leave the room and come back to see them right where you left them</th>\n",
              "      <td>Trimble Launches SketchUp Viewer Mixed Reality...</td>\n",
              "      <td>https://www.engineering.com/ARVR/ArticleID/137...</td>\n",
              "      <td>engineering.com</td>\n",
              "      <td>['Trimble has launched a SketchUp Viewer app f...</td>\n",
              "    </tr>\n",
              "    <tr>\n",
              "      <th>This is the first dedicated AECO app for Microsoft HoloLens that is available on the Windows app store The line of time from origin to creation can be traced through the combined efforts of Google where SketchUp was born and Trimble which purchased SketchUp from Google in 2012 to now where it is fully integrated with Microsoft HoloLens and available on the Windows store</th>\n",
              "      <td>Trimble Launches SketchUp Viewer Mixed Reality...</td>\n",
              "      <td>https://www.engineering.com/ARVR/ArticleID/137...</td>\n",
              "      <td>engineering.com</td>\n",
              "      <td>['Trimble has launched a SketchUp Viewer app f...</td>\n",
              "    </tr>\n",
              "  </tbody>\n",
              "</table>\n",
              "</div>"
            ],
            "text/plain": [
              "                                                                                                title  ...                                snippet_description\n",
              "Trimble has launched a SketchUp Viewer app for ...  Trimble Launches SketchUp Viewer Mixed Reality...  ...  ['Trimble has launched a SketchUp Viewer app f...\n",
              "SketchUps Viewer app was launched at Trimble Di...  Trimble Launches SketchUp Viewer Mixed Reality...  ...  ['Trimble has launched a SketchUp Viewer app f...\n",
              "Their partnership was mentioned in a press rele...  Trimble Launches SketchUp Viewer Mixed Reality...  ...  ['Trimble has launched a SketchUp Viewer app f...\n",
              "Ive never worn or experienced a HoloLens though...  Trimble Launches SketchUp Viewer Mixed Reality...  ...  ['Trimble has launched a SketchUp Viewer app f...\n",
              "This is the first dedicated AECO app for Micros...  Trimble Launches SketchUp Viewer Mixed Reality...  ...  ['Trimble has launched a SketchUp Viewer app f...\n",
              "\n",
              "[5 rows x 4 columns]"
            ]
          },
          "metadata": {
            "tags": []
          },
          "execution_count": 44
        }
      ]
    },
    {
      "cell_type": "code",
      "metadata": {
        "id": "jU-5T5y3rYge",
        "colab_type": "code",
        "outputId": "b189b989-dd91-4ccc-c45a-e4d450579129",
        "colab": {
          "base_uri": "https://localhost:8080/",
          "height": 51
        }
      },
      "source": [
        "#https://github.com/UKPLab/sentence-transformers/blob/master/examples/application_semantic_search.py\n",
        "\"\"\"\n",
        "This is a simple application for sentence embeddings: semantic search\n",
        "We have a corpus with various sentences. Then, for a given query sentence,\n",
        "we want to find the most similar sentence in this corpus.\n",
        "This script outputs for various queries the top 5 most similar sentences in the corpus.\n",
        "\"\"\"\n",
        "\n",
        "from sentence_transformers import SentenceTransformer\n",
        "import scipy.spatial\n",
        "import pickle as pkl\n",
        "embedder = SentenceTransformer('bert-base-nli-mean-tokens')\n",
        "\n",
        "# Corpus with example sentences\n",
        "corpus = df_sentences_list\n",
        "corpus_embeddings = embedder.encode(corpus,show_progress_bar=True)\n",
        "#with open(\"path/.pkl\" , \"rb\") as file_:\n",
        "#  corpus_embeddings = pd.load_pkl(file_)\n",
        "\n",
        "# Query sentences:\n",
        "queries = ['molded interconnect devices for future']\n",
        "query_embeddings = embedder.encode(queries,show_progress_bar=True)\n",
        "\n",
        "# Find the closest 5 sentences of the corpus for each query sentence based on cosine similarity\n",
        "closest_n = 5\n",
        "print(\"\\nTop 10 most similar sentences in corpus:\")\n",
        "for query, query_embedding in zip(queries, query_embeddings):\n",
        "    distances = scipy.spatial.distance.cdist([query_embedding], corpus_embeddings, \"cosine\")[0]\n",
        "\n",
        "    results = zip(range(len(distances)), distances)\n",
        "    results = sorted(results, key=lambda x: x[1])\n",
        "\n",
        "    print(\"\\n\\n=========================================================\")\n",
        "    print(\"==========================Query==============================\")\n",
        "    print(\"====\",query,\"=====\")\n",
        "    print(\"=========================================================\")\n",
        "\n",
        "\n",
        "    for idx, distance in results[0:closest_n]:\n",
        "        print(\"Score:   \", \"(Score: %.4f)\" % (1-distance) , \"\\n\" )\n",
        "        print(\"Paragraph:   \", corpus[idx].strip(), \"\\n\" )\n",
        "        row_dict = df.loc[df.index== corpus[idx]].to_dict()\n",
        "        # print(\"Keyword:  \" , row_dict[\"keyword\"][corpus[idx]] , \"\\n\")\n",
        "        print(\"Title:  \" , row_dict[\"title\"][corpus[idx]] , \"\\n\")\n",
        "        print(\"Domain:  \" , row_dict[\"domain\"][corpus[idx]] , \"\\n\")\n",
        "        print(\"Url:  \" , row_dict[\"url\"][corpus[idx]] , \"\\n\")\n",
        "        print(\"Snippet:  \" , row_dict[\"snippet_description\"][corpus[idx]] , \"\\n\")\n",
        "        print(\"-------------------------------------------\")"
      ],
      "execution_count": 0,
      "outputs": [
        {
          "output_type": "stream",
          "text": [
            "100%|██████████| 405M/405M [00:17<00:00, 22.6MB/s]\n",
            "Batches:  55%|█████▌    | 12973/23481 [09:54<13:11, 13.28it/s]"
          ],
          "name": "stderr"
        }
      ]
    },
    {
      "cell_type": "code",
      "metadata": {
        "id": "SRz08lstFAa6",
        "colab_type": "code",
        "outputId": "64b52830-1b93-4ff6-f653-adb3e311bfdc",
        "colab": {
          "base_uri": "https://localhost:8080/",
          "height": 309
        }
      },
      "source": [
        "!pip install topic-suggestor"
      ],
      "execution_count": 0,
      "outputs": [
        {
          "output_type": "stream",
          "text": [
            "Collecting topic-suggestor\n",
            "  Downloading https://files.pythonhosted.org/packages/a2/f1/1584b613489b5b03bdd4591060be78c5be9679f4750ae6effb0d5a05edd4/topic-suggestor-0.0.4.tar.gz\n",
            "Requirement already satisfied: beautifulsoup4 in /usr/local/lib/python3.6/dist-packages (from topic-suggestor) (4.6.3)\n",
            "Requirement already satisfied: lxml in /usr/local/lib/python3.6/dist-packages (from topic-suggestor) (4.2.6)\n",
            "Requirement already satisfied: requests in /usr/local/lib/python3.6/dist-packages (from topic-suggestor) (2.23.0)\n",
            "Requirement already satisfied: urllib3!=1.25.0,!=1.25.1,<1.26,>=1.21.1 in /usr/local/lib/python3.6/dist-packages (from requests->topic-suggestor) (1.24.3)\n",
            "Requirement already satisfied: chardet<4,>=3.0.2 in /usr/local/lib/python3.6/dist-packages (from requests->topic-suggestor) (3.0.4)\n",
            "Requirement already satisfied: certifi>=2017.4.17 in /usr/local/lib/python3.6/dist-packages (from requests->topic-suggestor) (2020.4.5.1)\n",
            "Requirement already satisfied: idna<3,>=2.5 in /usr/local/lib/python3.6/dist-packages (from requests->topic-suggestor) (2.9)\n",
            "Building wheels for collected packages: topic-suggestor\n",
            "  Building wheel for topic-suggestor (setup.py) ... \u001b[?25l\u001b[?25hdone\n",
            "  Created wheel for topic-suggestor: filename=topic_suggestor-0.0.4-cp36-none-any.whl size=5784 sha256=d55967a1468f9399ce52856ee5a90ee836452ed35870b635bc2a1a5e717e2980\n",
            "  Stored in directory: /root/.cache/pip/wheels/c2/9b/b6/d00ccbd0114e29f1c8ef351de965beef7edc06127918a9d5b0\n",
            "Successfully built topic-suggestor\n",
            "Installing collected packages: topic-suggestor\n",
            "Successfully installed topic-suggestor-0.0.4\n"
          ],
          "name": "stdout"
        }
      ]
    },
    {
      "cell_type": "code",
      "metadata": {
        "id": "RSLKkj6VxqBa",
        "colab_type": "code",
        "colab": {}
      },
      "source": [
        "from topic_suggestor import get_suggestions"
      ],
      "execution_count": 0,
      "outputs": []
    },
    {
      "cell_type": "code",
      "metadata": {
        "id": "WaNwfhEsxver",
        "colab_type": "code",
        "outputId": "590e256a-11e0-4876-b04d-3c8c0ca9e4f1",
        "colab": {
          "base_uri": "https://localhost:8080/",
          "height": 54
        }
      },
      "source": [
        "result = get_suggestions(topic='molded interconnect devices for future', sources=['google', 'bing', 'thesaurus'])\n",
        "print(result)"
      ],
      "execution_count": 0,
      "outputs": [
        {
          "output_type": "stream",
          "text": [
            "{'topic': '3d Printing technologies', 'suggested_topics': {'google': ['3d printing technologies', '3d printing technologies for drug delivery a review', '3d printing technologies comparison', '3d printing technology articles', '3d printing technology companies', '3d printing technology future', '3d printing technology types', '3d printing technology stocks', '3d printing technology pdf', '3d printing technology news'], 'bing': ['3d printing technologies', '3d printing technologies explained', '3d printing technology now', '3d printing technology cost', '3d printing technology wiki', '3d printing technology types', '3d printing technology video', '3d printing technology future'], 'thesaurus': []}}\n"
          ],
          "name": "stdout"
        }
      ]
    },
    {
      "cell_type": "code",
      "metadata": {
        "id": "3Qa2h_IBxyUq",
        "colab_type": "code",
        "colab": {}
      },
      "source": [
        "\"\"\"\n",
        "Error: public.ukp.informatik.tu-darmstadt.de_reimers_sentence-transformers_v0.2_bert-base-nli-mean-tokens.zip\n",
        "1. go to the respective directory, and delete the above file\n",
        "\"\"\"\n",
        "# %cd /root/.cache/torch/sentence_transformers/\n",
        "# !rm -rf public.ukp.informatik.tu-darmstadt.de_reimers_sentence-transformers_v0.2_bert-base-nli-mean-tokens.zip"
      ],
      "execution_count": 0,
      "outputs": []
    },
    {
      "cell_type": "code",
      "metadata": {
        "id": "Z512JnlEgg33",
        "colab_type": "code",
        "colab": {}
      },
      "source": [
        "!ls"
      ],
      "execution_count": 0,
      "outputs": []
    },
    {
      "cell_type": "code",
      "metadata": {
        "id": "o1ANYje2gkDW",
        "colab_type": "code",
        "colab": {}
      },
      "source": [
        ""
      ],
      "execution_count": 0,
      "outputs": []
    }
  ]
}