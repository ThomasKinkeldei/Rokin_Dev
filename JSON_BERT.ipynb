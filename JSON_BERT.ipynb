{
  "nbformat": 4,
  "nbformat_minor": 0,
  "metadata": {
    "colab": {
      "name": "JSON_BERT.ipynb",
      "provenance": [],
      "collapsed_sections": []
    },
    "kernelspec": {
      "name": "python3",
      "display_name": "Python 3"
    },
    "accelerator": "GPU"
  },
  "cells": [
    {
      "cell_type": "code",
      "metadata": {
        "id": "4L5Yk63jTsIj",
        "colab_type": "code",
        "colab": {}
      },
      "source": [
        "!pip install -U sentence-transformers"
      ],
      "execution_count": 0,
      "outputs": []
    },
    {
      "cell_type": "code",
      "metadata": {
        "id": "z_zM2DFWTLZk",
        "colab_type": "code",
        "colab": {}
      },
      "source": [
        "import pandas as pd\n",
        "import glob\n",
        "from tqdm import tqdm\n",
        "import re"
      ],
      "execution_count": 0,
      "outputs": []
    },
    {
      "cell_type": "code",
      "metadata": {
        "id": "mFlZnDXWVxHh",
        "colab_type": "code",
        "colab": {}
      },
      "source": [
        "#path = r'JSON_Files/' # use your path\n",
        "all_files = glob.glob(\"*.json\")\n",
        "\n",
        "# df = pd.read_csv('data_searchAPI/output.csv')\n",
        "li = []\n",
        "\n",
        "for filename in all_files:\n",
        "    df = pd.read_json(filename)\n",
        "    li.append(df)\n",
        "\n",
        "frame = pd.concat(li, axis=0, ignore_index=True)"
      ],
      "execution_count": 0,
      "outputs": []
    },
    {
      "cell_type": "code",
      "metadata": {
        "id": "z0SuJxEGZA0A",
        "colab_type": "code",
        "colab": {}
      },
      "source": [
        "frame.head()"
      ],
      "execution_count": 0,
      "outputs": []
    },
    {
      "cell_type": "code",
      "metadata": {
        "id": "RJpjQVrzWfI_",
        "colab_type": "code",
        "colab": {}
      },
      "source": [
        "selectColumns = ['title','siteName','pageUrl','text', 'date']\n",
        "frame = frame[selectColumns]\n",
        "\n",
        "frame.head()"
      ],
      "execution_count": 0,
      "outputs": []
    },
    {
      "cell_type": "code",
      "metadata": {
        "id": "Zr-PQln3aEKb",
        "colab_type": "code",
        "colab": {}
      },
      "source": [
        "frame = frame.rename(columns={\"pageUrl\": \"url\", \"text\": \"snippet\", \"siteName\": \"domain\"})"
      ],
      "execution_count": 0,
      "outputs": []
    },
    {
      "cell_type": "code",
      "metadata": {
        "id": "6q6l2BsecVLg",
        "colab_type": "code",
        "colab": {}
      },
      "source": [
        "path = r'processed.csv' # use your path\n",
        "# all_files = glob.glob(path + \"/*.csv\")\n",
        "\n",
        "# df = pd.read_csv('data_searchAPI/output.csv')\n",
        "# li = []\n",
        "\n",
        "# for filename in all_files:\n",
        "#    df = pd.read_csv(filename, index_col=None, header=0)\n",
        "#    li.append(df)\n",
        "\n",
        "# frame = pd.concat(li, axis=0, ignore_index=True)\n",
        "\n",
        "# frame.head()\n",
        "\n",
        "df_sv = pd.read_csv(path, dtype={\n",
        "    'date': str, \n",
        "    'keyword': str\n",
        "})"
      ],
      "execution_count": 0,
      "outputs": []
    },
    {
      "cell_type": "code",
      "metadata": {
        "id": "FBsSbqohe9Ml",
        "colab_type": "code",
        "colab": {}
      },
      "source": [
        "df_sv.head()"
      ],
      "execution_count": 0,
      "outputs": []
    },
    {
      "cell_type": "code",
      "metadata": {
        "id": "np7gbpwLfFVo",
        "colab_type": "code",
        "colab": {}
      },
      "source": [
        "frame = [frame,df_sv]"
      ],
      "execution_count": 0,
      "outputs": []
    },
    {
      "cell_type": "code",
      "metadata": {
        "id": "svUbiKFNgp0m",
        "colab_type": "code",
        "colab": {}
      },
      "source": [
        "frame_data= pd.concat(frame)"
      ],
      "execution_count": 0,
      "outputs": []
    },
    {
      "cell_type": "code",
      "metadata": {
        "id": "Nmc095Rkgq2e",
        "colab_type": "code",
        "colab": {}
      },
      "source": [
        "frame_data"
      ],
      "execution_count": 0,
      "outputs": []
    },
    {
      "cell_type": "code",
      "metadata": {
        "id": "3ped-kQRhm9Z",
        "colab_type": "code",
        "colab": {}
      },
      "source": [
        "print(frame_data.duplicated().sum())\n",
        "print(frame_data.snippet.isnull().sum())"
      ],
      "execution_count": 0,
      "outputs": []
    },
    {
      "cell_type": "code",
      "metadata": {
        "id": "LBmcWmLCizQn",
        "colab_type": "code",
        "colab": {}
      },
      "source": [
        "frame_data.drop_duplicates(keep='first')"
      ],
      "execution_count": 0,
      "outputs": []
    },
    {
      "cell_type": "code",
      "metadata": {
        "id": "5Jfy8NERi7e8",
        "colab_type": "code",
        "colab": {}
      },
      "source": [
        "frame_data['snippet'].fillna('no description', inplace=True)\n",
        "frame_data['title'].fillna('no title', inplace=True)\n",
        "frame_data.info()"
      ],
      "execution_count": 0,
      "outputs": []
    },
    {
      "cell_type": "code",
      "metadata": {
        "id": "ZsjoQz4aoASZ",
        "colab_type": "code",
        "colab": {}
      },
      "source": [
        "frame_data = frame_data.drop([\"date\", \"keyword\"], axis=1)"
      ],
      "execution_count": 0,
      "outputs": []
    },
    {
      "cell_type": "code",
      "metadata": {
        "id": "68Iy3cySoWHD",
        "colab_type": "code",
        "colab": {}
      },
      "source": [
        "frame_data['snippet'] = frame_data['snippet'].apply(lambda x: re.sub('[^a-zA-z0-9\\s]','',x))"
      ],
      "execution_count": 0,
      "outputs": []
    },
    {
      "cell_type": "code",
      "metadata": {
        "id": "jXsTFRaBoY0_",
        "colab_type": "code",
        "colab": {}
      },
      "source": [
        "frame_data"
      ],
      "execution_count": 0,
      "outputs": []
    },
    {
      "cell_type": "code",
      "metadata": {
        "id": "SiE2h1LVpCCI",
        "colab_type": "code",
        "colab": {}
      },
      "source": [
        "df_dict = frame_data.to_dict()\n",
        "len_text = len(df_dict[\"title\"])\n",
        "len_text"
      ],
      "execution_count": 0,
      "outputs": []
    },
    {
      "cell_type": "code",
      "metadata": {
        "id": "89HqkZFrpU3q",
        "colab_type": "code",
        "colab": {}
      },
      "source": [
        "#keyword_list  = [] # keyword\n",
        "snippet_description_list = [] # snippet_description\n",
        "snippet_list = [] # snippet\n",
        "title_list = [] # title\n",
        "url_list = [] # url \n",
        "domain_list = [] # domain\n",
        "for i in tqdm(range(0,len_text)):\n",
        "  snippet = df_dict[\"snippet\"][i].split(\"\\n\")\n",
        "  snippet_description = df_dict[\"snippet\"][i]\n",
        "  title = df_dict[\"title\"][i]\n",
        "  url = df_dict[\"url\"][i]\n",
        "  domain = df_dict[\"domain\"][i]\n",
        "  for b in snippet:\n",
        "    #keyword_list.append(keyword)\n",
        "    snippet_list.append(b)\n",
        "    snippet_description_list.append(snippet)\n",
        "    title_list.append(title)\n",
        "    url_list.append(url)\n",
        "    domain_list.append(domain)"
      ],
      "execution_count": 0,
      "outputs": []
    },
    {
      "cell_type": "code",
      "metadata": {
        "id": "xrOv4AIdpWEI",
        "colab_type": "code",
        "colab": {}
      },
      "source": [
        "df_sentences = pd.DataFrame({\"title\":title_list},index=snippet_list)\n",
        "df_sentences.to_csv(\"keyword.csv\")\n",
        "df_sentences.head()"
      ],
      "execution_count": 0,
      "outputs": []
    },
    {
      "cell_type": "code",
      "metadata": {
        "id": "v_cy4dflrERs",
        "colab_type": "code",
        "colab": {}
      },
      "source": [
        "df_sentences = pd.DataFrame({\"title\":title_list,\"url\":url_list,\"domain\":domain_list, \"snippet_description\": snippet_description_list },index=snippet_list)\n",
        "df_sentences.to_csv(\"Processed_Full.csv\")\n",
        "df_sentences.head()\n",
        "# \"keyword\":keyword_list,"
      ],
      "execution_count": 0,
      "outputs": []
    },
    {
      "cell_type": "code",
      "metadata": {
        "id": "Fyplz5worH3g",
        "colab_type": "code",
        "colab": {}
      },
      "source": [
        "df_sentences = pd.read_csv(\"keyword.csv\")\n",
        "df_sentences = df_sentences.set_index(\"Unnamed: 0\")\n",
        "df_sentences.head()"
      ],
      "execution_count": 0,
      "outputs": []
    },
    {
      "cell_type": "code",
      "metadata": {
        "id": "Mlf7WTE3rM9w",
        "colab_type": "code",
        "colab": {}
      },
      "source": [
        "df_sentences = df_sentences[\"title\"].to_dict()\n",
        "df_sentences_list = list(df_sentences.keys())\n",
        "len(df_sentences_list)"
      ],
      "execution_count": 0,
      "outputs": []
    },
    {
      "cell_type": "code",
      "metadata": {
        "id": "ID9YuISvrRXc",
        "colab_type": "code",
        "colab": {}
      },
      "source": [
        "df_sentences_list = [str(d) for d in tqdm(df_sentences_list)]"
      ],
      "execution_count": 0,
      "outputs": []
    },
    {
      "cell_type": "code",
      "metadata": {
        "id": "4CHOThiIrUsq",
        "colab_type": "code",
        "colab": {}
      },
      "source": [
        "df = pd.read_csv(\"Processed_Full.csv\", index_col=0)\n",
        "df.head()"
      ],
      "execution_count": 0,
      "outputs": []
    },
    {
      "cell_type": "code",
      "metadata": {
        "id": "jU-5T5y3rYge",
        "colab_type": "code",
        "colab": {}
      },
      "source": [
        "#https://github.com/UKPLab/sentence-transformers/blob/master/examples/application_semantic_search.py\n",
        "\"\"\"\n",
        "This is a simple application for sentence embeddings: semantic search\n",
        "We have a corpus with various sentences. Then, for a given query sentence,\n",
        "we want to find the most similar sentence in this corpus.\n",
        "This script outputs for various queries the top 5 most similar sentences in the corpus.\n",
        "\"\"\"\n",
        "\n",
        "from sentence_transformers import SentenceTransformer\n",
        "import scipy.spatial\n",
        "import pickle as pkl\n",
        "embedder = SentenceTransformer('bert-base-nli-mean-tokens')\n",
        "\n",
        "# Corpus with example sentences\n",
        "corpus = df_sentences_list\n",
        "corpus_embeddings = embedder.encode(corpus,show_progress_bar=True)\n",
        "#with open(\"path/.pkl\" , \"rb\") as file_:\n",
        "#  corpus_embeddings = pd.load_pkl(file_)\n",
        "\n",
        "# Query sentences:\n",
        "queries = ['3d Printing technologies',\n",
        "           'IOT devices that are new to 2020',\n",
        "           'injection molding advances.']\n",
        "query_embeddings = embedder.encode(queries,show_progress_bar=True)\n",
        "\n",
        "# Find the closest 5 sentences of the corpus for each query sentence based on cosine similarity\n",
        "closest_n = 10\n",
        "print(\"\\nTop 10 most similar sentences in corpus:\")\n",
        "for query, query_embedding in zip(queries, query_embeddings):\n",
        "    distances = scipy.spatial.distance.cdist([query_embedding], corpus_embeddings, \"cosine\")[0]\n",
        "\n",
        "    results = zip(range(len(distances)), distances)\n",
        "    results = sorted(results, key=lambda x: x[1])\n",
        "\n",
        "    print(\"\\n\\n=========================================================\")\n",
        "    print(\"==========================Query==============================\")\n",
        "    print(\"====\",query,\"=====\")\n",
        "    print(\"=========================================================\")\n",
        "\n",
        "\n",
        "    for idx, distance in results[0:closest_n]:\n",
        "        print(\"Score:   \", \"(Score: %.4f)\" % (1-distance) , \"\\n\" )\n",
        "        print(\"Paragraph:   \", corpus[idx].strip(), \"\\n\" )\n",
        "        row_dict = df.loc[df.index== corpus[idx]].to_dict()\n",
        "        # print(\"Keyword:  \" , row_dict[\"keyword\"][corpus[idx]] , \"\\n\")\n",
        "        print(\"Title:  \" , row_dict[\"title\"][corpus[idx]] , \"\\n\")\n",
        "        print(\"Domain:  \" , row_dict[\"domain\"][corpus[idx]] , \"\\n\")\n",
        "        print(\"Url:  \" , row_dict[\"url\"][corpus[idx]] , \"\\n\")\n",
        "        print(\"Snippet:  \" , row_dict[\"snippet_description\"][corpus[idx]] , \"\\n\")\n",
        "        print(\"-------------------------------------------\")"
      ],
      "execution_count": 0,
      "outputs": []
    },
    {
      "cell_type": "code",
      "metadata": {
        "id": "SRz08lstFAa6",
        "colab_type": "code",
        "colab": {}
      },
      "source": [
        ""
      ],
      "execution_count": 0,
      "outputs": []
    }
  ]
}