{
  "nbformat": 4,
  "nbformat_minor": 0,
  "metadata": {
    "colab": {
      "name": "Untitled18.ipynb",
      "provenance": []
    },
    "kernelspec": {
      "name": "python3",
      "display_name": "Python 3"
    }
  },
  "cells": [
    {
      "cell_type": "code",
      "metadata": {
        "id": "rBpZUO1OYc-i",
        "colab_type": "code",
        "colab": {
          "base_uri": "https://localhost:8080/",
          "height": 853
        },
        "outputId": "66cd4c69-fa03-4d8f-9597-1cda782e5b9e"
      },
      "source": [
        "!pip install -U sentence-transformers"
      ],
      "execution_count": 1,
      "outputs": [
        {
          "output_type": "stream",
          "text": [
            "Collecting sentence-transformers\n",
            "\u001b[?25l  Downloading https://files.pythonhosted.org/packages/b9/46/b7d6c37d92d1bd65319220beabe4df845434930e3f30e42d3cfaecb74dc4/sentence-transformers-0.2.6.1.tar.gz (55kB)\n",
            "\u001b[K     |████████████████████████████████| 61kB 1.9MB/s \n",
            "\u001b[?25hCollecting transformers>=2.8.0\n",
            "\u001b[?25l  Downloading https://files.pythonhosted.org/packages/a3/78/92cedda05552398352ed9784908b834ee32a0bd071a9b32de287327370b7/transformers-2.8.0-py3-none-any.whl (563kB)\n",
            "\u001b[K     |████████████████████████████████| 573kB 6.8MB/s \n",
            "\u001b[?25hRequirement already satisfied, skipping upgrade: tqdm in /usr/local/lib/python3.6/dist-packages (from sentence-transformers) (4.38.0)\n",
            "Requirement already satisfied, skipping upgrade: torch>=1.0.1 in /usr/local/lib/python3.6/dist-packages (from sentence-transformers) (1.4.0)\n",
            "Requirement already satisfied, skipping upgrade: numpy in /usr/local/lib/python3.6/dist-packages (from sentence-transformers) (1.18.3)\n",
            "Requirement already satisfied, skipping upgrade: scikit-learn in /usr/local/lib/python3.6/dist-packages (from sentence-transformers) (0.22.2.post1)\n",
            "Requirement already satisfied, skipping upgrade: scipy in /usr/local/lib/python3.6/dist-packages (from sentence-transformers) (1.4.1)\n",
            "Requirement already satisfied, skipping upgrade: nltk in /usr/local/lib/python3.6/dist-packages (from sentence-transformers) (3.2.5)\n",
            "Collecting sacremoses\n",
            "\u001b[?25l  Downloading https://files.pythonhosted.org/packages/99/50/93509f906a40bffd7d175f97fd75ea328ad9bd91f48f59c4bd084c94a25e/sacremoses-0.0.41.tar.gz (883kB)\n",
            "\u001b[K     |████████████████████████████████| 890kB 20.7MB/s \n",
            "\u001b[?25hRequirement already satisfied, skipping upgrade: boto3 in /usr/local/lib/python3.6/dist-packages (from transformers>=2.8.0->sentence-transformers) (1.12.43)\n",
            "Collecting tokenizers==0.5.2\n",
            "\u001b[?25l  Downloading https://files.pythonhosted.org/packages/d1/3f/73c881ea4723e43c1e9acf317cf407fab3a278daab3a69c98dcac511c04f/tokenizers-0.5.2-cp36-cp36m-manylinux1_x86_64.whl (3.7MB)\n",
            "\u001b[K     |████████████████████████████████| 3.7MB 30.1MB/s \n",
            "\u001b[?25hRequirement already satisfied, skipping upgrade: dataclasses; python_version < \"3.7\" in /usr/local/lib/python3.6/dist-packages (from transformers>=2.8.0->sentence-transformers) (0.7)\n",
            "Requirement already satisfied, skipping upgrade: filelock in /usr/local/lib/python3.6/dist-packages (from transformers>=2.8.0->sentence-transformers) (3.0.12)\n",
            "Collecting sentencepiece\n",
            "\u001b[?25l  Downloading https://files.pythonhosted.org/packages/98/2c/8df20f3ac6c22ac224fff307ebc102818206c53fc454ecd37d8ac2060df5/sentencepiece-0.1.86-cp36-cp36m-manylinux1_x86_64.whl (1.0MB)\n",
            "\u001b[K     |████████████████████████████████| 1.0MB 38.9MB/s \n",
            "\u001b[?25hRequirement already satisfied, skipping upgrade: regex!=2019.12.17 in /usr/local/lib/python3.6/dist-packages (from transformers>=2.8.0->sentence-transformers) (2019.12.20)\n",
            "Requirement already satisfied, skipping upgrade: requests in /usr/local/lib/python3.6/dist-packages (from transformers>=2.8.0->sentence-transformers) (2.21.0)\n",
            "Requirement already satisfied, skipping upgrade: joblib>=0.11 in /usr/local/lib/python3.6/dist-packages (from scikit-learn->sentence-transformers) (0.14.1)\n",
            "Requirement already satisfied, skipping upgrade: six in /usr/local/lib/python3.6/dist-packages (from nltk->sentence-transformers) (1.12.0)\n",
            "Requirement already satisfied, skipping upgrade: click in /usr/local/lib/python3.6/dist-packages (from sacremoses->transformers>=2.8.0->sentence-transformers) (7.1.1)\n",
            "Requirement already satisfied, skipping upgrade: jmespath<1.0.0,>=0.7.1 in /usr/local/lib/python3.6/dist-packages (from boto3->transformers>=2.8.0->sentence-transformers) (0.9.5)\n",
            "Requirement already satisfied, skipping upgrade: s3transfer<0.4.0,>=0.3.0 in /usr/local/lib/python3.6/dist-packages (from boto3->transformers>=2.8.0->sentence-transformers) (0.3.3)\n",
            "Requirement already satisfied, skipping upgrade: botocore<1.16.0,>=1.15.43 in /usr/local/lib/python3.6/dist-packages (from boto3->transformers>=2.8.0->sentence-transformers) (1.15.43)\n",
            "Requirement already satisfied, skipping upgrade: urllib3<1.25,>=1.21.1 in /usr/local/lib/python3.6/dist-packages (from requests->transformers>=2.8.0->sentence-transformers) (1.24.3)\n",
            "Requirement already satisfied, skipping upgrade: idna<2.9,>=2.5 in /usr/local/lib/python3.6/dist-packages (from requests->transformers>=2.8.0->sentence-transformers) (2.8)\n",
            "Requirement already satisfied, skipping upgrade: certifi>=2017.4.17 in /usr/local/lib/python3.6/dist-packages (from requests->transformers>=2.8.0->sentence-transformers) (2020.4.5.1)\n",
            "Requirement already satisfied, skipping upgrade: chardet<3.1.0,>=3.0.2 in /usr/local/lib/python3.6/dist-packages (from requests->transformers>=2.8.0->sentence-transformers) (3.0.4)\n",
            "Requirement already satisfied, skipping upgrade: docutils<0.16,>=0.10 in /usr/local/lib/python3.6/dist-packages (from botocore<1.16.0,>=1.15.43->boto3->transformers>=2.8.0->sentence-transformers) (0.15.2)\n",
            "Requirement already satisfied, skipping upgrade: python-dateutil<3.0.0,>=2.1 in /usr/local/lib/python3.6/dist-packages (from botocore<1.16.0,>=1.15.43->boto3->transformers>=2.8.0->sentence-transformers) (2.8.1)\n",
            "Building wheels for collected packages: sentence-transformers, sacremoses\n",
            "  Building wheel for sentence-transformers (setup.py) ... \u001b[?25l\u001b[?25hdone\n",
            "  Created wheel for sentence-transformers: filename=sentence_transformers-0.2.6.1-cp36-none-any.whl size=74031 sha256=ba137e2c2f100262dcb2284552e1295fe4027b05d0bc27fabee9372fcc735b3c\n",
            "  Stored in directory: /root/.cache/pip/wheels/d7/fa/17/2b081a8cd8b0a86753fb0e9826b3cc19f0207062c0b2da7008\n",
            "  Building wheel for sacremoses (setup.py) ... \u001b[?25l\u001b[?25hdone\n",
            "  Created wheel for sacremoses: filename=sacremoses-0.0.41-cp36-none-any.whl size=893334 sha256=e810d10ed312c1858d0f9a6c3a51b925b27764c29ee2079f65580535b0071e36\n",
            "  Stored in directory: /root/.cache/pip/wheels/22/5a/d4/b020a81249de7dc63758a34222feaa668dbe8ebfe9170cc9b1\n",
            "Successfully built sentence-transformers sacremoses\n",
            "Installing collected packages: sacremoses, tokenizers, sentencepiece, transformers, sentence-transformers\n",
            "Successfully installed sacremoses-0.0.41 sentence-transformers-0.2.6.1 sentencepiece-0.1.86 tokenizers-0.5.2 transformers-2.8.0\n"
          ],
          "name": "stdout"
        }
      ]
    },
    {
      "cell_type": "code",
      "metadata": {
        "id": "cdNMux0MZ5iJ",
        "colab_type": "code",
        "colab": {}
      },
      "source": [
        "import pandas as pd\n",
        "from tqdm import tqdm"
      ],
      "execution_count": 0,
      "outputs": []
    },
    {
      "cell_type": "code",
      "metadata": {
        "id": "ihE7praYYqAe",
        "colab_type": "code",
        "colab": {
          "base_uri": "https://localhost:8080/",
          "height": 544
        },
        "outputId": "0045efc4-556b-42a6-9555-79356be72e84"
      },
      "source": [
        "path = r'processed.csv' # use your path\n",
        "# all_files = glob.glob(path + \"/*.csv\")\n",
        "\n",
        "# df = pd.read_csv('data_searchAPI/output.csv')\n",
        "# li = []\n",
        "\n",
        "# for filename in all_files:\n",
        "#    df = pd.read_csv(filename, index_col=None, header=0)\n",
        "#    li.append(df)\n",
        "\n",
        "# frame = pd.concat(li, axis=0, ignore_index=True)\n",
        "\n",
        "# frame.head()\n",
        "\n",
        "df = pd.read_csv(path, dtype={\n",
        "    'date': str, \n",
        "    'keyword': str\n",
        "})\n",
        "#df.columns=['title', 'domain', 'url', 'snippet', 'keyword', 'date']\n",
        "df.head()\n"
      ],
      "execution_count": 115,
      "outputs": [
        {
          "output_type": "execute_result",
          "data": {
            "text/html": [
              "<div>\n",
              "<style scoped>\n",
              "    .dataframe tbody tr th:only-of-type {\n",
              "        vertical-align: middle;\n",
              "    }\n",
              "\n",
              "    .dataframe tbody tr th {\n",
              "        vertical-align: top;\n",
              "    }\n",
              "\n",
              "    .dataframe thead th {\n",
              "        text-align: right;\n",
              "    }\n",
              "</style>\n",
              "<table border=\"1\" class=\"dataframe\">\n",
              "  <thead>\n",
              "    <tr style=\"text-align: right;\">\n",
              "      <th></th>\n",
              "      <th>title</th>\n",
              "      <th>domain</th>\n",
              "      <th>url</th>\n",
              "      <th>snippet</th>\n",
              "      <th>keyword</th>\n",
              "      <th>date</th>\n",
              "    </tr>\n",
              "  </thead>\n",
              "  <tbody>\n",
              "    <tr>\n",
              "      <th>0</th>\n",
              "      <td>Rapid Heat &amp; Cool Molding Evolves to Meet Indu...</td>\n",
              "      <td>www.roctool.com</td>\n",
              "      <td>http://www.roctool.com/company/news-and-releas...</td>\n",
              "      <td>Jun 5, 2018 - Rapid heat-and-cool molding tech...</td>\n",
              "      <td>recent tools and technologies in injection hea...</td>\n",
              "      <td>2020-04-23 16:44:21</td>\n",
              "    </tr>\n",
              "    <tr>\n",
              "      <th>1</th>\n",
              "      <td>Tool Up with Rapid Heat/Cool Technology : Mold...</td>\n",
              "      <td>www.moldmakingtechnology.com</td>\n",
              "      <td>https://www.moldmakingtechnology.com/articles/...</td>\n",
              "      <td>Oct 1, 2014 - A rapid heating and cooling tech...</td>\n",
              "      <td>recent tools and technologies in injection hea...</td>\n",
              "      <td>2020-04-23 16:44:21</td>\n",
              "    </tr>\n",
              "    <tr>\n",
              "      <th>2</th>\n",
              "      <td>Hot/Cold Injection Molding: Which Approach Is ...</td>\n",
              "      <td>www.ptonline.com</td>\n",
              "      <td>https://www.ptonline.com/articles/Hot-Cold-Inj...</td>\n",
              "      <td>Apr 25, 2016 - The hot-and-cold molding proces...</td>\n",
              "      <td>recent tools and technologies in injection hea...</td>\n",
              "      <td>2020-04-23 16:44:21</td>\n",
              "    </tr>\n",
              "    <tr>\n",
              "      <th>3</th>\n",
              "      <td>Rapid mold heating, cooling technology on cutt...</td>\n",
              "      <td>www.plasticsmachinerymagazine.com</td>\n",
              "      <td>https://www.plasticsmachinerymagazine.com/blow...</td>\n",
              "      <td>Oct 26, 2014 - Keeping the surface of the mold...</td>\n",
              "      <td>recent tools and technologies in injection hea...</td>\n",
              "      <td>2020-04-23 16:44:21</td>\n",
              "    </tr>\n",
              "    <tr>\n",
              "      <th>4</th>\n",
              "      <td>Emerging technology improves surface quality o...</td>\n",
              "      <td>www.covestro.com</td>\n",
              "      <td>https://www.covestro.com/en/media/newsletters/...</td>\n",
              "      <td>Rapid heating and cooling molding allows medic...</td>\n",
              "      <td>recent tools and technologies in injection hea...</td>\n",
              "      <td>2020-04-23 16:44:21</td>\n",
              "    </tr>\n",
              "  </tbody>\n",
              "</table>\n",
              "</div>"
            ],
            "text/plain": [
              "                                               title  ...                 date\n",
              "0  Rapid Heat & Cool Molding Evolves to Meet Indu...  ...  2020-04-23 16:44:21\n",
              "1  Tool Up with Rapid Heat/Cool Technology : Mold...  ...  2020-04-23 16:44:21\n",
              "2  Hot/Cold Injection Molding: Which Approach Is ...  ...  2020-04-23 16:44:21\n",
              "3  Rapid mold heating, cooling technology on cutt...  ...  2020-04-23 16:44:21\n",
              "4  Emerging technology improves surface quality o...  ...  2020-04-23 16:44:21\n",
              "\n",
              "[5 rows x 6 columns]"
            ]
          },
          "metadata": {
            "tags": []
          },
          "execution_count": 115
        }
      ]
    },
    {
      "cell_type": "code",
      "metadata": {
        "id": "s4wWNEfssG4h",
        "colab_type": "code",
        "colab": {
          "base_uri": "https://localhost:8080/",
          "height": 51
        },
        "outputId": "e829d694-50e0-4625-dbf9-071db07d44d4"
      },
      "source": [
        "print(df.url.duplicated().sum())\n",
        "print(df.snippet.isnull().sum())"
      ],
      "execution_count": 116,
      "outputs": [
        {
          "output_type": "stream",
          "text": [
            "158\n",
            "40\n"
          ],
          "name": "stdout"
        }
      ]
    },
    {
      "cell_type": "code",
      "metadata": {
        "id": "RV8UEgDbt6kW",
        "colab_type": "code",
        "colab": {
          "base_uri": "https://localhost:8080/",
          "height": 1000
        },
        "outputId": "aa902681-47b9-4bfe-f8d9-e08b4b1b626e"
      },
      "source": [
        "df.drop_duplicates(keep='first')"
      ],
      "execution_count": 117,
      "outputs": [
        {
          "output_type": "execute_result",
          "data": {
            "text/html": [
              "<div>\n",
              "<style scoped>\n",
              "    .dataframe tbody tr th:only-of-type {\n",
              "        vertical-align: middle;\n",
              "    }\n",
              "\n",
              "    .dataframe tbody tr th {\n",
              "        vertical-align: top;\n",
              "    }\n",
              "\n",
              "    .dataframe thead th {\n",
              "        text-align: right;\n",
              "    }\n",
              "</style>\n",
              "<table border=\"1\" class=\"dataframe\">\n",
              "  <thead>\n",
              "    <tr style=\"text-align: right;\">\n",
              "      <th></th>\n",
              "      <th>title</th>\n",
              "      <th>domain</th>\n",
              "      <th>url</th>\n",
              "      <th>snippet</th>\n",
              "      <th>keyword</th>\n",
              "      <th>date</th>\n",
              "    </tr>\n",
              "  </thead>\n",
              "  <tbody>\n",
              "    <tr>\n",
              "      <th>0</th>\n",
              "      <td>Rapid Heat &amp; Cool Molding Evolves to Meet Indu...</td>\n",
              "      <td>www.roctool.com</td>\n",
              "      <td>http://www.roctool.com/company/news-and-releas...</td>\n",
              "      <td>Jun 5, 2018 - Rapid heat-and-cool molding tech...</td>\n",
              "      <td>recent tools and technologies in injection hea...</td>\n",
              "      <td>2020-04-23 16:44:21</td>\n",
              "    </tr>\n",
              "    <tr>\n",
              "      <th>1</th>\n",
              "      <td>Tool Up with Rapid Heat/Cool Technology : Mold...</td>\n",
              "      <td>www.moldmakingtechnology.com</td>\n",
              "      <td>https://www.moldmakingtechnology.com/articles/...</td>\n",
              "      <td>Oct 1, 2014 - A rapid heating and cooling tech...</td>\n",
              "      <td>recent tools and technologies in injection hea...</td>\n",
              "      <td>2020-04-23 16:44:21</td>\n",
              "    </tr>\n",
              "    <tr>\n",
              "      <th>2</th>\n",
              "      <td>Hot/Cold Injection Molding: Which Approach Is ...</td>\n",
              "      <td>www.ptonline.com</td>\n",
              "      <td>https://www.ptonline.com/articles/Hot-Cold-Inj...</td>\n",
              "      <td>Apr 25, 2016 - The hot-and-cold molding proces...</td>\n",
              "      <td>recent tools and technologies in injection hea...</td>\n",
              "      <td>2020-04-23 16:44:21</td>\n",
              "    </tr>\n",
              "    <tr>\n",
              "      <th>3</th>\n",
              "      <td>Rapid mold heating, cooling technology on cutt...</td>\n",
              "      <td>www.plasticsmachinerymagazine.com</td>\n",
              "      <td>https://www.plasticsmachinerymagazine.com/blow...</td>\n",
              "      <td>Oct 26, 2014 - Keeping the surface of the mold...</td>\n",
              "      <td>recent tools and technologies in injection hea...</td>\n",
              "      <td>2020-04-23 16:44:21</td>\n",
              "    </tr>\n",
              "    <tr>\n",
              "      <th>4</th>\n",
              "      <td>Emerging technology improves surface quality o...</td>\n",
              "      <td>www.covestro.com</td>\n",
              "      <td>https://www.covestro.com/en/media/newsletters/...</td>\n",
              "      <td>Rapid heating and cooling molding allows medic...</td>\n",
              "      <td>recent tools and technologies in injection hea...</td>\n",
              "      <td>2020-04-23 16:44:21</td>\n",
              "    </tr>\n",
              "    <tr>\n",
              "      <th>...</th>\n",
              "      <td>...</td>\n",
              "      <td>...</td>\n",
              "      <td>...</td>\n",
              "      <td>...</td>\n",
              "      <td>...</td>\n",
              "      <td>...</td>\n",
              "    </tr>\n",
              "    <tr>\n",
              "      <th>448</th>\n",
              "      <td>Rotational molding - Wikipedia</td>\n",
              "      <td>en.wikipedia.org</td>\n",
              "      <td>https://en.wikipedia.org/wiki/Rotational_molding</td>\n",
              "      <td>Rotational Molding (BrE moulding) involves a h...</td>\n",
              "      <td>technologies in injection molding to avoid coo...</td>\n",
              "      <td>2020-04-23 15:12:09</td>\n",
              "    </tr>\n",
              "    <tr>\n",
              "      <th>449</th>\n",
              "      <td>Gas-Assist Injection Molding: An Innovative Me...</td>\n",
              "      <td>www.mack.com</td>\n",
              "      <td>https://www.mack.com/wp-content/uploads/2015/0...</td>\n",
              "      <td>which reduces both tooling cost and required i...</td>\n",
              "      <td>technologies in injection molding to avoid coo...</td>\n",
              "      <td>2020-04-23 15:12:10</td>\n",
              "    </tr>\n",
              "    <tr>\n",
              "      <th>450</th>\n",
              "      <td>Overmolding Guide - PolyOne</td>\n",
              "      <td>www.polyone.com</td>\n",
              "      <td>https://www.polyone.com/sites/default/files/re...</td>\n",
              "      <td>TPE technologies designed to deliver optimum a...</td>\n",
              "      <td>technologies in injection molding to avoid coo...</td>\n",
              "      <td>2020-04-23 15:12:10</td>\n",
              "    </tr>\n",
              "    <tr>\n",
              "      <th>451</th>\n",
              "      <td>Minimizing Warpage on Injection molding throug...</td>\n",
              "      <td>www.ijeat.org</td>\n",
              "      <td>https://www.ijeat.org/wp-content/uploads/paper...</td>\n",
              "      <td>Oct 15, 2019 - International Journal of Engine...</td>\n",
              "      <td>technologies in injection molding to avoid coo...</td>\n",
              "      <td>2020-04-23 15:12:10</td>\n",
              "    </tr>\n",
              "    <tr>\n",
              "      <th>452</th>\n",
              "      <td>Innovative Injection Molding Techniques for th...</td>\n",
              "      <td>www.mddionline.com</td>\n",
              "      <td>https://www.mddionline.com/innovative-injectio...</td>\n",
              "      <td>In most cases, past and present, conventional ...</td>\n",
              "      <td>technologies in injection molding to avoid coo...</td>\n",
              "      <td>2020-04-23 15:12:10</td>\n",
              "    </tr>\n",
              "  </tbody>\n",
              "</table>\n",
              "<p>450 rows × 6 columns</p>\n",
              "</div>"
            ],
            "text/plain": [
              "                                                 title  ...                 date\n",
              "0    Rapid Heat & Cool Molding Evolves to Meet Indu...  ...  2020-04-23 16:44:21\n",
              "1    Tool Up with Rapid Heat/Cool Technology : Mold...  ...  2020-04-23 16:44:21\n",
              "2    Hot/Cold Injection Molding: Which Approach Is ...  ...  2020-04-23 16:44:21\n",
              "3    Rapid mold heating, cooling technology on cutt...  ...  2020-04-23 16:44:21\n",
              "4    Emerging technology improves surface quality o...  ...  2020-04-23 16:44:21\n",
              "..                                                 ...  ...                  ...\n",
              "448                     Rotational molding - Wikipedia  ...  2020-04-23 15:12:09\n",
              "449  Gas-Assist Injection Molding: An Innovative Me...  ...  2020-04-23 15:12:10\n",
              "450                        Overmolding Guide - PolyOne  ...  2020-04-23 15:12:10\n",
              "451  Minimizing Warpage on Injection molding throug...  ...  2020-04-23 15:12:10\n",
              "452  Innovative Injection Molding Techniques for th...  ...  2020-04-23 15:12:10\n",
              "\n",
              "[450 rows x 6 columns]"
            ]
          },
          "metadata": {
            "tags": []
          },
          "execution_count": 117
        }
      ]
    },
    {
      "cell_type": "code",
      "metadata": {
        "id": "N6J4iXnNuScJ",
        "colab_type": "code",
        "colab": {
          "base_uri": "https://localhost:8080/",
          "height": 238
        },
        "outputId": "b2e5c367-dbaf-4f7e-81f5-a9dddf95affd"
      },
      "source": [
        "df['snippet'].fillna('no description', inplace=True)\n",
        "df['title'].fillna('no title', inplace=True)\n",
        "df.info()"
      ],
      "execution_count": 118,
      "outputs": [
        {
          "output_type": "stream",
          "text": [
            "<class 'pandas.core.frame.DataFrame'>\n",
            "RangeIndex: 453 entries, 0 to 452\n",
            "Data columns (total 6 columns):\n",
            " #   Column   Non-Null Count  Dtype \n",
            "---  ------   --------------  ----- \n",
            " 0   title    453 non-null    object\n",
            " 1   domain   453 non-null    object\n",
            " 2   url      453 non-null    object\n",
            " 3   snippet  453 non-null    object\n",
            " 4   keyword  453 non-null    object\n",
            " 5   date     453 non-null    object\n",
            "dtypes: object(6)\n",
            "memory usage: 21.4+ KB\n"
          ],
          "name": "stdout"
        }
      ]
    },
    {
      "cell_type": "code",
      "metadata": {
        "id": "dcGeOnEHuVhz",
        "colab_type": "code",
        "colab": {}
      },
      "source": [
        "#df.dropna(inplace=False)"
      ],
      "execution_count": 0,
      "outputs": []
    },
    {
      "cell_type": "code",
      "metadata": {
        "id": "nGp_b_Bpu7iX",
        "colab_type": "code",
        "colab": {}
      },
      "source": [
        "import re\n",
        "\n",
        "df['snippet'] = df['snippet'].apply(lambda x: re.sub('[^a-zA-z0-9\\s]','',x))"
      ],
      "execution_count": 0,
      "outputs": []
    },
    {
      "cell_type": "code",
      "metadata": {
        "id": "8BKKQQFtwfPc",
        "colab_type": "code",
        "colab": {
          "base_uri": "https://localhost:8080/",
          "height": 1000
        },
        "outputId": "e310b7a1-e737-44c8-a6be-f6e423d050bb"
      },
      "source": [
        "df.head(114)"
      ],
      "execution_count": 121,
      "outputs": [
        {
          "output_type": "execute_result",
          "data": {
            "text/html": [
              "<div>\n",
              "<style scoped>\n",
              "    .dataframe tbody tr th:only-of-type {\n",
              "        vertical-align: middle;\n",
              "    }\n",
              "\n",
              "    .dataframe tbody tr th {\n",
              "        vertical-align: top;\n",
              "    }\n",
              "\n",
              "    .dataframe thead th {\n",
              "        text-align: right;\n",
              "    }\n",
              "</style>\n",
              "<table border=\"1\" class=\"dataframe\">\n",
              "  <thead>\n",
              "    <tr style=\"text-align: right;\">\n",
              "      <th></th>\n",
              "      <th>title</th>\n",
              "      <th>domain</th>\n",
              "      <th>url</th>\n",
              "      <th>snippet</th>\n",
              "      <th>keyword</th>\n",
              "      <th>date</th>\n",
              "    </tr>\n",
              "  </thead>\n",
              "  <tbody>\n",
              "    <tr>\n",
              "      <th>0</th>\n",
              "      <td>Rapid Heat &amp; Cool Molding Evolves to Meet Indu...</td>\n",
              "      <td>www.roctool.com</td>\n",
              "      <td>http://www.roctool.com/company/news-and-releas...</td>\n",
              "      <td>Jun 5 2018  Rapid heatandcool molding technolo...</td>\n",
              "      <td>recent tools and technologies in injection hea...</td>\n",
              "      <td>2020-04-23 16:44:21</td>\n",
              "    </tr>\n",
              "    <tr>\n",
              "      <th>1</th>\n",
              "      <td>Tool Up with Rapid Heat/Cool Technology : Mold...</td>\n",
              "      <td>www.moldmakingtechnology.com</td>\n",
              "      <td>https://www.moldmakingtechnology.com/articles/...</td>\n",
              "      <td>Oct 1 2014  A rapid heating and cooling techni...</td>\n",
              "      <td>recent tools and technologies in injection hea...</td>\n",
              "      <td>2020-04-23 16:44:21</td>\n",
              "    </tr>\n",
              "    <tr>\n",
              "      <th>2</th>\n",
              "      <td>Hot/Cold Injection Molding: Which Approach Is ...</td>\n",
              "      <td>www.ptonline.com</td>\n",
              "      <td>https://www.ptonline.com/articles/Hot-Cold-Inj...</td>\n",
              "      <td>Apr 25 2016  The hotandcold molding process gi...</td>\n",
              "      <td>recent tools and technologies in injection hea...</td>\n",
              "      <td>2020-04-23 16:44:21</td>\n",
              "    </tr>\n",
              "    <tr>\n",
              "      <th>3</th>\n",
              "      <td>Rapid mold heating, cooling technology on cutt...</td>\n",
              "      <td>www.plasticsmachinerymagazine.com</td>\n",
              "      <td>https://www.plasticsmachinerymagazine.com/blow...</td>\n",
              "      <td>Oct 26 2014  Keeping the surface of the mold h...</td>\n",
              "      <td>recent tools and technologies in injection hea...</td>\n",
              "      <td>2020-04-23 16:44:21</td>\n",
              "    </tr>\n",
              "    <tr>\n",
              "      <th>4</th>\n",
              "      <td>Emerging technology improves surface quality o...</td>\n",
              "      <td>www.covestro.com</td>\n",
              "      <td>https://www.covestro.com/en/media/newsletters/...</td>\n",
              "      <td>Rapid heating and cooling molding allows medic...</td>\n",
              "      <td>recent tools and technologies in injection hea...</td>\n",
              "      <td>2020-04-23 16:44:21</td>\n",
              "    </tr>\n",
              "    <tr>\n",
              "      <th>...</th>\n",
              "      <td>...</td>\n",
              "      <td>...</td>\n",
              "      <td>...</td>\n",
              "      <td>...</td>\n",
              "      <td>...</td>\n",
              "      <td>...</td>\n",
              "    </tr>\n",
              "    <tr>\n",
              "      <th>109</th>\n",
              "      <td>Tool Up with Rapid Heat/Cool Technology : Mold...</td>\n",
              "      <td>www.moldmakingtechnology.com</td>\n",
              "      <td>https://www.moldmakingtechnology.com/articles/...</td>\n",
              "      <td>Oct 1 2014  A rapid heating and cooling techni...</td>\n",
              "      <td>recent tools and technologies in injection hea...</td>\n",
              "      <td>2020-04-23 14:52:06</td>\n",
              "    </tr>\n",
              "    <tr>\n",
              "      <th>110</th>\n",
              "      <td>Hot/Cold Injection Molding: Which Approach Is ...</td>\n",
              "      <td>www.ptonline.com</td>\n",
              "      <td>https://www.ptonline.com/articles/Hot-Cold-Inj...</td>\n",
              "      <td>no description</td>\n",
              "      <td>recent tools and technologies in injection hea...</td>\n",
              "      <td>2020-04-23 14:52:06</td>\n",
              "    </tr>\n",
              "    <tr>\n",
              "      <th>111</th>\n",
              "      <td>Injection moulding - Wikipedia</td>\n",
              "      <td>en.wikipedia.org</td>\n",
              "      <td>https://en.wikipedia.org/wiki/Injection_moulding</td>\n",
              "      <td>Injection molding US spelling or Injection mou...</td>\n",
              "      <td>recent tools and technologies in injection hea...</td>\n",
              "      <td>2020-04-23 14:52:06</td>\n",
              "    </tr>\n",
              "    <tr>\n",
              "      <th>112</th>\n",
              "      <td>Technical reports - News | Single-Temperiertec...</td>\n",
              "      <td>www.single-temp.com</td>\n",
              "      <td>https://www.single-temp.com/news/technical-rep...</td>\n",
              "      <td>New approaches and solutions for elastomer inj...</td>\n",
              "      <td>recent tools and technologies in injection hea...</td>\n",
              "      <td>2020-04-23 14:52:06</td>\n",
              "    </tr>\n",
              "    <tr>\n",
              "      <th>113</th>\n",
              "      <td>Thermal Cycling of Injection Molds Boosts Surf...</td>\n",
              "      <td>www.single-temp.com</td>\n",
              "      <td>https://www.single-temp.com/fileadmin/download...</td>\n",
              "      <td>no description</td>\n",
              "      <td>recent tools and technologies in injection hea...</td>\n",
              "      <td>2020-04-23 14:52:06</td>\n",
              "    </tr>\n",
              "  </tbody>\n",
              "</table>\n",
              "<p>114 rows × 6 columns</p>\n",
              "</div>"
            ],
            "text/plain": [
              "                                                 title  ...                 date\n",
              "0    Rapid Heat & Cool Molding Evolves to Meet Indu...  ...  2020-04-23 16:44:21\n",
              "1    Tool Up with Rapid Heat/Cool Technology : Mold...  ...  2020-04-23 16:44:21\n",
              "2    Hot/Cold Injection Molding: Which Approach Is ...  ...  2020-04-23 16:44:21\n",
              "3    Rapid mold heating, cooling technology on cutt...  ...  2020-04-23 16:44:21\n",
              "4    Emerging technology improves surface quality o...  ...  2020-04-23 16:44:21\n",
              "..                                                 ...  ...                  ...\n",
              "109  Tool Up with Rapid Heat/Cool Technology : Mold...  ...  2020-04-23 14:52:06\n",
              "110  Hot/Cold Injection Molding: Which Approach Is ...  ...  2020-04-23 14:52:06\n",
              "111                     Injection moulding - Wikipedia  ...  2020-04-23 14:52:06\n",
              "112  Technical reports - News | Single-Temperiertec...  ...  2020-04-23 14:52:06\n",
              "113  Thermal Cycling of Injection Molds Boosts Surf...  ...  2020-04-23 14:52:06\n",
              "\n",
              "[114 rows x 6 columns]"
            ]
          },
          "metadata": {
            "tags": []
          },
          "execution_count": 121
        }
      ]
    },
    {
      "cell_type": "code",
      "metadata": {
        "id": "8e_idaDgwkLF",
        "colab_type": "code",
        "colab": {}
      },
      "source": [
        "df = df.drop([\"date\"], axis=1)"
      ],
      "execution_count": 0,
      "outputs": []
    },
    {
      "cell_type": "code",
      "metadata": {
        "id": "hGmXI73vxTbx",
        "colab_type": "code",
        "colab": {
          "base_uri": "https://localhost:8080/",
          "height": 442
        },
        "outputId": "7d2b8b2e-4aaf-49a4-c7ea-b9a2b3b6ade9"
      },
      "source": [
        "df.head()"
      ],
      "execution_count": 123,
      "outputs": [
        {
          "output_type": "execute_result",
          "data": {
            "text/html": [
              "<div>\n",
              "<style scoped>\n",
              "    .dataframe tbody tr th:only-of-type {\n",
              "        vertical-align: middle;\n",
              "    }\n",
              "\n",
              "    .dataframe tbody tr th {\n",
              "        vertical-align: top;\n",
              "    }\n",
              "\n",
              "    .dataframe thead th {\n",
              "        text-align: right;\n",
              "    }\n",
              "</style>\n",
              "<table border=\"1\" class=\"dataframe\">\n",
              "  <thead>\n",
              "    <tr style=\"text-align: right;\">\n",
              "      <th></th>\n",
              "      <th>title</th>\n",
              "      <th>domain</th>\n",
              "      <th>url</th>\n",
              "      <th>snippet</th>\n",
              "      <th>keyword</th>\n",
              "    </tr>\n",
              "  </thead>\n",
              "  <tbody>\n",
              "    <tr>\n",
              "      <th>0</th>\n",
              "      <td>Rapid Heat &amp; Cool Molding Evolves to Meet Indu...</td>\n",
              "      <td>www.roctool.com</td>\n",
              "      <td>http://www.roctool.com/company/news-and-releas...</td>\n",
              "      <td>Jun 5 2018  Rapid heatandcool molding technolo...</td>\n",
              "      <td>recent tools and technologies in injection hea...</td>\n",
              "    </tr>\n",
              "    <tr>\n",
              "      <th>1</th>\n",
              "      <td>Tool Up with Rapid Heat/Cool Technology : Mold...</td>\n",
              "      <td>www.moldmakingtechnology.com</td>\n",
              "      <td>https://www.moldmakingtechnology.com/articles/...</td>\n",
              "      <td>Oct 1 2014  A rapid heating and cooling techni...</td>\n",
              "      <td>recent tools and technologies in injection hea...</td>\n",
              "    </tr>\n",
              "    <tr>\n",
              "      <th>2</th>\n",
              "      <td>Hot/Cold Injection Molding: Which Approach Is ...</td>\n",
              "      <td>www.ptonline.com</td>\n",
              "      <td>https://www.ptonline.com/articles/Hot-Cold-Inj...</td>\n",
              "      <td>Apr 25 2016  The hotandcold molding process gi...</td>\n",
              "      <td>recent tools and technologies in injection hea...</td>\n",
              "    </tr>\n",
              "    <tr>\n",
              "      <th>3</th>\n",
              "      <td>Rapid mold heating, cooling technology on cutt...</td>\n",
              "      <td>www.plasticsmachinerymagazine.com</td>\n",
              "      <td>https://www.plasticsmachinerymagazine.com/blow...</td>\n",
              "      <td>Oct 26 2014  Keeping the surface of the mold h...</td>\n",
              "      <td>recent tools and technologies in injection hea...</td>\n",
              "    </tr>\n",
              "    <tr>\n",
              "      <th>4</th>\n",
              "      <td>Emerging technology improves surface quality o...</td>\n",
              "      <td>www.covestro.com</td>\n",
              "      <td>https://www.covestro.com/en/media/newsletters/...</td>\n",
              "      <td>Rapid heating and cooling molding allows medic...</td>\n",
              "      <td>recent tools and technologies in injection hea...</td>\n",
              "    </tr>\n",
              "  </tbody>\n",
              "</table>\n",
              "</div>"
            ],
            "text/plain": [
              "                                               title  ...                                            keyword\n",
              "0  Rapid Heat & Cool Molding Evolves to Meet Indu...  ...  recent tools and technologies in injection hea...\n",
              "1  Tool Up with Rapid Heat/Cool Technology : Mold...  ...  recent tools and technologies in injection hea...\n",
              "2  Hot/Cold Injection Molding: Which Approach Is ...  ...  recent tools and technologies in injection hea...\n",
              "3  Rapid mold heating, cooling technology on cutt...  ...  recent tools and technologies in injection hea...\n",
              "4  Emerging technology improves surface quality o...  ...  recent tools and technologies in injection hea...\n",
              "\n",
              "[5 rows x 5 columns]"
            ]
          },
          "metadata": {
            "tags": []
          },
          "execution_count": 123
        }
      ]
    },
    {
      "cell_type": "code",
      "metadata": {
        "id": "ECKooRT94Ugo",
        "colab_type": "code",
        "colab": {
          "base_uri": "https://localhost:8080/",
          "height": 34
        },
        "outputId": "d903e573-89b5-417f-e9b0-321efd2c7592"
      },
      "source": [
        "df.keyword.isnull().sum()"
      ],
      "execution_count": 124,
      "outputs": [
        {
          "output_type": "execute_result",
          "data": {
            "text/plain": [
              "0"
            ]
          },
          "metadata": {
            "tags": []
          },
          "execution_count": 124
        }
      ]
    },
    {
      "cell_type": "code",
      "metadata": {
        "id": "Yh6rFllrxU_0",
        "colab_type": "code",
        "colab": {}
      },
      "source": [
        "df_dict = df.to_dict()\n",
        "len_text = len(df_dict[\"keyword\"])"
      ],
      "execution_count": 0,
      "outputs": []
    },
    {
      "cell_type": "code",
      "metadata": {
        "id": "yLBt1I-5JW1u",
        "colab_type": "code",
        "colab": {
          "base_uri": "https://localhost:8080/",
          "height": 34
        },
        "outputId": "2e5bccef-a8a0-4aca-d2d1-981f1ecf0075"
      },
      "source": [
        "len_text"
      ],
      "execution_count": 126,
      "outputs": [
        {
          "output_type": "execute_result",
          "data": {
            "text/plain": [
              "453"
            ]
          },
          "metadata": {
            "tags": []
          },
          "execution_count": 126
        }
      ]
    },
    {
      "cell_type": "code",
      "metadata": {
        "id": "XsiKYnb13VdE",
        "colab_type": "code",
        "colab": {
          "base_uri": "https://localhost:8080/",
          "height": 34
        },
        "outputId": "b0a673fd-35ab-4200-a0bd-ffb9ed2b3fc2"
      },
      "source": [
        "keyword_list  = [] # keyword\n",
        "snippet_description_list = [] # snippet_description\n",
        "snippet_list = [] # snippet\n",
        "title_list = [] # title\n",
        "url_list = [] # url \n",
        "domain_list = [] # domain\n",
        "for i in tqdm(range(0,len_text)):\n",
        "  keyword = df_dict[\"keyword\"][i]\n",
        "  snippet = df_dict[\"snippet\"][i].split(\"\\n\")\n",
        "  snippet_description = df_dict[\"snippet\"][i]\n",
        "  title = df_dict[\"title\"][i]\n",
        "  url = df_dict[\"url\"][i]\n",
        "  domain = df_dict[\"domain\"][i]\n",
        "  for b in snippet:\n",
        "    keyword_list.append(keyword)\n",
        "    snippet_list.append(b)\n",
        "    snippet_description_list.append(snippet)\n",
        "    title_list.append(title)\n",
        "    url_list.append(url)\n",
        "    domain_list.append(domain)"
      ],
      "execution_count": 127,
      "outputs": [
        {
          "output_type": "stream",
          "text": [
            "100%|██████████| 453/453 [00:00<00:00, 121205.65it/s]\n"
          ],
          "name": "stderr"
        }
      ]
    },
    {
      "cell_type": "code",
      "metadata": {
        "id": "LorJ2BcgBMKx",
        "colab_type": "code",
        "colab": {
          "base_uri": "https://localhost:8080/",
          "height": 544
        },
        "outputId": "9b009910-2a47-4112-c865-7505ba723ff7"
      },
      "source": [
        "df_sentences = pd.DataFrame({\"keyword\":keyword_list},index=snippet_list)\n",
        "df_sentences.to_csv(\"keyword.csv\")\n",
        "df_sentences.head()"
      ],
      "execution_count": 128,
      "outputs": [
        {
          "output_type": "execute_result",
          "data": {
            "text/html": [
              "<div>\n",
              "<style scoped>\n",
              "    .dataframe tbody tr th:only-of-type {\n",
              "        vertical-align: middle;\n",
              "    }\n",
              "\n",
              "    .dataframe tbody tr th {\n",
              "        vertical-align: top;\n",
              "    }\n",
              "\n",
              "    .dataframe thead th {\n",
              "        text-align: right;\n",
              "    }\n",
              "</style>\n",
              "<table border=\"1\" class=\"dataframe\">\n",
              "  <thead>\n",
              "    <tr style=\"text-align: right;\">\n",
              "      <th></th>\n",
              "      <th>keyword</th>\n",
              "    </tr>\n",
              "  </thead>\n",
              "  <tbody>\n",
              "    <tr>\n",
              "      <th>Jun 5 2018  Rapid heatandcool molding technologies have attracted increasing interest  started using its induction heating technique for rapid HC injection molding  At NPE2018 last month we demonstrated a 16cavity tool molding</th>\n",
              "      <td>recent tools and technologies in injection hea...</td>\n",
              "    </tr>\n",
              "    <tr>\n",
              "      <th>Oct 1 2014  A rapid heating and cooling technique using pressurized water solves  New techniques and equipment make rapid cycle molding worth a second  more recently also been used by rapidcycle units to heat injection molds</th>\n",
              "      <td>recent tools and technologies in injection hea...</td>\n",
              "    </tr>\n",
              "    <tr>\n",
              "      <th>Apr 25 2016  The hotandcold molding process gives molders a new tool to achieve  This technology is based on steam as the cavityheating medium and</th>\n",
              "      <td>recent tools and technologies in injection hea...</td>\n",
              "    </tr>\n",
              "    <tr>\n",
              "      <th>Oct 26 2014  Keeping the surface of the mold hot during plastic injection then  water and ballfilled tool technology report their recent developments</th>\n",
              "      <td>recent tools and technologies in injection hea...</td>\n",
              "    </tr>\n",
              "    <tr>\n",
              "      <th>Rapid heating and cooling molding allows medical device manufacturers to enhance  Korea                                      Malaysia                                      New Zealand                                      Singapore                                      Taiwan                                      Thailand                                      Vietnam  Injection molding is often used for mass production of polycarbonate parts  quality in the tool including an emerging technology known as rapid heating and</th>\n",
              "      <td>recent tools and technologies in injection hea...</td>\n",
              "    </tr>\n",
              "  </tbody>\n",
              "</table>\n",
              "</div>"
            ],
            "text/plain": [
              "                                                                                              keyword\n",
              "Jun 5 2018  Rapid heatandcool molding technolog...  recent tools and technologies in injection hea...\n",
              "Oct 1 2014  A rapid heating and cooling techniq...  recent tools and technologies in injection hea...\n",
              "Apr 25 2016  The hotandcold molding process giv...  recent tools and technologies in injection hea...\n",
              "Oct 26 2014  Keeping the surface of the mold ho...  recent tools and technologies in injection hea...\n",
              "Rapid heating and cooling molding allows medica...  recent tools and technologies in injection hea..."
            ]
          },
          "metadata": {
            "tags": []
          },
          "execution_count": 128
        }
      ]
    },
    {
      "cell_type": "code",
      "metadata": {
        "id": "SaB1NcgHJQ6R",
        "colab_type": "code",
        "colab": {
          "base_uri": "https://localhost:8080/",
          "height": 1000
        },
        "outputId": "161986ea-2684-4dee-80eb-8d442d08bde2"
      },
      "source": [
        "df_sentences = pd.DataFrame({\"keyword\":keyword_list,\"title\":title_list,\"url\":url_list,\"domain\":domain_list, \"snippet_description\": snippet_description_list },index=snippet_list)\n",
        "df_sentences.to_csv(\"Processed_Full.csv\")\n",
        "df_sentences.head()"
      ],
      "execution_count": 129,
      "outputs": [
        {
          "output_type": "execute_result",
          "data": {
            "text/html": [
              "<div>\n",
              "<style scoped>\n",
              "    .dataframe tbody tr th:only-of-type {\n",
              "        vertical-align: middle;\n",
              "    }\n",
              "\n",
              "    .dataframe tbody tr th {\n",
              "        vertical-align: top;\n",
              "    }\n",
              "\n",
              "    .dataframe thead th {\n",
              "        text-align: right;\n",
              "    }\n",
              "</style>\n",
              "<table border=\"1\" class=\"dataframe\">\n",
              "  <thead>\n",
              "    <tr style=\"text-align: right;\">\n",
              "      <th></th>\n",
              "      <th>keyword</th>\n",
              "      <th>title</th>\n",
              "      <th>url</th>\n",
              "      <th>domain</th>\n",
              "      <th>snippet_description</th>\n",
              "    </tr>\n",
              "  </thead>\n",
              "  <tbody>\n",
              "    <tr>\n",
              "      <th>Jun 5 2018  Rapid heatandcool molding technologies have attracted increasing interest  started using its induction heating technique for rapid HC injection molding  At NPE2018 last month we demonstrated a 16cavity tool molding</th>\n",
              "      <td>recent tools and technologies in injection hea...</td>\n",
              "      <td>Rapid Heat &amp; Cool Molding Evolves to Meet Indu...</td>\n",
              "      <td>http://www.roctool.com/company/news-and-releas...</td>\n",
              "      <td>www.roctool.com</td>\n",
              "      <td>[Jun 5 2018  Rapid heatandcool molding technol...</td>\n",
              "    </tr>\n",
              "    <tr>\n",
              "      <th>Oct 1 2014  A rapid heating and cooling technique using pressurized water solves  New techniques and equipment make rapid cycle molding worth a second  more recently also been used by rapidcycle units to heat injection molds</th>\n",
              "      <td>recent tools and technologies in injection hea...</td>\n",
              "      <td>Tool Up with Rapid Heat/Cool Technology : Mold...</td>\n",
              "      <td>https://www.moldmakingtechnology.com/articles/...</td>\n",
              "      <td>www.moldmakingtechnology.com</td>\n",
              "      <td>[Oct 1 2014  A rapid heating and cooling techn...</td>\n",
              "    </tr>\n",
              "    <tr>\n",
              "      <th>Apr 25 2016  The hotandcold molding process gives molders a new tool to achieve  This technology is based on steam as the cavityheating medium and</th>\n",
              "      <td>recent tools and technologies in injection hea...</td>\n",
              "      <td>Hot/Cold Injection Molding: Which Approach Is ...</td>\n",
              "      <td>https://www.ptonline.com/articles/Hot-Cold-Inj...</td>\n",
              "      <td>www.ptonline.com</td>\n",
              "      <td>[Apr 25 2016  The hotandcold molding process g...</td>\n",
              "    </tr>\n",
              "    <tr>\n",
              "      <th>Oct 26 2014  Keeping the surface of the mold hot during plastic injection then  water and ballfilled tool technology report their recent developments</th>\n",
              "      <td>recent tools and technologies in injection hea...</td>\n",
              "      <td>Rapid mold heating, cooling technology on cutt...</td>\n",
              "      <td>https://www.plasticsmachinerymagazine.com/blow...</td>\n",
              "      <td>www.plasticsmachinerymagazine.com</td>\n",
              "      <td>[Oct 26 2014  Keeping the surface of the mold ...</td>\n",
              "    </tr>\n",
              "    <tr>\n",
              "      <th>Rapid heating and cooling molding allows medical device manufacturers to enhance  Korea                                      Malaysia                                      New Zealand                                      Singapore                                      Taiwan                                      Thailand                                      Vietnam  Injection molding is often used for mass production of polycarbonate parts  quality in the tool including an emerging technology known as rapid heating and</th>\n",
              "      <td>recent tools and technologies in injection hea...</td>\n",
              "      <td>Emerging technology improves surface quality o...</td>\n",
              "      <td>https://www.covestro.com/en/media/newsletters/...</td>\n",
              "      <td>www.covestro.com</td>\n",
              "      <td>[Rapid heating and cooling molding allows medi...</td>\n",
              "    </tr>\n",
              "  </tbody>\n",
              "</table>\n",
              "</div>"
            ],
            "text/plain": [
              "                                                                                              keyword  ...                                snippet_description\n",
              "Jun 5 2018  Rapid heatandcool molding technolog...  recent tools and technologies in injection hea...  ...  [Jun 5 2018  Rapid heatandcool molding technol...\n",
              "Oct 1 2014  A rapid heating and cooling techniq...  recent tools and technologies in injection hea...  ...  [Oct 1 2014  A rapid heating and cooling techn...\n",
              "Apr 25 2016  The hotandcold molding process giv...  recent tools and technologies in injection hea...  ...  [Apr 25 2016  The hotandcold molding process g...\n",
              "Oct 26 2014  Keeping the surface of the mold ho...  recent tools and technologies in injection hea...  ...  [Oct 26 2014  Keeping the surface of the mold ...\n",
              "Rapid heating and cooling molding allows medica...  recent tools and technologies in injection hea...  ...  [Rapid heating and cooling molding allows medi...\n",
              "\n",
              "[5 rows x 5 columns]"
            ]
          },
          "metadata": {
            "tags": []
          },
          "execution_count": 129
        }
      ]
    },
    {
      "cell_type": "code",
      "metadata": {
        "id": "3ZTs5yaGLncm",
        "colab_type": "code",
        "colab": {
          "base_uri": "https://localhost:8080/",
          "height": 575
        },
        "outputId": "8a6fc15e-3648-4924-b48f-1744725c0d73"
      },
      "source": [
        "df_sentences = pd.read_csv(\"keyword.csv\")\n",
        "df_sentences = df_sentences.set_index(\"Unnamed: 0\")\n",
        "df_sentences.head()"
      ],
      "execution_count": 130,
      "outputs": [
        {
          "output_type": "execute_result",
          "data": {
            "text/html": [
              "<div>\n",
              "<style scoped>\n",
              "    .dataframe tbody tr th:only-of-type {\n",
              "        vertical-align: middle;\n",
              "    }\n",
              "\n",
              "    .dataframe tbody tr th {\n",
              "        vertical-align: top;\n",
              "    }\n",
              "\n",
              "    .dataframe thead th {\n",
              "        text-align: right;\n",
              "    }\n",
              "</style>\n",
              "<table border=\"1\" class=\"dataframe\">\n",
              "  <thead>\n",
              "    <tr style=\"text-align: right;\">\n",
              "      <th></th>\n",
              "      <th>keyword</th>\n",
              "    </tr>\n",
              "    <tr>\n",
              "      <th>Unnamed: 0</th>\n",
              "      <th></th>\n",
              "    </tr>\n",
              "  </thead>\n",
              "  <tbody>\n",
              "    <tr>\n",
              "      <th>Jun 5 2018  Rapid heatandcool molding technologies have attracted increasing interest  started using its induction heating technique for rapid HC injection molding  At NPE2018 last month we demonstrated a 16cavity tool molding</th>\n",
              "      <td>recent tools and technologies in injection hea...</td>\n",
              "    </tr>\n",
              "    <tr>\n",
              "      <th>Oct 1 2014  A rapid heating and cooling technique using pressurized water solves  New techniques and equipment make rapid cycle molding worth a second  more recently also been used by rapidcycle units to heat injection molds</th>\n",
              "      <td>recent tools and technologies in injection hea...</td>\n",
              "    </tr>\n",
              "    <tr>\n",
              "      <th>Apr 25 2016  The hotandcold molding process gives molders a new tool to achieve  This technology is based on steam as the cavityheating medium and</th>\n",
              "      <td>recent tools and technologies in injection hea...</td>\n",
              "    </tr>\n",
              "    <tr>\n",
              "      <th>Oct 26 2014  Keeping the surface of the mold hot during plastic injection then  water and ballfilled tool technology report their recent developments</th>\n",
              "      <td>recent tools and technologies in injection hea...</td>\n",
              "    </tr>\n",
              "    <tr>\n",
              "      <th>Rapid heating and cooling molding allows medical device manufacturers to enhance  Korea                                      Malaysia                                      New Zealand                                      Singapore                                      Taiwan                                      Thailand                                      Vietnam  Injection molding is often used for mass production of polycarbonate parts  quality in the tool including an emerging technology known as rapid heating and</th>\n",
              "      <td>recent tools and technologies in injection hea...</td>\n",
              "    </tr>\n",
              "  </tbody>\n",
              "</table>\n",
              "</div>"
            ],
            "text/plain": [
              "                                                                                              keyword\n",
              "Unnamed: 0                                                                                           \n",
              "Jun 5 2018  Rapid heatandcool molding technolog...  recent tools and technologies in injection hea...\n",
              "Oct 1 2014  A rapid heating and cooling techniq...  recent tools and technologies in injection hea...\n",
              "Apr 25 2016  The hotandcold molding process giv...  recent tools and technologies in injection hea...\n",
              "Oct 26 2014  Keeping the surface of the mold ho...  recent tools and technologies in injection hea...\n",
              "Rapid heating and cooling molding allows medica...  recent tools and technologies in injection hea..."
            ]
          },
          "metadata": {
            "tags": []
          },
          "execution_count": 130
        }
      ]
    },
    {
      "cell_type": "code",
      "metadata": {
        "id": "bLSPcSWMAGdm",
        "colab_type": "code",
        "colab": {
          "base_uri": "https://localhost:8080/",
          "height": 34
        },
        "outputId": "a34656a5-aa8c-406d-9402-cf95ff1e2ad5"
      },
      "source": [
        "df_sentences = df_sentences[\"keyword\"].to_dict()\n",
        "df_sentences_list = list(df_sentences.keys())\n",
        "len(df_sentences_list)"
      ],
      "execution_count": 131,
      "outputs": [
        {
          "output_type": "execute_result",
          "data": {
            "text/plain": [
              "349"
            ]
          },
          "metadata": {
            "tags": []
          },
          "execution_count": 131
        }
      ]
    },
    {
      "cell_type": "code",
      "metadata": {
        "id": "wJQBrg36AHQQ",
        "colab_type": "code",
        "colab": {
          "base_uri": "https://localhost:8080/",
          "height": 122
        },
        "outputId": "5000ef39-9e46-4203-8c70-e251531f7a7a"
      },
      "source": [
        "list(df_sentences.keys())[:5]"
      ],
      "execution_count": 132,
      "outputs": [
        {
          "output_type": "execute_result",
          "data": {
            "text/plain": [
              "['Jun 5 2018  Rapid heatandcool molding technologies have attracted increasing interest  started using its induction heating technique for rapid HC injection molding  At NPE2018 last month we demonstrated a 16cavity tool molding\\xa0\\xa0\\xa0\\xa0\\xa0\\xa0\\xa0\\xa0\\xa0\\xa0\\xa0\\xa0\\xa0\\xa0\\xa0\\xa0\\xa0\\xa0\\xa0\\xa0\\xa0\\xa0\\xa0\\xa0\\xa0\\xa0\\xa0\\xa0\\xa0\\xa0\\xa0\\xa0\\xa0\\xa0\\xa0\\xa0\\xa0',\n",
              " 'Oct 1 2014  A rapid heating and cooling technique using pressurized water solves  New techniques and equipment make rapid cycle molding worth a second  more recently also been used by rapidcycle units to heat injection molds',\n",
              " 'Apr 25 2016  The hotandcold molding process gives molders a new tool to achieve  This technology is based on steam as the cavityheating medium and\\xa0\\xa0\\xa0\\xa0\\xa0\\xa0\\xa0\\xa0\\xa0\\xa0\\xa0\\xa0\\xa0\\xa0\\xa0\\xa0\\xa0\\xa0\\xa0\\xa0\\xa0\\xa0\\xa0\\xa0\\xa0\\xa0\\xa0\\xa0\\xa0\\xa0\\xa0\\xa0\\xa0\\xa0\\xa0\\xa0\\xa0',\n",
              " 'Oct 26 2014  Keeping the surface of the mold hot during plastic injection then  water and ballfilled tool technology report their recent developments',\n",
              " 'Rapid heating and cooling molding allows medical device manufacturers to enhance  Korea \\xa0\\xa0\\xa0\\xa0\\xa0\\xa0\\xa0\\xa0\\xa0\\xa0\\xa0\\xa0\\xa0\\xa0\\xa0\\xa0\\xa0\\xa0\\xa0\\xa0\\xa0\\xa0\\xa0\\xa0\\xa0\\xa0\\xa0\\xa0\\xa0\\xa0\\xa0\\xa0\\xa0\\xa0\\xa0\\xa0 Malaysia \\xa0\\xa0\\xa0\\xa0\\xa0\\xa0\\xa0\\xa0\\xa0\\xa0\\xa0\\xa0\\xa0\\xa0\\xa0\\xa0\\xa0\\xa0\\xa0\\xa0\\xa0\\xa0\\xa0\\xa0\\xa0\\xa0\\xa0\\xa0\\xa0\\xa0\\xa0\\xa0\\xa0\\xa0\\xa0\\xa0 New Zealand \\xa0\\xa0\\xa0\\xa0\\xa0\\xa0\\xa0\\xa0\\xa0\\xa0\\xa0\\xa0\\xa0\\xa0\\xa0\\xa0\\xa0\\xa0\\xa0\\xa0\\xa0\\xa0\\xa0\\xa0\\xa0\\xa0\\xa0\\xa0\\xa0\\xa0\\xa0\\xa0\\xa0\\xa0\\xa0\\xa0 Singapore \\xa0\\xa0\\xa0\\xa0\\xa0\\xa0\\xa0\\xa0\\xa0\\xa0\\xa0\\xa0\\xa0\\xa0\\xa0\\xa0\\xa0\\xa0\\xa0\\xa0\\xa0\\xa0\\xa0\\xa0\\xa0\\xa0\\xa0\\xa0\\xa0\\xa0\\xa0\\xa0\\xa0\\xa0\\xa0\\xa0 Taiwan \\xa0\\xa0\\xa0\\xa0\\xa0\\xa0\\xa0\\xa0\\xa0\\xa0\\xa0\\xa0\\xa0\\xa0\\xa0\\xa0\\xa0\\xa0\\xa0\\xa0\\xa0\\xa0\\xa0\\xa0\\xa0\\xa0\\xa0\\xa0\\xa0\\xa0\\xa0\\xa0\\xa0\\xa0\\xa0\\xa0 Thailand \\xa0\\xa0\\xa0\\xa0\\xa0\\xa0\\xa0\\xa0\\xa0\\xa0\\xa0\\xa0\\xa0\\xa0\\xa0\\xa0\\xa0\\xa0\\xa0\\xa0\\xa0\\xa0\\xa0\\xa0\\xa0\\xa0\\xa0\\xa0\\xa0\\xa0\\xa0\\xa0\\xa0\\xa0\\xa0\\xa0 Vietnam  Injection molding is often used for mass production of polycarbonate parts  quality in the tool including an emerging technology known as rapid heating and\\xa0\\xa0\\xa0\\xa0\\xa0\\xa0\\xa0\\xa0\\xa0\\xa0\\xa0\\xa0\\xa0\\xa0\\xa0\\xa0\\xa0\\xa0\\xa0\\xa0\\xa0\\xa0\\xa0\\xa0\\xa0\\xa0\\xa0\\xa0\\xa0\\xa0\\xa0\\xa0\\xa0\\xa0\\xa0\\xa0\\xa0']"
            ]
          },
          "metadata": {
            "tags": []
          },
          "execution_count": 132
        }
      ]
    },
    {
      "cell_type": "code",
      "metadata": {
        "id": "PNgGpriuAYXj",
        "colab_type": "code",
        "colab": {
          "base_uri": "https://localhost:8080/",
          "height": 34
        },
        "outputId": "fb49bafc-737f-4bfe-9366-b0e4d7cc415d"
      },
      "source": [
        "df_sentences_list = [str(d) for d in tqdm(df_sentences_list)]"
      ],
      "execution_count": 133,
      "outputs": [
        {
          "output_type": "stream",
          "text": [
            "100%|██████████| 349/349 [00:00<00:00, 56572.45it/s]\n"
          ],
          "name": "stderr"
        }
      ]
    },
    {
      "cell_type": "code",
      "metadata": {
        "id": "CW0xGZxAAnNW",
        "colab_type": "code",
        "colab": {
          "base_uri": "https://localhost:8080/",
          "height": 1000
        },
        "outputId": "b58dbf27-c5eb-4ece-ec98-66753b2bf585"
      },
      "source": [
        "import pandas as pd\n",
        "df = pd.read_csv(\"Processed_Full.csv\", index_col=0)\n",
        "df.head()"
      ],
      "execution_count": 134,
      "outputs": [
        {
          "output_type": "execute_result",
          "data": {
            "text/html": [
              "<div>\n",
              "<style scoped>\n",
              "    .dataframe tbody tr th:only-of-type {\n",
              "        vertical-align: middle;\n",
              "    }\n",
              "\n",
              "    .dataframe tbody tr th {\n",
              "        vertical-align: top;\n",
              "    }\n",
              "\n",
              "    .dataframe thead th {\n",
              "        text-align: right;\n",
              "    }\n",
              "</style>\n",
              "<table border=\"1\" class=\"dataframe\">\n",
              "  <thead>\n",
              "    <tr style=\"text-align: right;\">\n",
              "      <th></th>\n",
              "      <th>keyword</th>\n",
              "      <th>title</th>\n",
              "      <th>url</th>\n",
              "      <th>domain</th>\n",
              "      <th>snippet_description</th>\n",
              "    </tr>\n",
              "  </thead>\n",
              "  <tbody>\n",
              "    <tr>\n",
              "      <th>Jun 5 2018  Rapid heatandcool molding technologies have attracted increasing interest  started using its induction heating technique for rapid HC injection molding  At NPE2018 last month we demonstrated a 16cavity tool molding</th>\n",
              "      <td>recent tools and technologies in injection hea...</td>\n",
              "      <td>Rapid Heat &amp; Cool Molding Evolves to Meet Indu...</td>\n",
              "      <td>http://www.roctool.com/company/news-and-releas...</td>\n",
              "      <td>www.roctool.com</td>\n",
              "      <td>['Jun 5 2018  Rapid heatandcool molding techno...</td>\n",
              "    </tr>\n",
              "    <tr>\n",
              "      <th>Oct 1 2014  A rapid heating and cooling technique using pressurized water solves  New techniques and equipment make rapid cycle molding worth a second  more recently also been used by rapidcycle units to heat injection molds</th>\n",
              "      <td>recent tools and technologies in injection hea...</td>\n",
              "      <td>Tool Up with Rapid Heat/Cool Technology : Mold...</td>\n",
              "      <td>https://www.moldmakingtechnology.com/articles/...</td>\n",
              "      <td>www.moldmakingtechnology.com</td>\n",
              "      <td>['Oct 1 2014  A rapid heating and cooling tech...</td>\n",
              "    </tr>\n",
              "    <tr>\n",
              "      <th>Apr 25 2016  The hotandcold molding process gives molders a new tool to achieve  This technology is based on steam as the cavityheating medium and</th>\n",
              "      <td>recent tools and technologies in injection hea...</td>\n",
              "      <td>Hot/Cold Injection Molding: Which Approach Is ...</td>\n",
              "      <td>https://www.ptonline.com/articles/Hot-Cold-Inj...</td>\n",
              "      <td>www.ptonline.com</td>\n",
              "      <td>['Apr 25 2016  The hotandcold molding process ...</td>\n",
              "    </tr>\n",
              "    <tr>\n",
              "      <th>Oct 26 2014  Keeping the surface of the mold hot during plastic injection then  water and ballfilled tool technology report their recent developments</th>\n",
              "      <td>recent tools and technologies in injection hea...</td>\n",
              "      <td>Rapid mold heating, cooling technology on cutt...</td>\n",
              "      <td>https://www.plasticsmachinerymagazine.com/blow...</td>\n",
              "      <td>www.plasticsmachinerymagazine.com</td>\n",
              "      <td>['Oct 26 2014  Keeping the surface of the mold...</td>\n",
              "    </tr>\n",
              "    <tr>\n",
              "      <th>Rapid heating and cooling molding allows medical device manufacturers to enhance  Korea                                      Malaysia                                      New Zealand                                      Singapore                                      Taiwan                                      Thailand                                      Vietnam  Injection molding is often used for mass production of polycarbonate parts  quality in the tool including an emerging technology known as rapid heating and</th>\n",
              "      <td>recent tools and technologies in injection hea...</td>\n",
              "      <td>Emerging technology improves surface quality o...</td>\n",
              "      <td>https://www.covestro.com/en/media/newsletters/...</td>\n",
              "      <td>www.covestro.com</td>\n",
              "      <td>['Rapid heating and cooling molding allows med...</td>\n",
              "    </tr>\n",
              "  </tbody>\n",
              "</table>\n",
              "</div>"
            ],
            "text/plain": [
              "                                                                                              keyword  ...                                snippet_description\n",
              "Jun 5 2018  Rapid heatandcool molding technolog...  recent tools and technologies in injection hea...  ...  ['Jun 5 2018  Rapid heatandcool molding techno...\n",
              "Oct 1 2014  A rapid heating and cooling techniq...  recent tools and technologies in injection hea...  ...  ['Oct 1 2014  A rapid heating and cooling tech...\n",
              "Apr 25 2016  The hotandcold molding process giv...  recent tools and technologies in injection hea...  ...  ['Apr 25 2016  The hotandcold molding process ...\n",
              "Oct 26 2014  Keeping the surface of the mold ho...  recent tools and technologies in injection hea...  ...  ['Oct 26 2014  Keeping the surface of the mold...\n",
              "Rapid heating and cooling molding allows medica...  recent tools and technologies in injection hea...  ...  ['Rapid heating and cooling molding allows med...\n",
              "\n",
              "[5 rows x 5 columns]"
            ]
          },
          "metadata": {
            "tags": []
          },
          "execution_count": 134
        }
      ]
    },
    {
      "cell_type": "code",
      "metadata": {
        "id": "KjXybrrTCsbJ",
        "colab_type": "code",
        "colab": {
          "base_uri": "https://localhost:8080/",
          "height": 1000
        },
        "outputId": "ffdd0789-35cc-4d22-eb7a-192953639b59"
      },
      "source": [
        "#https://github.com/UKPLab/sentence-transformers/blob/master/examples/application_semantic_search.py\n",
        "\"\"\"\n",
        "This is a simple application for sentence embeddings: semantic search\n",
        "We have a corpus with various sentences. Then, for a given query sentence,\n",
        "we want to find the most similar sentence in this corpus.\n",
        "This script outputs for various queries the top 5 most similar sentences in the corpus.\n",
        "\"\"\"\n",
        "\n",
        "from sentence_transformers import SentenceTransformer\n",
        "import scipy.spatial\n",
        "import pickle as pkl\n",
        "embedder = SentenceTransformer('bert-base-nli-mean-tokens')\n",
        "\n",
        "# Corpus with example sentences\n",
        "corpus = df_sentences_list\n",
        "corpus_embeddings = embedder.encode(corpus,show_progress_bar=True)\n",
        "#with open(\"Processed_Full.csv\" , \"rb\") as file_:\n",
        "#  corpus_embeddings = pd.read_csv(file_)\n",
        "\n",
        "# Query sentences:\n",
        "queries = ['reduction in production costs injection molding']\n",
        "query_embeddings = embedder.encode(queries,show_progress_bar=True)\n",
        "\n",
        "# Find the closest 5 sentences of the corpus for each query sentence based on cosine similarity\n",
        "closest_n = 5\n",
        "print(\"\\nTop 5 most similar sentences in corpus:\")\n",
        "for query, query_embedding in zip(queries, query_embeddings):\n",
        "    distances = scipy.spatial.distance.cdist([query_embedding], corpus_embeddings, \"cosine\")[0]\n",
        "\n",
        "    results = zip(range(len(distances)), distances)\n",
        "    results = sorted(results, key=lambda x: x[1])\n",
        "\n",
        "    print(\"\\n\\n=========================================================\")\n",
        "    print(\"==========================Query==============================\")\n",
        "    print(\"===\",query,\"=====\")\n",
        "    print(\"=========================================================\")\n",
        "\n",
        "\n",
        "    for idx, distance in results[0:closest_n]:\n",
        "        print(\"Score:   \", \"(Score: %.4f)\" % (1-distance) , \"\\n\" )\n",
        "        print(\"Paragraph:   \", corpus[idx].strip(), \"\\n\" )\n",
        "        row_dict = df.loc[df.index== corpus[idx]].to_dict()\n",
        "        print(\"Keyword:  \" , row_dict[\"keyword\"][corpus[idx]] , \"\\n\")\n",
        "        print(\"Title:  \" , row_dict[\"title\"][corpus[idx]] , \"\\n\")\n",
        "        print(\"Domain:  \" , row_dict[\"domain\"][corpus[idx]] , \"\\n\")\n",
        "        print(\"Url:  \" , row_dict[\"url\"][corpus[idx]] , \"\\n\")\n",
        "        print(\"-------------------------------------------\")"
      ],
      "execution_count": 135,
      "outputs": [
        {
          "output_type": "stream",
          "text": [
            "Batches: 100%|██████████| 44/44 [00:54<00:00,  1.24s/it]\n",
            "Batches: 100%|██████████| 1/1 [00:00<00:00, 10.92it/s]"
          ],
          "name": "stderr"
        },
        {
          "output_type": "stream",
          "text": [
            "\n",
            "Top 5 most similar sentences in corpus:\n",
            "\n",
            "\n",
            "=========================================================\n",
            "==========================Query==============================\n",
            "=== reduction in production costs injection molding =====\n",
            "=========================================================\n",
            "Score:    (Score: 0.8191) \n",
            "\n",
            "Paragraph:    Gasassisted injection molding on the other hand is a dry process in the event of tool  molding lies in the field of material and cooling timesaving production of  where the GIT or the WIT permits a significant reduction in production costs  reduction in cooling time compared with GAIM  measures needed to avoid or \n",
            "\n",
            "Keyword:   avoid cooling time and production costs for injection molding \n",
            "\n",
            "Title:   Injection Moulding 2002: Barcelona, Spain, 18th-19th March, 2002 \n",
            "\n",
            "Domain:   books.google.com \n",
            "\n",
            "Url:   https://books.google.com/books?id=JJ4nr9cwXD4C&pg=PA80&lpg=PA80&dq=avoid+cooling+time+and+production+costs+for+injection+molding&source=bl&ots=ZS2Q5q2Cid&sig=ACfU3U1YZS9LWAZCkw6ZuSYr5v84UwAgHg&hl=en&sa=X&ved=2ahUKEwjni6mJ5f7oAhVMRqwKHUSHAr04ChDoATAAegQIChAB \n",
            "\n",
            "-------------------------------------------\n",
            "Score:    (Score: 0.7495) \n",
            "\n",
            "Paragraph:    These reduce tooling costs as you avoid additional pieces to the mold that add to manufacturing costs In addition to the rise in manufacturing costs of using \n",
            "\n",
            "Keyword:   avoid production costs using recent injection mould technologies \n",
            "\n",
            "Title:   11 Ways to Reduce Injection Molding Costs | Design Tip \n",
            "\n",
            "Domain:   www.protolabs.com \n",
            "\n",
            "Url:   https://www.protolabs.com/resources/design-tips/11-tips-to-reduce-injection-molding-costs/ \n",
            "\n",
            "-------------------------------------------\n",
            "Score:    (Score: 0.7495) \n",
            "\n",
            "Paragraph:    These reduce tooling costs as you avoid additional pieces to the mold that add to manufacturing costs In addition to the rise in manufacturing costs of using \n",
            "\n",
            "Keyword:   avoid production costs using injection mould technologies \n",
            "\n",
            "Title:   11 Ways to Reduce Injection Molding Costs | Design Tip \n",
            "\n",
            "Domain:   www.protolabs.com \n",
            "\n",
            "Url:   https://www.protolabs.com/resources/design-tips/11-tips-to-reduce-injection-molding-costs/ \n",
            "\n",
            "-------------------------------------------\n",
            "Score:    (Score: 0.7466) \n",
            "\n",
            "Paragraph:    which reduces both tooling cost and required injection mold ing machine size  that are cored out cool rapidly reducing overall cycle time How Does It Work  were hollowed out prior to overmolding to avoid sink marks on the substrate \n",
            "\n",
            "Keyword:   technologies in injection molding to avoid cooling time \n",
            "\n",
            "Title:   Gas-Assist Injection Molding: An Innovative Medical Technology \n",
            "\n",
            "Domain:   www.mack.com \n",
            "\n",
            "Url:   https://www.mack.com/wp-content/uploads/2015/03/Gas-Assist_Injection_Molding.pdf \n",
            "\n",
            "-------------------------------------------\n",
            "Score:    (Score: 0.6917) \n",
            "\n",
            "Paragraph:    How much your parts warp What direction the warpage tends to occur What  If there is inadequate mold injection hold time the packing process is minimized  product is ejected before the material incurred proper and even cooling time \n",
            "\n",
            "Keyword:   avoid cooling time and production costs for injection molding \n",
            "\n",
            "Title:   Mold Warpage - Plastic Molded Concepts \n",
            "\n",
            "Domain:   www.pmcplastics.com \n",
            "\n",
            "Url:   https://www.pmcplastics.com/blog-solutions-for-injection-molding-warpage/ \n",
            "\n",
            "-------------------------------------------\n"
          ],
          "name": "stdout"
        },
        {
          "output_type": "stream",
          "text": [
            "\n"
          ],
          "name": "stderr"
        }
      ]
    },
    {
      "cell_type": "code",
      "metadata": {
        "id": "qvGn_tIGGunr",
        "colab_type": "code",
        "colab": {}
      },
      "source": [
        ""
      ],
      "execution_count": 0,
      "outputs": []
    }
  ]
}