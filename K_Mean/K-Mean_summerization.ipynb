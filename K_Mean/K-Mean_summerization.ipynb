{
 "cells": [
  {
   "cell_type": "code",
   "execution_count": 2,
   "metadata": {},
   "outputs": [
    {
     "name": "stderr",
     "output_type": "stream",
     "text": [
      "Using TensorFlow backend.\n"
     ]
    }
   ],
   "source": [
    "import numpy as np\n",
    "import pandas as pd\n",
    "from matplotlib import pyplot as plt\n",
    "import re\n",
    "from nltk.tokenize import sent_tokenize\n",
    "from keras.preprocessing.text import Tokenizer\n",
    "from keras.preprocessing.sequence import pad_sequences\n",
    "import gensim.models.keyedvectors as word2vec\n",
    "import gc\n",
    "import string\n",
    "from sklearn.cluster import KMeans\n",
    "from sklearn.metrics import pairwise_distances_argmin_min\n",
    "from IPython.core.interactiveshell import InteractiveShell\n",
    "InteractiveShell.ast_node_interactivity = \"all\""
   ]
  },
  {
   "cell_type": "code",
   "execution_count": 3,
   "metadata": {},
   "outputs": [],
   "source": [
    "#df = pd.read_csv('Reviews.csv')"
   ]
  },
  {
   "cell_type": "code",
   "execution_count": 4,
   "metadata": {},
   "outputs": [],
   "source": [
    "def split_sentence(sent):\n",
    "    sentences = sent_tokenize(sent)\n",
    "    for i in reversed(range(len(sentences))):\n",
    "        se = sentences[i]\n",
    "        sentences[i] = se.strip()\n",
    "        if se == '':\n",
    "            sentences.pop(i)\n",
    "    return(sentences)"
   ]
  },
  {
   "cell_type": "code",
   "execution_count": 12,
   "metadata": {},
   "outputs": [],
   "source": [
    "def loadEmbeddingMatrix(typeToLoad):\n",
    "        #load different embedding file from Kaggle depending on which embedding \n",
    "        #matrix we are going to experiment with\n",
    "        if(typeToLoad==\"glove\"):\n",
    "            EMBEDDING_FILE='glove.twitter.27B.25d.txt'\n",
    "            embed_size = 25\n",
    "        if (typeToLoad==\"wiki\"):\n",
    "            EMBEDDING_FILE='wiki-news-300d-1M.vec'\n",
    "            embed_size = 300\n",
    "        \n",
    "\n",
    "\n",
    "        if(typeToLoad==\"glove\" or typeToLoad ==\"wiki\"):\n",
    "            embeddings_index = dict()\n",
    "            #Transfer the embedding weights into a dictionary by iterating through every line of the file.\n",
    "            f = open(EMBEDDING_FILE, encoding='utf-8')\n",
    "            for line in f:\n",
    "                #split up line into an indexed array\n",
    "                values = line.split()\n",
    "                #first index is word\n",
    "                word = values[0]\n",
    "                #store the rest of the values in the array as a new array\n",
    "                coefs = np.asarray(values[1:], dtype=float)\n",
    "                embeddings_index[word] = coefs #50 dimensions\n",
    "            f.close()\n",
    "            print('Loaded %s word vectors.' % len(embeddings_index))\n",
    "       # else:\n",
    "        #    embeddings_index = dict()\n",
    "         #   for word in word2vecDict.wv.vocab:\n",
    "          #      embeddings_index[word] = word2vecDict.word_vec(word)\n",
    "           # print('Loaded %s word vectors.' % len(embeddings_index))\n",
    "            \n",
    "        gc.collect()\n",
    "        return embeddings_index #, embedding_matrix"
   ]
  },
  {
   "cell_type": "code",
   "execution_count": 13,
   "metadata": {},
   "outputs": [
    {
     "name": "stdout",
     "output_type": "stream",
     "text": [
      "Loaded 1193515 word vectors.\n",
      "Wall time: 14.7 s\n"
     ]
    }
   ],
   "source": [
    "%time emb_index= loadEmbeddingMatrix('glove')"
   ]
  },
  {
   "cell_type": "code",
   "execution_count": 14,
   "metadata": {},
   "outputs": [],
   "source": [
    "text = \"\"\"In the production of SMC (Sheet Moulding Compound), the maturing of the semi-finished product (resin+glass fibre) is of decisive importance. The associated thickening of the material determines the viscosity and thus the quality of the end product. Possible defects due to short maturing and soft semi-finished products are lack of fibre transport, while too long maturing and hard semi-finished products result in incompletely filled components. By adjusting the press parameters such as closing force, closing speed, mould temperature etc., the fluctuations in thickening can normally be compensated. By measuring the flowability/viscosity of the material or by measuring additional parameters during the manufacturing process, the ideal process window for the production of SMC is to be controlled even better.\"\"\""
   ]
  },
  {
   "cell_type": "markdown",
   "metadata": {},
   "source": [
    "Keras:"
   ]
  },
  {
   "cell_type": "code",
   "execution_count": 15,
   "metadata": {},
   "outputs": [],
   "source": [
    "list_of_sentence = split_sentence(text)\n",
    "max_feature = 5000\n",
    "tokenizer = Tokenizer(num_words=max_feature)\n",
    "tokenizer.fit_on_texts(list_of_sentence)\n",
    "list_of_token_train = tokenizer.texts_to_sequences(list_of_sentence)\n",
    "maxlen = 300\n",
    "x_t = pad_sequences(list_of_token_train,maxlen=maxlen)"
   ]
  },
  {
   "cell_type": "code",
   "execution_count": 16,
   "metadata": {},
   "outputs": [],
   "source": [
    "def embadding_fr_sentence(sentence):\n",
    "    sent_emb = []\n",
    "    len_sent = len(sentence)\n",
    "    for i in sentence:\n",
    "        i = i.lower()\n",
    "        word = re.sub('[^\\w]','',i).split()\n",
    "        if len(word)>0:\n",
    "            for k in word:\n",
    "                if(k in string.punctuation):\n",
    "                    word.remove(k)\n",
    "\n",
    "        else:\n",
    "            print(\"Removed Sentence:\",i)\n",
    "            continue\n",
    "        res = calculate_sentence_embadding(word)\n",
    "        sent_emb.append(res)\n",
    "    return (sent_emb)"
   ]
  },
  {
   "cell_type": "code",
   "execution_count": 17,
   "metadata": {},
   "outputs": [],
   "source": [
    "def calculate_sentence_embadding(word):\n",
    "    emb_li = []\n",
    "    for k in word[0][0]:\n",
    "        emb_vector = emb_index.get(k)\n",
    "        if emb_vector is not None:\n",
    "            if len(emb_vector) == 25:\n",
    "                emb_li.append(list(emb_vector))\n",
    "    mean_arr = np.array(emb_li)\n",
    "    mean_arr = np.mean(mean_arr, axis=0)\n",
    "    return(mean_arr)\n",
    "            "
   ]
  },
  {
   "cell_type": "code",
   "execution_count": 18,
   "metadata": {},
   "outputs": [
    {
     "name": "stdout",
     "output_type": "stream",
     "text": [
      "In the production of SMC (Sheet Moulding Compound), the maturing of the semi-finished product (resin+glass fibre) is of decisive importance.Possible defects due to short maturing and soft semi-finished products are lack of fibre transport, while too long maturing and hard semi-finished products result in incompletely filled components.By adjusting the press parameters such as closing force, closing speed, mould temperature etc., the fluctuations in thickening can normally be compensated.\n"
     ]
    }
   ],
   "source": [
    "sent_embadding = embadding_fr_sentence(list_of_sentence)\n",
    "if len(sent_embadding) > 0:\n",
    "    cluster = int(np.ceil(len(sent_embadding) ** 0.5))\n",
    "    kmean = KMeans(init='k-means++',n_clusters=cluster, random_state=0)\n",
    "    kmean = kmean.fit(sent_embadding)\n",
    "    avg = []\n",
    "    closest = []\n",
    "    for j in range(cluster):\n",
    "        ix = np.where(kmean.labels_ == j)[0]\n",
    "        avg.append(np.mean(ix))\n",
    "    closest,_= pairwise_distances_argmin_min(kmean.cluster_centers_, sent_embadding)\n",
    "    ordering = sorted(range(cluster), key=lambda k: avg[k])\n",
    "    summ = \"\".join(list_of_sentence[closest[ix]] for ix in ordering)\n",
    "    print(summ)"
   ]
  },
  {
   "cell_type": "code",
   "execution_count": 56,
   "metadata": {},
   "outputs": [
    {
     "data": {
      "text/plain": [
       "'In the production of SMC (Sheet Moulding Compound), the maturing of the semi-finished product (resin+glass fibre) is of decisive importance. The associated thickening of the material determines the viscosity and thus the quality of the end product. Possible defects due to short maturing and soft semi-finished products are lack of fibre transport, while too long maturing and hard semi-finished products result in incompletely filled components. By adjusting the press parameters such as closing force, closing speed, mould temperature etc., the fluctuations in thickening can normally be compensated. By measuring the flowability/viscosity of the material or by measuring additional parameters during the manufacturing process, the ideal process window for the production of SMC is to be controlled even better.'"
      ]
     },
     "execution_count": 56,
     "metadata": {},
     "output_type": "execute_result"
    }
   ],
   "source": [
    "text"
   ]
  }
 ],
 "metadata": {
  "kernelspec": {
   "display_name": "Python 3",
   "language": "python",
   "name": "python3"
  },
  "language_info": {
   "codemirror_mode": {
    "name": "ipython",
    "version": 3
   },
   "file_extension": ".py",
   "mimetype": "text/x-python",
   "name": "python",
   "nbconvert_exporter": "python",
   "pygments_lexer": "ipython3",
   "version": "3.7.4"
  }
 },
 "nbformat": 4,
 "nbformat_minor": 4
}
